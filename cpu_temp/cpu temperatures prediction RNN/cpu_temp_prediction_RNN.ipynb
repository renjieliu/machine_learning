{
 "cells": [
  {
   "cell_type": "code",
   "execution_count": 11,
   "metadata": {},
   "outputs": [],
   "source": [
    "import pandas as pd\n",
    "import matplotlib.pyplot as plt\n",
    "import seaborn as sns \n",
    "import numpy as np"
   ]
  },
  {
   "cell_type": "code",
   "execution_count": 116,
   "metadata": {},
   "outputs": [],
   "source": [
    "df = pd.read_csv('../../Share/cpu_temp_24.csv', sep = '\\t', parse_dates=True)"
   ]
  },
  {
   "cell_type": "code",
   "execution_count": 120,
   "metadata": {},
   "outputs": [],
   "source": [
    "df = df[ (df['dates_hour'] > '2017-05') & (df['dates_hour'] < '2017-06')]"
   ]
  },
  {
   "cell_type": "code",
   "execution_count": 121,
   "metadata": {},
   "outputs": [],
   "source": [
    "df.columns = ['dates_hour', 'temp']"
   ]
  },
  {
   "cell_type": "code",
   "execution_count": 122,
   "metadata": {},
   "outputs": [],
   "source": [
    "df = df['temp']"
   ]
  },
  {
   "cell_type": "code",
   "execution_count": 123,
   "metadata": {},
   "outputs": [],
   "source": [
    "df = df.reset_index()"
   ]
  },
  {
   "cell_type": "code",
   "execution_count": 125,
   "metadata": {},
   "outputs": [
    {
     "data": {
      "text/html": [
       "<div>\n",
       "<style scoped>\n",
       "    .dataframe tbody tr th:only-of-type {\n",
       "        vertical-align: middle;\n",
       "    }\n",
       "\n",
       "    .dataframe tbody tr th {\n",
       "        vertical-align: top;\n",
       "    }\n",
       "\n",
       "    .dataframe thead th {\n",
       "        text-align: right;\n",
       "    }\n",
       "</style>\n",
       "<table border=\"1\" class=\"dataframe\">\n",
       "  <thead>\n",
       "    <tr style=\"text-align: right;\">\n",
       "      <th></th>\n",
       "      <th>index</th>\n",
       "      <th>temp</th>\n",
       "    </tr>\n",
       "  </thead>\n",
       "  <tbody>\n",
       "    <tr>\n",
       "      <th>0</th>\n",
       "      <td>17949</td>\n",
       "      <td>45.614006</td>\n",
       "    </tr>\n",
       "    <tr>\n",
       "      <th>1</th>\n",
       "      <td>17950</td>\n",
       "      <td>45.354776</td>\n",
       "    </tr>\n",
       "    <tr>\n",
       "      <th>2</th>\n",
       "      <td>17951</td>\n",
       "      <td>45.184314</td>\n",
       "    </tr>\n",
       "    <tr>\n",
       "      <th>3</th>\n",
       "      <td>17952</td>\n",
       "      <td>44.945099</td>\n",
       "    </tr>\n",
       "    <tr>\n",
       "      <th>4</th>\n",
       "      <td>17953</td>\n",
       "      <td>44.718489</td>\n",
       "    </tr>\n",
       "    <tr>\n",
       "      <th>...</th>\n",
       "      <td>...</td>\n",
       "      <td>...</td>\n",
       "    </tr>\n",
       "    <tr>\n",
       "      <th>739</th>\n",
       "      <td>18688</td>\n",
       "      <td>45.590884</td>\n",
       "    </tr>\n",
       "    <tr>\n",
       "      <th>740</th>\n",
       "      <td>18689</td>\n",
       "      <td>45.810799</td>\n",
       "    </tr>\n",
       "    <tr>\n",
       "      <th>741</th>\n",
       "      <td>18690</td>\n",
       "      <td>45.835203</td>\n",
       "    </tr>\n",
       "    <tr>\n",
       "      <th>742</th>\n",
       "      <td>18691</td>\n",
       "      <td>45.958123</td>\n",
       "    </tr>\n",
       "    <tr>\n",
       "      <th>743</th>\n",
       "      <td>18692</td>\n",
       "      <td>45.833146</td>\n",
       "    </tr>\n",
       "  </tbody>\n",
       "</table>\n",
       "<p>744 rows × 2 columns</p>\n",
       "</div>"
      ],
      "text/plain": [
       "     index       temp\n",
       "0    17949  45.614006\n",
       "1    17950  45.354776\n",
       "2    17951  45.184314\n",
       "3    17952  44.945099\n",
       "4    17953  44.718489\n",
       "..     ...        ...\n",
       "739  18688  45.590884\n",
       "740  18689  45.810799\n",
       "741  18690  45.835203\n",
       "742  18691  45.958123\n",
       "743  18692  45.833146\n",
       "\n",
       "[744 rows x 2 columns]"
      ]
     },
     "execution_count": 125,
     "metadata": {},
     "output_type": "execute_result"
    }
   ],
   "source": [
    "df"
   ]
  },
  {
   "cell_type": "code",
   "execution_count": 126,
   "metadata": {},
   "outputs": [],
   "source": [
    "df = pd.DataFrame(df['temp'])"
   ]
  },
  {
   "cell_type": "code",
   "execution_count": 127,
   "metadata": {},
   "outputs": [
    {
     "data": {
      "text/html": [
       "<div>\n",
       "<style scoped>\n",
       "    .dataframe tbody tr th:only-of-type {\n",
       "        vertical-align: middle;\n",
       "    }\n",
       "\n",
       "    .dataframe tbody tr th {\n",
       "        vertical-align: top;\n",
       "    }\n",
       "\n",
       "    .dataframe thead th {\n",
       "        text-align: right;\n",
       "    }\n",
       "</style>\n",
       "<table border=\"1\" class=\"dataframe\">\n",
       "  <thead>\n",
       "    <tr style=\"text-align: right;\">\n",
       "      <th></th>\n",
       "      <th>temp</th>\n",
       "    </tr>\n",
       "  </thead>\n",
       "  <tbody>\n",
       "    <tr>\n",
       "      <th>0</th>\n",
       "      <td>45.614006</td>\n",
       "    </tr>\n",
       "    <tr>\n",
       "      <th>1</th>\n",
       "      <td>45.354776</td>\n",
       "    </tr>\n",
       "    <tr>\n",
       "      <th>2</th>\n",
       "      <td>45.184314</td>\n",
       "    </tr>\n",
       "    <tr>\n",
       "      <th>3</th>\n",
       "      <td>44.945099</td>\n",
       "    </tr>\n",
       "    <tr>\n",
       "      <th>4</th>\n",
       "      <td>44.718489</td>\n",
       "    </tr>\n",
       "    <tr>\n",
       "      <th>...</th>\n",
       "      <td>...</td>\n",
       "    </tr>\n",
       "    <tr>\n",
       "      <th>739</th>\n",
       "      <td>45.590884</td>\n",
       "    </tr>\n",
       "    <tr>\n",
       "      <th>740</th>\n",
       "      <td>45.810799</td>\n",
       "    </tr>\n",
       "    <tr>\n",
       "      <th>741</th>\n",
       "      <td>45.835203</td>\n",
       "    </tr>\n",
       "    <tr>\n",
       "      <th>742</th>\n",
       "      <td>45.958123</td>\n",
       "    </tr>\n",
       "    <tr>\n",
       "      <th>743</th>\n",
       "      <td>45.833146</td>\n",
       "    </tr>\n",
       "  </tbody>\n",
       "</table>\n",
       "<p>744 rows × 1 columns</p>\n",
       "</div>"
      ],
      "text/plain": [
       "          temp\n",
       "0    45.614006\n",
       "1    45.354776\n",
       "2    45.184314\n",
       "3    44.945099\n",
       "4    44.718489\n",
       "..         ...\n",
       "739  45.590884\n",
       "740  45.810799\n",
       "741  45.835203\n",
       "742  45.958123\n",
       "743  45.833146\n",
       "\n",
       "[744 rows x 1 columns]"
      ]
     },
     "execution_count": 127,
     "metadata": {},
     "output_type": "execute_result"
    }
   ],
   "source": [
    "df"
   ]
  },
  {
   "cell_type": "code",
   "execution_count": 128,
   "metadata": {},
   "outputs": [
    {
     "data": {
      "image/png": "[encoded data removed]",
      "text/plain": [
       "<Figure size 432x288 with 1 Axes>"
      ]
     },
     "metadata": {
      "needs_background": "light"
     },
     "output_type": "display_data"
    }
   ],
   "source": [
    "df.plot();"
   ]
  },
  {
   "cell_type": "code",
   "execution_count": 129,
   "metadata": {},
   "outputs": [],
   "source": [
    "test_size = 48\n",
    "test_ind = len(df) - test_size"
   ]
  },
  {
   "cell_type": "code",
   "execution_count": 130,
   "metadata": {},
   "outputs": [],
   "source": [
    "train = df.iloc[:test_ind]\n",
    "test = df.iloc[test_ind:]"
   ]
  },
  {
   "cell_type": "code",
   "execution_count": 131,
   "metadata": {},
   "outputs": [],
   "source": [
    "from sklearn.preprocessing import MinMaxScaler\n",
    "scaler = MinMaxScaler()"
   ]
  },
  {
   "cell_type": "code",
   "execution_count": 132,
   "metadata": {},
   "outputs": [
    {
     "data": {
      "text/plain": [
       "MinMaxScaler(copy=True, feature_range=(0, 1))"
      ]
     },
     "execution_count": 132,
     "metadata": {},
     "output_type": "execute_result"
    }
   ],
   "source": [
    "scaler.fit(train)"
   ]
  },
  {
   "cell_type": "code",
   "execution_count": 133,
   "metadata": {},
   "outputs": [],
   "source": [
    "scaled_train = scaler.transform(train)"
   ]
  },
  {
   "cell_type": "code",
   "execution_count": 134,
   "metadata": {},
   "outputs": [],
   "source": [
    "scaled_test = scaler.transform(test)"
   ]
  },
  {
   "cell_type": "code",
   "execution_count": 135,
   "metadata": {},
   "outputs": [],
   "source": [
    "from tensorflow.keras.preprocessing.sequence import TimeseriesGenerator"
   ]
  },
  {
   "cell_type": "code",
   "execution_count": 136,
   "metadata": {},
   "outputs": [],
   "source": [
    "length = 24"
   ]
  },
  {
   "cell_type": "code",
   "execution_count": 137,
   "metadata": {},
   "outputs": [],
   "source": [
    "generator = TimeseriesGenerator(scaled_train, scaled_train, length=length, batch_size = 1)"
   ]
  },
  {
   "cell_type": "code",
   "execution_count": 138,
   "metadata": {},
   "outputs": [],
   "source": [
    "X,y = generator[0]"
   ]
  },
  {
   "cell_type": "code",
   "execution_count": 139,
   "metadata": {},
   "outputs": [],
   "source": [
    "from tensorflow.keras.models import Sequential\n",
    "from tensorflow.keras.layers import Dense, LSTM"
   ]
  },
  {
   "cell_type": "code",
   "execution_count": 140,
   "metadata": {},
   "outputs": [],
   "source": [
    "n_features = 1"
   ]
  },
  {
   "cell_type": "code",
   "execution_count": 141,
   "metadata": {},
   "outputs": [],
   "source": [
    "model = Sequential()\n",
    "model.add(LSTM(100, activation = 'relu', input_shape = (length, n_features)))\n",
    "model.add(Dense(1))\n",
    "\n",
    "model.compile(optimizer = 'adam', loss = 'mse')"
   ]
  },
  {
   "cell_type": "code",
   "execution_count": 142,
   "metadata": {},
   "outputs": [],
   "source": [
    "# model.summary()"
   ]
  },
  {
   "cell_type": "code",
   "execution_count": 143,
   "metadata": {},
   "outputs": [],
   "source": [
    "from tensorflow.keras.callbacks import EarlyStopping"
   ]
  },
  {
   "cell_type": "code",
   "execution_count": 144,
   "metadata": {},
   "outputs": [],
   "source": [
    "early_stop = EarlyStopping(monitor= 'val_loss', patience=2)"
   ]
  },
  {
   "cell_type": "code",
   "execution_count": 145,
   "metadata": {},
   "outputs": [],
   "source": [
    "validation_generator = TimeseriesGenerator(scaled_test, scaled_test, length = length, batch_size=1)"
   ]
  },
  {
   "cell_type": "code",
   "execution_count": 147,
   "metadata": {
    "scrolled": false
   },
   "outputs": [
    {
     "name": "stdout",
     "output_type": "stream",
     "text": [
      "WARNING:tensorflow:sample_weight modes were coerced from\n",
      "  ...\n",
      "    to  \n",
      "  ['...']\n",
      "WARNING:tensorflow:sample_weight modes were coerced from\n",
      "  ...\n",
      "    to  \n",
      "  ['...']\n",
      "Train for 672 steps, validate for 24 steps\n",
      "Epoch 1/20\n",
      "672/672 [==============================] - 40s 60ms/step - loss: 0.0081 - val_loss: 0.0019\n",
      "Epoch 2/20\n",
      "672/672 [==============================] - 41s 61ms/step - loss: 0.0064 - val_loss: 0.0014\n",
      "Epoch 3/20\n",
      "672/672 [==============================] - 42s 62ms/step - loss: 0.0046 - val_loss: 0.0011\n",
      "Epoch 4/20\n",
      "672/672 [==============================] - 42s 62ms/step - loss: 0.0041 - val_loss: 0.0011\n",
      "Epoch 5/20\n",
      "672/672 [==============================] - 42s 62ms/step - loss: 0.0036 - val_loss: 0.0011\n",
      "Epoch 6/20\n",
      "672/672 [==============================] - 40s 59ms/step - loss: 0.0034 - val_loss: 0.0023\n",
      "Epoch 7/20\n",
      "672/672 [==============================] - 37s 56ms/step - loss: 0.0033 - val_loss: 0.0010\n",
      "Epoch 8/20\n",
      "672/672 [==============================] - 37s 55ms/step - loss: 0.0031 - val_loss: 0.0012\n",
      "Epoch 9/20\n",
      "672/672 [==============================] - 37s 56ms/step - loss: 0.0030 - val_loss: 0.0011\n",
      "Epoch 10/20\n",
      "672/672 [==============================] - 37s 55ms/step - loss: 0.0031 - val_loss: 0.0025\n",
      "Epoch 11/20\n",
      "672/672 [==============================] - 37s 55ms/step - loss: 0.0030 - val_loss: 0.0022\n",
      "Epoch 12/20\n",
      "672/672 [==============================] - 37s 55ms/step - loss: 0.0031 - val_loss: 0.0021\n",
      "Epoch 13/20\n",
      "672/672 [==============================] - 37s 55ms/step - loss: 0.0029 - val_loss: 0.0012\n",
      "Epoch 14/20\n",
      "672/672 [==============================] - 37s 55ms/step - loss: 0.0030 - val_loss: 0.0012\n",
      "Epoch 15/20\n",
      "672/672 [==============================] - 37s 55ms/step - loss: 0.0029 - val_loss: 0.0011\n",
      "Epoch 16/20\n",
      "672/672 [==============================] - 37s 55ms/step - loss: 0.0028 - val_loss: 0.0014\n",
      "Epoch 17/20\n",
      "672/672 [==============================] - 37s 55ms/step - loss: 0.0028 - val_loss: 0.0011\n",
      "Epoch 18/20\n",
      "672/672 [==============================] - 37s 55ms/step - loss: 0.0028 - val_loss: 0.0012\n",
      "Epoch 19/20\n",
      "672/672 [==============================] - 37s 55ms/step - loss: 0.0028 - val_loss: 0.0011\n",
      "Epoch 20/20\n",
      "672/672 [==============================] - 37s 55ms/step - loss: 0.0027 - val_loss: 0.0019\n"
     ]
    },
    {
     "data": {
      "text/plain": [
       "<tensorflow.python.keras.callbacks.History at 0x87448950>"
      ]
     },
     "execution_count": 147,
     "metadata": {},
     "output_type": "execute_result"
    }
   ],
   "source": [
    "model.fit_generator(generator, epochs= 20, validation_data=validation_generator) #, callbacks=[early_stop])"
   ]
  },
  {
   "cell_type": "code",
   "execution_count": 148,
   "metadata": {},
   "outputs": [],
   "source": [
    "losses = pd.DataFrame(model.history.history)"
   ]
  },
  {
   "cell_type": "code",
   "execution_count": 149,
   "metadata": {},
   "outputs": [],
   "source": [
    "test_predictions =  []\n",
    "first_eval_batch = scaled_train[-length:]\n",
    "curr_batch = first_eval_batch.reshape((1, length, n_features))\n",
    "\n",
    "for i in range(len(test)):\n",
    "    curr_pred = model.predict(curr_batch)[0]\n",
    "    test_predictions.append(curr_pred)\n",
    "    curr_batch = np.append(curr_batch[:, 1:, :], [[curr_pred]], axis = 1 )"
   ]
  },
  {
   "cell_type": "code",
   "execution_count": 150,
   "metadata": {},
   "outputs": [],
   "source": [
    "true_predication = scaler.inverse_transform(test_predictions)"
   ]
  },
  {
   "cell_type": "code",
   "execution_count": 151,
   "metadata": {},
   "outputs": [
    {
     "name": "stderr",
     "output_type": "stream",
     "text": [
      "/usr/local/lib/python3.7/dist-packages/ipykernel_launcher.py:1: SettingWithCopyWarning: \n",
      "A value is trying to be set on a copy of a slice from a DataFrame.\n",
      "Try using .loc[row_indexer,col_indexer] = value instead\n",
      "\n",
      "See the caveats in the documentation: https://pandas.pydata.org/pandas-docs/stable/user_guide/indexing.html#returning-a-view-versus-a-copy\n",
      "  \"\"\"Entry point for launching an IPython kernel.\n"
     ]
    }
   ],
   "source": [
    "test['predictions'] = true_predication"
   ]
  },
  {
   "cell_type": "code",
   "execution_count": 152,
   "metadata": {},
   "outputs": [
    {
     "data": {
      "text/plain": [
       "<matplotlib.axes._subplots.AxesSubplot at 0x86b36d30>"
      ]
     },
     "execution_count": 152,
     "metadata": {},
     "output_type": "execute_result"
    },
    {
     "data": {
      "image/png": "[encoded data removed]",
      "text/plain": [
       "<Figure size 864x576 with 1 Axes>"
      ]
     },
     "metadata": {
      "needs_background": "light"
     },
     "output_type": "display_data"
    }
   ],
   "source": [
    "test.plot(figsize = (12,8))"
   ]
  },
  {
   "cell_type": "code",
   "execution_count": 153,
   "metadata": {},
   "outputs": [],
   "source": [
    "full_scaler = MinMaxScaler()"
   ]
  },
  {
   "cell_type": "code",
   "execution_count": 154,
   "metadata": {},
   "outputs": [],
   "source": [
    "scaled_full_data = full_scaler.fit_transform(df)"
   ]
  },
  {
   "cell_type": "code",
   "execution_count": 155,
   "metadata": {},
   "outputs": [],
   "source": [
    "length = 24\n",
    "generator = TimeseriesGenerator(scaled_full_data, scaled_full_data, length=length, batch_size=1)"
   ]
  },
  {
   "cell_type": "code",
   "execution_count": 156,
   "metadata": {},
   "outputs": [],
   "source": [
    "model = Sequential()\n",
    "model.add(LSTM(100, activation= 'relu', input_shape = (length, n_features)))\n",
    "model.add(Dense(1))\n",
    "\n",
    "model.compile(optimizer = 'adam', loss = 'mse')"
   ]
  },
  {
   "cell_type": "code",
   "execution_count": 157,
   "metadata": {},
   "outputs": [
    {
     "name": "stdout",
     "output_type": "stream",
     "text": [
      "WARNING:tensorflow:sample_weight modes were coerced from\n",
      "  ...\n",
      "    to  \n",
      "  ['...']\n",
      "Train for 720 steps\n",
      "Epoch 1/6\n",
      "720/720 [==============================] - 43s 59ms/step - loss: 0.0141\n",
      "Epoch 2/6\n",
      "720/720 [==============================] - 40s 55ms/step - loss: 0.0093\n",
      "Epoch 3/6\n",
      "720/720 [==============================] - 41s 56ms/step - loss: 0.0074\n",
      "Epoch 4/6\n",
      "720/720 [==============================] - 39s 55ms/step - loss: 0.0055\n",
      "Epoch 5/6\n",
      "720/720 [==============================] - 39s 55ms/step - loss: 0.0042\n",
      "Epoch 6/6\n",
      "720/720 [==============================] - 39s 54ms/step - loss: 0.0035\n"
     ]
    },
    {
     "data": {
      "text/plain": [
       "<tensorflow.python.keras.callbacks.History at 0x86a74d70>"
      ]
     },
     "execution_count": 157,
     "metadata": {},
     "output_type": "execute_result"
    }
   ],
   "source": [
    "model.fit_generator(generator, epochs=6)"
   ]
  },
  {
   "cell_type": "code",
   "execution_count": 177,
   "metadata": {},
   "outputs": [
    {
     "name": "stdout",
     "output_type": "stream",
     "text": [
      "0\n",
      "20\n",
      "40\n",
      "60\n",
      "80\n",
      "100\n",
      "120\n",
      "140\n",
      "160\n",
      "180\n",
      "200\n",
      "220\n"
     ]
    }
   ],
   "source": [
    "forecast =  []\n",
    "period = 240 #24 hours \n",
    "first_eval_batch = scaled_train[-length:]\n",
    "curr_batch = first_eval_batch.reshape((1, length, n_features))\n",
    "\n",
    "for i in range(period):\n",
    "    if i%20 ==0:print(i)\n",
    "    curr_pred = model.predict(curr_batch)[0]\n",
    "    forecast.append(curr_pred)\n",
    "    curr_batch = np.append(curr_batch[:, 1:, :], [[curr_pred]], axis = 1 )"
   ]
  },
  {
   "cell_type": "code",
   "execution_count": 178,
   "metadata": {},
   "outputs": [],
   "source": [
    "forecast = scaler.inverse_transform(forecast)"
   ]
  },
  {
   "cell_type": "code",
   "execution_count": 179,
   "metadata": {},
   "outputs": [],
   "source": [
    "forecast_index = pd.date_range(start = '2017-06-01', periods = period, freq=\"1H\")"
   ]
  },
  {
   "cell_type": "code",
   "execution_count": 180,
   "metadata": {},
   "outputs": [
    {
     "data": {
      "text/plain": [
       "DatetimeIndex(['2017-06-01 00:00:00', '2017-06-01 01:00:00',\n",
       "               '2017-06-01 02:00:00', '2017-06-01 03:00:00',\n",
       "               '2017-06-01 04:00:00', '2017-06-01 05:00:00',\n",
       "               '2017-06-01 06:00:00', '2017-06-01 07:00:00',\n",
       "               '2017-06-01 08:00:00', '2017-06-01 09:00:00',\n",
       "               ...\n",
       "               '2017-06-10 14:00:00', '2017-06-10 15:00:00',\n",
       "               '2017-06-10 16:00:00', '2017-06-10 17:00:00',\n",
       "               '2017-06-10 18:00:00', '2017-06-10 19:00:00',\n",
       "               '2017-06-10 20:00:00', '2017-06-10 21:00:00',\n",
       "               '2017-06-10 22:00:00', '2017-06-10 23:00:00'],\n",
       "              dtype='datetime64[ns]', length=240, freq='H')"
      ]
     },
     "execution_count": 180,
     "metadata": {},
     "output_type": "execute_result"
    }
   ],
   "source": [
    "forecast_index"
   ]
  },
  {
   "cell_type": "code",
   "execution_count": 181,
   "metadata": {},
   "outputs": [],
   "source": [
    "forecast_df = pd.DataFrame(data = forecast, index = forecast_index , columns = ['Forecast'])"
   ]
  },
  {
   "cell_type": "code",
   "execution_count": 182,
   "metadata": {},
   "outputs": [
    {
     "data": {
      "text/html": [
       "<div>\n",
       "<style scoped>\n",
       "    .dataframe tbody tr th:only-of-type {\n",
       "        vertical-align: middle;\n",
       "    }\n",
       "\n",
       "    .dataframe tbody tr th {\n",
       "        vertical-align: top;\n",
       "    }\n",
       "\n",
       "    .dataframe thead th {\n",
       "        text-align: right;\n",
       "    }\n",
       "</style>\n",
       "<table border=\"1\" class=\"dataframe\">\n",
       "  <thead>\n",
       "    <tr style=\"text-align: right;\">\n",
       "      <th></th>\n",
       "      <th>Forecast</th>\n",
       "    </tr>\n",
       "  </thead>\n",
       "  <tbody>\n",
       "    <tr>\n",
       "      <th>2017-06-01 00:00:00</th>\n",
       "      <td>4.430901e+01</td>\n",
       "    </tr>\n",
       "    <tr>\n",
       "      <th>2017-06-01 01:00:00</th>\n",
       "      <td>4.465984e+01</td>\n",
       "    </tr>\n",
       "    <tr>\n",
       "      <th>2017-06-01 02:00:00</th>\n",
       "      <td>4.496833e+01</td>\n",
       "    </tr>\n",
       "    <tr>\n",
       "      <th>2017-06-01 03:00:00</th>\n",
       "      <td>4.523337e+01</td>\n",
       "    </tr>\n",
       "    <tr>\n",
       "      <th>2017-06-01 04:00:00</th>\n",
       "      <td>4.546228e+01</td>\n",
       "    </tr>\n",
       "    <tr>\n",
       "      <th>...</th>\n",
       "      <td>...</td>\n",
       "    </tr>\n",
       "    <tr>\n",
       "      <th>2017-06-10 19:00:00</th>\n",
       "      <td>1.059515e+21</td>\n",
       "    </tr>\n",
       "    <tr>\n",
       "      <th>2017-06-10 20:00:00</th>\n",
       "      <td>1.440266e+21</td>\n",
       "    </tr>\n",
       "    <tr>\n",
       "      <th>2017-06-10 21:00:00</th>\n",
       "      <td>1.965403e+21</td>\n",
       "    </tr>\n",
       "    <tr>\n",
       "      <th>2017-06-10 22:00:00</th>\n",
       "      <td>2.677748e+21</td>\n",
       "    </tr>\n",
       "    <tr>\n",
       "      <th>2017-06-10 23:00:00</th>\n",
       "      <td>3.649589e+21</td>\n",
       "    </tr>\n",
       "  </tbody>\n",
       "</table>\n",
       "<p>240 rows × 1 columns</p>\n",
       "</div>"
      ],
      "text/plain": [
       "                         Forecast\n",
       "2017-06-01 00:00:00  4.430901e+01\n",
       "2017-06-01 01:00:00  4.465984e+01\n",
       "2017-06-01 02:00:00  4.496833e+01\n",
       "2017-06-01 03:00:00  4.523337e+01\n",
       "2017-06-01 04:00:00  4.546228e+01\n",
       "...                           ...\n",
       "2017-06-10 19:00:00  1.059515e+21\n",
       "2017-06-10 20:00:00  1.440266e+21\n",
       "2017-06-10 21:00:00  1.965403e+21\n",
       "2017-06-10 22:00:00  2.677748e+21\n",
       "2017-06-10 23:00:00  3.649589e+21\n",
       "\n",
       "[240 rows x 1 columns]"
      ]
     },
     "execution_count": 182,
     "metadata": {},
     "output_type": "execute_result"
    }
   ],
   "source": [
    "forecast_df"
   ]
  },
  {
   "cell_type": "code",
   "execution_count": 183,
   "metadata": {},
   "outputs": [
    {
     "data": {
      "image/png": "[encoded data removed]",
      "text/plain": [
       "<Figure size 432x288 with 1 Axes>"
      ]
     },
     "metadata": {
      "needs_background": "light"
     },
     "output_type": "display_data"
    }
   ],
   "source": [
    "real = pd.read_csv('../../Share/cpu_temp_24.csv', sep = '\\t', parse_dates=True)\n",
    "real = real[ (real['dates_hour'] > '2017-06-01') & (real['dates_hour'] < '2017-06-02')]\n",
    "ax = real.plot()"
   ]
  },
  {
   "cell_type": "code",
   "execution_count": 184,
   "metadata": {},
   "outputs": [
    {
     "data": {
      "text/plain": [
       "<matplotlib.axes._subplots.AxesSubplot at 0x972ac7d0>"
      ]
     },
     "execution_count": 184,
     "metadata": {},
     "output_type": "execute_result"
    },
    {
     "data": {
      "image/png": "[encoded data removed]",
      "text/plain": [
       "<Figure size 432x288 with 1 Axes>"
      ]
     },
     "metadata": {
      "needs_background": "light"
     },
     "output_type": "display_data"
    }
   ],
   "source": [
    "forecast_df.plot()"
   ]
  },
  {
   "cell_type": "code",
   "execution_count": null,
   "metadata": {},
   "outputs": [],
   "source": []
  },
  {
   "cell_type": "code",
   "execution_count": null,
   "metadata": {},
   "outputs": [],
   "source": []
  }
 ],
 "metadata": {
  "kernelspec": {
   "display_name": "Python 3",
   "language": "python",
   "name": "python3"
  },
  "language_info": {
   "codemirror_mode": {
    "name": "ipython",
    "version": 3
   },
   "file_extension": ".py",
   "mimetype": "text/x-python",
   "name": "python",
   "nbconvert_exporter": "python",
   "pygments_lexer": "ipython3",
   "version": "3.7.3"
  }
 },
 "nbformat": 4,
 "nbformat_minor": 4
}
