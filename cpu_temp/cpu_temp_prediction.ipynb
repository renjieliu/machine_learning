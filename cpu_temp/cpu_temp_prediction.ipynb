{
 "cells": [
  {
   "cell_type": "code",
   "execution_count": null,
   "metadata": {},
   "outputs": [],
   "source": [
    "#Predict the hour-minute-second CPU Temperature based on the previous data\n",
    "#Can also predict the Dates. But data loading is failed due to Memory Error."
   ]
  },
  {
   "cell_type": "code",
   "execution_count": 14,
   "metadata": {},
   "outputs": [],
   "source": [
    "import pandas as pd\n",
    "import seaborn as sns\n",
    "import numpy as np\n",
    "import matplotlib.pyplot as plt\n",
    "import random\n",
    "import tensorflow as tf\n",
    "from sklearn.model_selection import train_test_split\n",
    "from sklearn.preprocessing import MinMaxScaler\n",
    "from tensorflow.keras.models import Sequential\n",
    "from tensorflow.keras.layers import Dense,Dropout\n",
    "from tensorflow.keras.callbacks import EarlyStopping,TensorBoard\n",
    "from datetime import datetime"
   ]
  },
  {
   "cell_type": "code",
   "execution_count": 15,
   "metadata": {},
   "outputs": [],
   "source": [
    "df = pd.read_csv('cpu_temp_Jan_2020.csv', sep = '\\t') #Using Jan file to predict Feb data"
   ]
  },
  {
   "cell_type": "code",
   "execution_count": 16,
   "metadata": {},
   "outputs": [],
   "source": [
    "# df = df.sample(frac=0.1, random_state=101) #optional, per machine configuration\n",
    "# df.head()"
   ]
  },
  {
   "cell_type": "code",
   "execution_count": 17,
   "metadata": {},
   "outputs": [],
   "source": [
    "df = df.drop(['year', 'month', 'day'], axis = 1)\n",
    "\n",
    "dummies = pd.get_dummies(df, columns = ['hour','minute','second'], \n",
    "                         prefix = ['hour','minute','second'], drop_first=True)\n",
    "\n",
    "df = df.drop(['hour','minute','second', 'temp'],axis=1)\n",
    "df = pd.concat([df,dummies],axis=1)"
   ]
  },
  {
   "cell_type": "code",
   "execution_count": 18,
   "metadata": {},
   "outputs": [],
   "source": [
    "# dummies = pd.get_dummies(df, columns = ['year','month','day','hour','minute','second'], \n",
    "#                          prefix = ['year','month','day','hour','minute','second'], drop_first=True)\n",
    "\n",
    "# df = df.drop(['year', 'month','day','hour','minute','second', 'temp'],axis=1)\n",
    "# df = pd.concat([df,dummies],axis=1)\n"
   ]
  },
  {
   "cell_type": "code",
   "execution_count": 19,
   "metadata": {},
   "outputs": [],
   "source": [
    "\n",
    "datetime.now().strftime(\"%Y-%m-%d--%H%M\")\n",
    "# WINDOWS: Use \"logs\\\\fit\"\n",
    "# MACOS/LINUX: Use \"logs/fit\"\n",
    "\n",
    "log_directory = 'logs/fit'\n",
    "\n",
    "\n",
    "\n",
    "# OPTIONAL: ADD A TIMESTAMP FOR UNIQUE FOLDER\n",
    "timestamp = datetime.now().strftime(\"%Y-%m-%d--%H%M\")\n",
    "log_directory = log_directory + '/' + timestamp\n",
    "\n",
    "\n",
    "board = TensorBoard(log_dir=log_directory,histogram_freq=1,\n",
    "    write_graph=True,\n",
    "    write_images=True,\n",
    "    update_freq='epoch',\n",
    "    profile_batch=2,\n",
    "    embeddings_freq=1)\n",
    "\n"
   ]
  },
  {
   "cell_type": "code",
   "execution_count": 20,
   "metadata": {},
   "outputs": [],
   "source": [
    "X = df.drop('temp', axis=1).values\n",
    "y = df['temp'].values\n",
    "\n",
    "X_train, X_test, y_train, y_test = train_test_split(X, y, test_size=0.20, random_state=101)\n",
    "\n",
    "scaler = MinMaxScaler()\n",
    "X_train = scaler.fit_transform(X_train)\n",
    "X_test =scaler.transform(X_test)"
   ]
  },
  {
   "cell_type": "code",
   "execution_count": 21,
   "metadata": {},
   "outputs": [
    {
     "name": "stdout",
     "output_type": "stream",
     "text": [
      "Train on 382420 samples, validate on 95605 samples\n",
      "Epoch 1/25\n",
      "382420/382420 [==============================] - 13s 34us/sample - loss: 899.5465 - val_loss: 182.4440\n",
      "Epoch 2/25\n",
      "382420/382420 [==============================] - 11s 28us/sample - loss: 459.6823 - val_loss: 75.7909\n",
      "Epoch 3/25\n",
      "382420/382420 [==============================] - 11s 28us/sample - loss: 326.6558 - val_loss: 53.8293\n",
      "Epoch 4/25\n",
      "382420/382420 [==============================] - 11s 28us/sample - loss: 259.0522 - val_loss: 36.3702\n",
      "Epoch 5/25\n",
      "382420/382420 [==============================] - 11s 28us/sample - loss: 220.3447 - val_loss: 27.3175\n",
      "Epoch 6/25\n",
      "382420/382420 [==============================] - 11s 28us/sample - loss: 198.4774 - val_loss: 22.8198\n",
      "Epoch 7/25\n",
      "382420/382420 [==============================] - 11s 28us/sample - loss: 184.1026 - val_loss: 21.1198\n",
      "Epoch 8/25\n",
      "382420/382420 [==============================] - 11s 28us/sample - loss: 171.5587 - val_loss: 20.2194\n",
      "Epoch 9/25\n",
      "382420/382420 [==============================] - 11s 28us/sample - loss: 159.3119 - val_loss: 19.6319\n",
      "Epoch 10/25\n",
      "382420/382420 [==============================] - 11s 28us/sample - loss: 147.9702 - val_loss: 17.1056\n",
      "Epoch 11/25\n",
      "382420/382420 [==============================] - 11s 28us/sample - loss: 136.1420 - val_loss: 15.5684\n",
      "Epoch 12/25\n",
      "382420/382420 [==============================] - 11s 28us/sample - loss: 125.8674 - val_loss: 14.7147\n",
      "Epoch 13/25\n",
      "382420/382420 [==============================] - 11s 28us/sample - loss: 114.9881 - val_loss: 13.1554\n",
      "Epoch 14/25\n",
      "382420/382420 [==============================] - 11s 28us/sample - loss: 104.5640 - val_loss: 12.1730\n",
      "Epoch 15/25\n",
      "382420/382420 [==============================] - 11s 28us/sample - loss: 95.7925 - val_loss: 11.7536\n",
      "Epoch 16/25\n",
      "382420/382420 [==============================] - 11s 28us/sample - loss: 86.9100 - val_loss: 10.1321\n",
      "Epoch 17/25\n",
      "382420/382420 [==============================] - 11s 29us/sample - loss: 77.9261 - val_loss: 9.4426\n",
      "Epoch 18/25\n",
      "382420/382420 [==============================] - 11s 30us/sample - loss: 70.6544 - val_loss: 8.6811\n",
      "Epoch 19/25\n",
      "382420/382420 [==============================] - 11s 28us/sample - loss: 62.4125 - val_loss: 7.7602\n",
      "Epoch 20/25\n",
      "382420/382420 [==============================] - 11s 28us/sample - loss: 55.4534 - val_loss: 7.1413\n",
      "Epoch 21/25\n",
      "382420/382420 [==============================] - 11s 28us/sample - loss: 48.8643 - val_loss: 6.2621\n",
      "Epoch 22/25\n",
      "382420/382420 [==============================] - 11s 28us/sample - loss: 42.5205 - val_loss: 5.6180\n",
      "Epoch 23/25\n",
      "382420/382420 [==============================] - 11s 29us/sample - loss: 36.9335 - val_loss: 4.7996\n",
      "Epoch 24/25\n",
      "382420/382420 [==============================] - 11s 29us/sample - loss: 31.6168 - val_loss: 4.4447\n",
      "Epoch 25/25\n",
      "382420/382420 [==============================] - 12s 30us/sample - loss: 26.7993 - val_loss: 4.0854\n"
     ]
    },
    {
     "data": {
      "text/plain": [
       "<tensorflow.python.keras.callbacks.History at 0x9e227fb0>"
      ]
     },
     "execution_count": 21,
     "metadata": {},
     "output_type": "execute_result"
    }
   ],
   "source": [
    "model = Sequential()\n",
    "\n",
    "model.add(Dense(6, activation = 'relu'))\n",
    "model.add(Dropout(0.2))\n",
    "\n",
    "model.add(Dense(3, activation = 'relu'))\n",
    "model.add(Dropout(0.2))\n",
    "\n",
    "model.add(Dense(2, activation = 'relu'))\n",
    "model.add(Dropout(0.2))\n",
    "\n",
    "model.add(Dense(1))\n",
    "\n",
    "model.compile(loss = 'mse', optimizer='adam')\n",
    "\n",
    "model.fit(x = X_train, y=y_train, batch_size=256, epochs=25, validation_data=(X_test, y_test), callbacks = [board])"
   ]
  },
  {
   "cell_type": "code",
   "execution_count": 22,
   "metadata": {},
   "outputs": [],
   "source": [
    "losses = pd.DataFrame(model.history.history)"
   ]
  },
  {
   "cell_type": "code",
   "execution_count": 23,
   "metadata": {},
   "outputs": [
    {
     "data": {
      "text/plain": [
       "<matplotlib.axes._subplots.AxesSubplot at 0x8de21c90>"
      ]
     },
     "execution_count": 23,
     "metadata": {},
     "output_type": "execute_result"
    },
    {
     "data": {
      "image/png": "[encoded data removed]",
      "text/plain": [
       "<Figure size 432x288 with 1 Axes>"
      ]
     },
     "metadata": {
      "needs_background": "light"
     },
     "output_type": "display_data"
    }
   ],
   "source": [
    "losses.plot()"
   ]
  },
  {
   "cell_type": "code",
   "execution_count": 28,
   "metadata": {},
   "outputs": [
    {
     "data": {
      "text/plain": [
       "array([[46.808075]], dtype=float32)"
      ]
     },
     "execution_count": 28,
     "metadata": {},
     "output_type": "execute_result"
    }
   ],
   "source": [
    "newCase = \"2020-02-17 23:50:27\" #46\n",
    "year = \"year_\" + str(int(newCase.split(\" \")[0].split(\"-\")[0]))\n",
    "month =\"month_\" + str(int(newCase.split(\" \")[0].split(\"-\")[1]))\n",
    "day = \"day_\" + str(int(newCase.split(\" \")[0].split(\"-\")[2]))\n",
    "hour = \"hour_\" + str(int(newCase.split(\" \")[1].split(\":\")[0]))\n",
    "minute = \"minute_\" + str(int(newCase.split(\" \")[1].split(\":\")[1]))\n",
    "second = \"second_\" + str(int(newCase.split(\" \")[1].split(\":\")[2]))\n",
    "\n",
    "# print(year, month, day, hour, minute, second)\n",
    "\n",
    "testData = df.drop('temp', axis = 1).iloc[0]\n",
    "# print(testData)\n",
    "\n",
    "for i in range(len(testData)): # reset the current row s\n",
    "    testData[i]=0\n",
    "# testData[year] = 1\n",
    "# testData[month] = 1\n",
    "# testData[day] = 1\n",
    "testData[hour] = 1\n",
    "testData[minute] = 1\n",
    "testData[second] = 1\n",
    "\n",
    "model.predict(testData.values.reshape(1,-1))\n"
   ]
  },
  {
   "cell_type": "code",
   "execution_count": null,
   "metadata": {},
   "outputs": [],
   "source": []
  }
 ],
 "metadata": {
  "kernelspec": {
   "display_name": "Python 3",
   "language": "python",
   "name": "python3"
  },
  "language_info": {
   "codemirror_mode": {
    "name": "ipython",
    "version": 3
   },
   "file_extension": ".py",
   "mimetype": "text/x-python",
   "name": "python",
   "nbconvert_exporter": "python",
   "pygments_lexer": "ipython3",
   "version": "3.7.3"
  }
 },
 "nbformat": 4,
 "nbformat_minor": 4
}
