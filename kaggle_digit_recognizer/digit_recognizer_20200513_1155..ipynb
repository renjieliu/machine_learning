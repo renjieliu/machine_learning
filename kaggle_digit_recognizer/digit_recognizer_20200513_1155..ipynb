{
  "nbformat": 4,
  "nbformat_minor": 0,
  "metadata": {
    "kernelspec": {
      "display_name": "Python 3",
      "language": "python",
      "name": "python3"
    },
    "language_info": {
      "codemirror_mode": {
        "name": "ipython",
        "version": 3
      },
      "file_extension": ".py",
      "mimetype": "text/x-python",
      "name": "python",
      "nbconvert_exporter": "python",
      "pygments_lexer": "ipython3",
      "version": "3.7.3"
    },
    "colab": {
      "name": "digit_recognizer_20200513_1012.ipynb",
      "provenance": [],
      "machine_shape": "hm"
    },
    "accelerator": "GPU"
  },
  "cells": [
    {
      "cell_type": "code",
      "metadata": {
        "id": "GuaSyzcF-NP6",
        "colab_type": "code",
        "outputId": "67e15f4a-0e41-4624-de2c-9dc0f5ad3b1c",
        "colab": {
          "base_uri": "https://localhost:8080/",
          "height": 125
        }
      },
      "source": [
        "from google.colab import drive\n",
        "drive.mount('/content/drive')"
      ],
      "execution_count": 4,
      "outputs": [
        {
          "output_type": "stream",
          "text": [
            "Go to this URL in a browser: https://accounts.google.com/o/oauth2/auth?client_id=947318989803-6bn6qk8qdgf4n4g3pfee6491hc0brc4i.apps.googleusercontent.com&redirect_uri=urn%3aietf%3awg%3aoauth%3a2.0%3aoob&response_type=code&scope=email%20https%3a%2f%2fwww.googleapis.com%2fauth%2fdocs.test%20https%3a%2f%2fwww.googleapis.com%2fauth%2fdrive%20https%3a%2f%2fwww.googleapis.com%2fauth%2fdrive.photos.readonly%20https%3a%2f%2fwww.googleapis.com%2fauth%2fpeopleapi.readonly\n",
            "\n",
            "Enter your authorization code:\n",
            "··········\n",
            "Mounted at /content/drive\n"
          ],
          "name": "stdout"
        }
      ]
    },
    {
      "cell_type": "code",
      "metadata": {
        "id": "MeePzhzR-IPR",
        "colab_type": "code",
        "colab": {}
      },
      "source": [
        "from sklearn.model_selection import train_test_split"
      ],
      "execution_count": 0,
      "outputs": []
    },
    {
      "cell_type": "code",
      "metadata": {
        "id": "WteOLmJV-IPM",
        "colab_type": "code",
        "colab": {}
      },
      "source": [
        "import pandas as pd\n",
        "import matplotlib.pyplot as plt\n",
        "import seaborn as sns\n",
        "import numpy as np\n",
        "import tensorflow as tf\n",
        "from tensorflow.keras.utils import to_categorical"
      ],
      "execution_count": 0,
      "outputs": []
    },
    {
      "cell_type": "code",
      "metadata": {
        "id": "SHnqOMoq-Kbk",
        "colab_type": "code",
        "outputId": "912e55fd-1c7d-4653-a477-fa43eab05904",
        "colab": {
          "base_uri": "https://localhost:8080/",
          "height": 34
        }
      },
      "source": [
        "cd '/content/drive/My Drive/Colab Notebooks/kaggle/kaggle_digit_recognizer'"
      ],
      "execution_count": 7,
      "outputs": [
        {
          "output_type": "stream",
          "text": [
            "/content/drive/My Drive/Colab Notebooks/kaggle/kaggle_digit_recognizer\n"
          ],
          "name": "stdout"
        }
      ]
    },
    {
      "cell_type": "code",
      "metadata": {
        "id": "4Ldjtz3J-IPW",
        "colab_type": "code",
        "colab": {}
      },
      "source": [
        "df = pd.read_csv('train.csv')"
      ],
      "execution_count": 0,
      "outputs": []
    },
    {
      "cell_type": "code",
      "metadata": {
        "id": "kKeKBK1j-IPa",
        "colab_type": "code",
        "outputId": "b7cc8770-5ea1-493e-ae27-37496728227e",
        "colab": {
          "base_uri": "https://localhost:8080/",
          "height": 244
        }
      },
      "source": [
        "df.head()"
      ],
      "execution_count": 9,
      "outputs": [
        {
          "output_type": "execute_result",
          "data": {
            "text/html": [
              "<div>\n",
              "<style scoped>\n",
              "    .dataframe tbody tr th:only-of-type {\n",
              "        vertical-align: middle;\n",
              "    }\n",
              "\n",
              "    .dataframe tbody tr th {\n",
              "        vertical-align: top;\n",
              "    }\n",
              "\n",
              "    .dataframe thead th {\n",
              "        text-align: right;\n",
              "    }\n",
              "</style>\n",
              "<table border=\"1\" class=\"dataframe\">\n",
              "  <thead>\n",
              "    <tr style=\"text-align: right;\">\n",
              "      <th></th>\n",
              "      <th>label</th>\n",
              "      <th>pixel0</th>\n",
              "      <th>pixel1</th>\n",
              "      <th>pixel2</th>\n",
              "      <th>pixel3</th>\n",
              "      <th>pixel4</th>\n",
              "      <th>pixel5</th>\n",
              "      <th>pixel6</th>\n",
              "      <th>pixel7</th>\n",
              "      <th>pixel8</th>\n",
              "      <th>pixel9</th>\n",
              "      <th>pixel10</th>\n",
              "      <th>pixel11</th>\n",
              "      <th>pixel12</th>\n",
              "      <th>pixel13</th>\n",
              "      <th>pixel14</th>\n",
              "      <th>pixel15</th>\n",
              "      <th>pixel16</th>\n",
              "      <th>pixel17</th>\n",
              "      <th>pixel18</th>\n",
              "      <th>pixel19</th>\n",
              "      <th>pixel20</th>\n",
              "      <th>pixel21</th>\n",
              "      <th>pixel22</th>\n",
              "      <th>pixel23</th>\n",
              "      <th>pixel24</th>\n",
              "      <th>pixel25</th>\n",
              "      <th>pixel26</th>\n",
              "      <th>pixel27</th>\n",
              "      <th>pixel28</th>\n",
              "      <th>pixel29</th>\n",
              "      <th>pixel30</th>\n",
              "      <th>pixel31</th>\n",
              "      <th>pixel32</th>\n",
              "      <th>pixel33</th>\n",
              "      <th>pixel34</th>\n",
              "      <th>pixel35</th>\n",
              "      <th>pixel36</th>\n",
              "      <th>pixel37</th>\n",
              "      <th>pixel38</th>\n",
              "      <th>...</th>\n",
              "      <th>pixel744</th>\n",
              "      <th>pixel745</th>\n",
              "      <th>pixel746</th>\n",
              "      <th>pixel747</th>\n",
              "      <th>pixel748</th>\n",
              "      <th>pixel749</th>\n",
              "      <th>pixel750</th>\n",
              "      <th>pixel751</th>\n",
              "      <th>pixel752</th>\n",
              "      <th>pixel753</th>\n",
              "      <th>pixel754</th>\n",
              "      <th>pixel755</th>\n",
              "      <th>pixel756</th>\n",
              "      <th>pixel757</th>\n",
              "      <th>pixel758</th>\n",
              "      <th>pixel759</th>\n",
              "      <th>pixel760</th>\n",
              "      <th>pixel761</th>\n",
              "      <th>pixel762</th>\n",
              "      <th>pixel763</th>\n",
              "      <th>pixel764</th>\n",
              "      <th>pixel765</th>\n",
              "      <th>pixel766</th>\n",
              "      <th>pixel767</th>\n",
              "      <th>pixel768</th>\n",
              "      <th>pixel769</th>\n",
              "      <th>pixel770</th>\n",
              "      <th>pixel771</th>\n",
              "      <th>pixel772</th>\n",
              "      <th>pixel773</th>\n",
              "      <th>pixel774</th>\n",
              "      <th>pixel775</th>\n",
              "      <th>pixel776</th>\n",
              "      <th>pixel777</th>\n",
              "      <th>pixel778</th>\n",
              "      <th>pixel779</th>\n",
              "      <th>pixel780</th>\n",
              "      <th>pixel781</th>\n",
              "      <th>pixel782</th>\n",
              "      <th>pixel783</th>\n",
              "    </tr>\n",
              "  </thead>\n",
              "  <tbody>\n",
              "    <tr>\n",
              "      <th>0</th>\n",
              "      <td>1</td>\n",
              "      <td>0</td>\n",
              "      <td>0</td>\n",
              "      <td>0</td>\n",
              "      <td>0</td>\n",
              "      <td>0</td>\n",
              "      <td>0</td>\n",
              "      <td>0</td>\n",
              "      <td>0</td>\n",
              "      <td>0</td>\n",
              "      <td>0</td>\n",
              "      <td>0</td>\n",
              "      <td>0</td>\n",
              "      <td>0</td>\n",
              "      <td>0</td>\n",
              "      <td>0</td>\n",
              "      <td>0</td>\n",
              "      <td>0</td>\n",
              "      <td>0</td>\n",
              "      <td>0</td>\n",
              "      <td>0</td>\n",
              "      <td>0</td>\n",
              "      <td>0</td>\n",
              "      <td>0</td>\n",
              "      <td>0</td>\n",
              "      <td>0</td>\n",
              "      <td>0</td>\n",
              "      <td>0</td>\n",
              "      <td>0</td>\n",
              "      <td>0</td>\n",
              "      <td>0</td>\n",
              "      <td>0</td>\n",
              "      <td>0</td>\n",
              "      <td>0</td>\n",
              "      <td>0</td>\n",
              "      <td>0</td>\n",
              "      <td>0</td>\n",
              "      <td>0</td>\n",
              "      <td>0</td>\n",
              "      <td>0</td>\n",
              "      <td>...</td>\n",
              "      <td>0</td>\n",
              "      <td>0</td>\n",
              "      <td>0</td>\n",
              "      <td>0</td>\n",
              "      <td>0</td>\n",
              "      <td>0</td>\n",
              "      <td>0</td>\n",
              "      <td>0</td>\n",
              "      <td>0</td>\n",
              "      <td>0</td>\n",
              "      <td>0</td>\n",
              "      <td>0</td>\n",
              "      <td>0</td>\n",
              "      <td>0</td>\n",
              "      <td>0</td>\n",
              "      <td>0</td>\n",
              "      <td>0</td>\n",
              "      <td>0</td>\n",
              "      <td>0</td>\n",
              "      <td>0</td>\n",
              "      <td>0</td>\n",
              "      <td>0</td>\n",
              "      <td>0</td>\n",
              "      <td>0</td>\n",
              "      <td>0</td>\n",
              "      <td>0</td>\n",
              "      <td>0</td>\n",
              "      <td>0</td>\n",
              "      <td>0</td>\n",
              "      <td>0</td>\n",
              "      <td>0</td>\n",
              "      <td>0</td>\n",
              "      <td>0</td>\n",
              "      <td>0</td>\n",
              "      <td>0</td>\n",
              "      <td>0</td>\n",
              "      <td>0</td>\n",
              "      <td>0</td>\n",
              "      <td>0</td>\n",
              "      <td>0</td>\n",
              "    </tr>\n",
              "    <tr>\n",
              "      <th>1</th>\n",
              "      <td>0</td>\n",
              "      <td>0</td>\n",
              "      <td>0</td>\n",
              "      <td>0</td>\n",
              "      <td>0</td>\n",
              "      <td>0</td>\n",
              "      <td>0</td>\n",
              "      <td>0</td>\n",
              "      <td>0</td>\n",
              "      <td>0</td>\n",
              "      <td>0</td>\n",
              "      <td>0</td>\n",
              "      <td>0</td>\n",
              "      <td>0</td>\n",
              "      <td>0</td>\n",
              "      <td>0</td>\n",
              "      <td>0</td>\n",
              "      <td>0</td>\n",
              "      <td>0</td>\n",
              "      <td>0</td>\n",
              "      <td>0</td>\n",
              "      <td>0</td>\n",
              "      <td>0</td>\n",
              "      <td>0</td>\n",
              "      <td>0</td>\n",
              "      <td>0</td>\n",
              "      <td>0</td>\n",
              "      <td>0</td>\n",
              "      <td>0</td>\n",
              "      <td>0</td>\n",
              "      <td>0</td>\n",
              "      <td>0</td>\n",
              "      <td>0</td>\n",
              "      <td>0</td>\n",
              "      <td>0</td>\n",
              "      <td>0</td>\n",
              "      <td>0</td>\n",
              "      <td>0</td>\n",
              "      <td>0</td>\n",
              "      <td>0</td>\n",
              "      <td>...</td>\n",
              "      <td>0</td>\n",
              "      <td>0</td>\n",
              "      <td>0</td>\n",
              "      <td>0</td>\n",
              "      <td>0</td>\n",
              "      <td>0</td>\n",
              "      <td>0</td>\n",
              "      <td>0</td>\n",
              "      <td>0</td>\n",
              "      <td>0</td>\n",
              "      <td>0</td>\n",
              "      <td>0</td>\n",
              "      <td>0</td>\n",
              "      <td>0</td>\n",
              "      <td>0</td>\n",
              "      <td>0</td>\n",
              "      <td>0</td>\n",
              "      <td>0</td>\n",
              "      <td>0</td>\n",
              "      <td>0</td>\n",
              "      <td>0</td>\n",
              "      <td>0</td>\n",
              "      <td>0</td>\n",
              "      <td>0</td>\n",
              "      <td>0</td>\n",
              "      <td>0</td>\n",
              "      <td>0</td>\n",
              "      <td>0</td>\n",
              "      <td>0</td>\n",
              "      <td>0</td>\n",
              "      <td>0</td>\n",
              "      <td>0</td>\n",
              "      <td>0</td>\n",
              "      <td>0</td>\n",
              "      <td>0</td>\n",
              "      <td>0</td>\n",
              "      <td>0</td>\n",
              "      <td>0</td>\n",
              "      <td>0</td>\n",
              "      <td>0</td>\n",
              "    </tr>\n",
              "    <tr>\n",
              "      <th>2</th>\n",
              "      <td>1</td>\n",
              "      <td>0</td>\n",
              "      <td>0</td>\n",
              "      <td>0</td>\n",
              "      <td>0</td>\n",
              "      <td>0</td>\n",
              "      <td>0</td>\n",
              "      <td>0</td>\n",
              "      <td>0</td>\n",
              "      <td>0</td>\n",
              "      <td>0</td>\n",
              "      <td>0</td>\n",
              "      <td>0</td>\n",
              "      <td>0</td>\n",
              "      <td>0</td>\n",
              "      <td>0</td>\n",
              "      <td>0</td>\n",
              "      <td>0</td>\n",
              "      <td>0</td>\n",
              "      <td>0</td>\n",
              "      <td>0</td>\n",
              "      <td>0</td>\n",
              "      <td>0</td>\n",
              "      <td>0</td>\n",
              "      <td>0</td>\n",
              "      <td>0</td>\n",
              "      <td>0</td>\n",
              "      <td>0</td>\n",
              "      <td>0</td>\n",
              "      <td>0</td>\n",
              "      <td>0</td>\n",
              "      <td>0</td>\n",
              "      <td>0</td>\n",
              "      <td>0</td>\n",
              "      <td>0</td>\n",
              "      <td>0</td>\n",
              "      <td>0</td>\n",
              "      <td>0</td>\n",
              "      <td>0</td>\n",
              "      <td>0</td>\n",
              "      <td>...</td>\n",
              "      <td>0</td>\n",
              "      <td>0</td>\n",
              "      <td>0</td>\n",
              "      <td>0</td>\n",
              "      <td>0</td>\n",
              "      <td>0</td>\n",
              "      <td>0</td>\n",
              "      <td>0</td>\n",
              "      <td>0</td>\n",
              "      <td>0</td>\n",
              "      <td>0</td>\n",
              "      <td>0</td>\n",
              "      <td>0</td>\n",
              "      <td>0</td>\n",
              "      <td>0</td>\n",
              "      <td>0</td>\n",
              "      <td>0</td>\n",
              "      <td>0</td>\n",
              "      <td>0</td>\n",
              "      <td>0</td>\n",
              "      <td>0</td>\n",
              "      <td>0</td>\n",
              "      <td>0</td>\n",
              "      <td>0</td>\n",
              "      <td>0</td>\n",
              "      <td>0</td>\n",
              "      <td>0</td>\n",
              "      <td>0</td>\n",
              "      <td>0</td>\n",
              "      <td>0</td>\n",
              "      <td>0</td>\n",
              "      <td>0</td>\n",
              "      <td>0</td>\n",
              "      <td>0</td>\n",
              "      <td>0</td>\n",
              "      <td>0</td>\n",
              "      <td>0</td>\n",
              "      <td>0</td>\n",
              "      <td>0</td>\n",
              "      <td>0</td>\n",
              "    </tr>\n",
              "    <tr>\n",
              "      <th>3</th>\n",
              "      <td>4</td>\n",
              "      <td>0</td>\n",
              "      <td>0</td>\n",
              "      <td>0</td>\n",
              "      <td>0</td>\n",
              "      <td>0</td>\n",
              "      <td>0</td>\n",
              "      <td>0</td>\n",
              "      <td>0</td>\n",
              "      <td>0</td>\n",
              "      <td>0</td>\n",
              "      <td>0</td>\n",
              "      <td>0</td>\n",
              "      <td>0</td>\n",
              "      <td>0</td>\n",
              "      <td>0</td>\n",
              "      <td>0</td>\n",
              "      <td>0</td>\n",
              "      <td>0</td>\n",
              "      <td>0</td>\n",
              "      <td>0</td>\n",
              "      <td>0</td>\n",
              "      <td>0</td>\n",
              "      <td>0</td>\n",
              "      <td>0</td>\n",
              "      <td>0</td>\n",
              "      <td>0</td>\n",
              "      <td>0</td>\n",
              "      <td>0</td>\n",
              "      <td>0</td>\n",
              "      <td>0</td>\n",
              "      <td>0</td>\n",
              "      <td>0</td>\n",
              "      <td>0</td>\n",
              "      <td>0</td>\n",
              "      <td>0</td>\n",
              "      <td>0</td>\n",
              "      <td>0</td>\n",
              "      <td>0</td>\n",
              "      <td>0</td>\n",
              "      <td>...</td>\n",
              "      <td>0</td>\n",
              "      <td>0</td>\n",
              "      <td>0</td>\n",
              "      <td>0</td>\n",
              "      <td>0</td>\n",
              "      <td>0</td>\n",
              "      <td>0</td>\n",
              "      <td>0</td>\n",
              "      <td>0</td>\n",
              "      <td>0</td>\n",
              "      <td>0</td>\n",
              "      <td>0</td>\n",
              "      <td>0</td>\n",
              "      <td>0</td>\n",
              "      <td>0</td>\n",
              "      <td>0</td>\n",
              "      <td>0</td>\n",
              "      <td>0</td>\n",
              "      <td>0</td>\n",
              "      <td>0</td>\n",
              "      <td>0</td>\n",
              "      <td>0</td>\n",
              "      <td>0</td>\n",
              "      <td>0</td>\n",
              "      <td>0</td>\n",
              "      <td>0</td>\n",
              "      <td>0</td>\n",
              "      <td>0</td>\n",
              "      <td>0</td>\n",
              "      <td>0</td>\n",
              "      <td>0</td>\n",
              "      <td>0</td>\n",
              "      <td>0</td>\n",
              "      <td>0</td>\n",
              "      <td>0</td>\n",
              "      <td>0</td>\n",
              "      <td>0</td>\n",
              "      <td>0</td>\n",
              "      <td>0</td>\n",
              "      <td>0</td>\n",
              "    </tr>\n",
              "    <tr>\n",
              "      <th>4</th>\n",
              "      <td>0</td>\n",
              "      <td>0</td>\n",
              "      <td>0</td>\n",
              "      <td>0</td>\n",
              "      <td>0</td>\n",
              "      <td>0</td>\n",
              "      <td>0</td>\n",
              "      <td>0</td>\n",
              "      <td>0</td>\n",
              "      <td>0</td>\n",
              "      <td>0</td>\n",
              "      <td>0</td>\n",
              "      <td>0</td>\n",
              "      <td>0</td>\n",
              "      <td>0</td>\n",
              "      <td>0</td>\n",
              "      <td>0</td>\n",
              "      <td>0</td>\n",
              "      <td>0</td>\n",
              "      <td>0</td>\n",
              "      <td>0</td>\n",
              "      <td>0</td>\n",
              "      <td>0</td>\n",
              "      <td>0</td>\n",
              "      <td>0</td>\n",
              "      <td>0</td>\n",
              "      <td>0</td>\n",
              "      <td>0</td>\n",
              "      <td>0</td>\n",
              "      <td>0</td>\n",
              "      <td>0</td>\n",
              "      <td>0</td>\n",
              "      <td>0</td>\n",
              "      <td>0</td>\n",
              "      <td>0</td>\n",
              "      <td>0</td>\n",
              "      <td>0</td>\n",
              "      <td>0</td>\n",
              "      <td>0</td>\n",
              "      <td>0</td>\n",
              "      <td>...</td>\n",
              "      <td>0</td>\n",
              "      <td>0</td>\n",
              "      <td>0</td>\n",
              "      <td>0</td>\n",
              "      <td>0</td>\n",
              "      <td>0</td>\n",
              "      <td>0</td>\n",
              "      <td>0</td>\n",
              "      <td>0</td>\n",
              "      <td>0</td>\n",
              "      <td>0</td>\n",
              "      <td>0</td>\n",
              "      <td>0</td>\n",
              "      <td>0</td>\n",
              "      <td>0</td>\n",
              "      <td>0</td>\n",
              "      <td>0</td>\n",
              "      <td>0</td>\n",
              "      <td>0</td>\n",
              "      <td>0</td>\n",
              "      <td>0</td>\n",
              "      <td>0</td>\n",
              "      <td>0</td>\n",
              "      <td>0</td>\n",
              "      <td>0</td>\n",
              "      <td>0</td>\n",
              "      <td>0</td>\n",
              "      <td>0</td>\n",
              "      <td>0</td>\n",
              "      <td>0</td>\n",
              "      <td>0</td>\n",
              "      <td>0</td>\n",
              "      <td>0</td>\n",
              "      <td>0</td>\n",
              "      <td>0</td>\n",
              "      <td>0</td>\n",
              "      <td>0</td>\n",
              "      <td>0</td>\n",
              "      <td>0</td>\n",
              "      <td>0</td>\n",
              "    </tr>\n",
              "  </tbody>\n",
              "</table>\n",
              "<p>5 rows × 785 columns</p>\n",
              "</div>"
            ],
            "text/plain": [
              "   label  pixel0  pixel1  pixel2  ...  pixel780  pixel781  pixel782  pixel783\n",
              "0      1       0       0       0  ...         0         0         0         0\n",
              "1      0       0       0       0  ...         0         0         0         0\n",
              "2      1       0       0       0  ...         0         0         0         0\n",
              "3      4       0       0       0  ...         0         0         0         0\n",
              "4      0       0       0       0  ...         0         0         0         0\n",
              "\n",
              "[5 rows x 785 columns]"
            ]
          },
          "metadata": {
            "tags": []
          },
          "execution_count": 9
        }
      ]
    },
    {
      "cell_type": "code",
      "metadata": {
        "scrolled": true,
        "id": "ysJigk07-IPe",
        "colab_type": "code",
        "colab": {}
      },
      "source": [
        "pic = list(df.iloc[3][df.columns[1:]])"
      ],
      "execution_count": 0,
      "outputs": []
    },
    {
      "cell_type": "code",
      "metadata": {
        "id": "x3XL3Bfr-IPi",
        "colab_type": "code",
        "colab": {}
      },
      "source": [
        "pic = np.reshape(pic, (28,28))"
      ],
      "execution_count": 0,
      "outputs": []
    },
    {
      "cell_type": "code",
      "metadata": {
        "id": "Hph1C6Gx-IPl",
        "colab_type": "code",
        "outputId": "dfba6057-e0f0-41b5-bae1-2266aba5710e",
        "colab": {
          "base_uri": "https://localhost:8080/",
          "height": 34
        }
      },
      "source": [
        "pic.max()"
      ],
      "execution_count": 12,
      "outputs": [
        {
          "output_type": "execute_result",
          "data": {
            "text/plain": [
              "255"
            ]
          },
          "metadata": {
            "tags": []
          },
          "execution_count": 12
        }
      ]
    },
    {
      "cell_type": "code",
      "metadata": {
        "id": "voRyG1we-IPp",
        "colab_type": "code",
        "outputId": "6e1f43bd-7f5d-486e-c913-4511d6336faf",
        "colab": {
          "base_uri": "https://localhost:8080/",
          "height": 34
        }
      },
      "source": [
        "pic.min()"
      ],
      "execution_count": 13,
      "outputs": [
        {
          "output_type": "execute_result",
          "data": {
            "text/plain": [
              "0"
            ]
          },
          "metadata": {
            "tags": []
          },
          "execution_count": 13
        }
      ]
    },
    {
      "cell_type": "code",
      "metadata": {
        "id": "wb9lN3ii-IPs",
        "colab_type": "code",
        "colab": {}
      },
      "source": [
        "pic = pic/255"
      ],
      "execution_count": 0,
      "outputs": []
    },
    {
      "cell_type": "code",
      "metadata": {
        "id": "TR4LnVpV-IPv",
        "colab_type": "code",
        "outputId": "dafd268d-33a8-4ae2-cc68-6b1df4f5bab5",
        "colab": {
          "base_uri": "https://localhost:8080/",
          "height": 282
        }
      },
      "source": [
        "plt.imshow(pic)"
      ],
      "execution_count": 15,
      "outputs": [
        {
          "output_type": "execute_result",
          "data": {
            "text/plain": [
              "<matplotlib.image.AxesImage at 0x7faffcd40240>"
            ]
          },
          "metadata": {
            "tags": []
          },
          "execution_count": 15
        },
        {
          "output_type": "display_data",
          "data": {
            "image/png": "[encoded data removed]",
            "text/plain": [
              "<Figure size 432x288 with 1 Axes>"
            ]
          },
          "metadata": {
            "tags": [],
            "needs_background": "light"
          }
        }
      ]
    },
    {
      "cell_type": "code",
      "metadata": {
        "id": "stlwWxlM-IPz",
        "colab_type": "code",
        "colab": {}
      },
      "source": [
        "x  = []\n",
        "y  = []"
      ],
      "execution_count": 0,
      "outputs": []
    },
    {
      "cell_type": "code",
      "metadata": {
        "scrolled": true,
        "id": "RYNPc5Qu-IP1",
        "colab_type": "code",
        "outputId": "433cd2d8-030d-497e-9e02-14907aba9f32",
        "colab": {
          "base_uri": "https://localhost:8080/",
          "height": 34
        }
      },
      "source": [
        "len(df)"
      ],
      "execution_count": 17,
      "outputs": [
        {
          "output_type": "execute_result",
          "data": {
            "text/plain": [
              "42000"
            ]
          },
          "metadata": {
            "tags": []
          },
          "execution_count": 17
        }
      ]
    },
    {
      "cell_type": "code",
      "metadata": {
        "id": "udkYeF_L-IP6",
        "colab_type": "code",
        "colab": {}
      },
      "source": [
        "feature = list(df.columns[1:])\n",
        "label = df.columns[0]"
      ],
      "execution_count": 0,
      "outputs": []
    },
    {
      "cell_type": "code",
      "metadata": {
        "id": "DcwTtLew-IP9",
        "colab_type": "code",
        "colab": {}
      },
      "source": [
        "#plt.imshow(np.reshape(list(df.iloc[10][feature]), (28,28))) "
      ],
      "execution_count": 0,
      "outputs": []
    },
    {
      "cell_type": "code",
      "metadata": {
        "id": "QDuKlBS--IQA",
        "colab_type": "code",
        "outputId": "a3f1777e-89c5-4a4f-ba46-0a6b0028ba1d",
        "colab": {
          "base_uri": "https://localhost:8080/",
          "height": 756
        }
      },
      "source": [
        "with tf.device('/device:GPU:0'):\n",
        "  for i in range(len(df)):\n",
        "      if i %1000 ==0: \n",
        "          print(i)\n",
        "      curr = df.iloc[i]\n",
        "      dp = list(curr[feature])\n",
        "      shape = (28,28,1)\n",
        "      x.append(np.reshape(dp,shape))\n",
        "      y.append(curr[label])   \n",
        "      "
      ],
      "execution_count": 20,
      "outputs": [
        {
          "output_type": "stream",
          "text": [
            "0\n",
            "1000\n",
            "2000\n",
            "3000\n",
            "4000\n",
            "5000\n",
            "6000\n",
            "7000\n",
            "8000\n",
            "9000\n",
            "10000\n",
            "11000\n",
            "12000\n",
            "13000\n",
            "14000\n",
            "15000\n",
            "16000\n",
            "17000\n",
            "18000\n",
            "19000\n",
            "20000\n",
            "21000\n",
            "22000\n",
            "23000\n",
            "24000\n",
            "25000\n",
            "26000\n",
            "27000\n",
            "28000\n",
            "29000\n",
            "30000\n",
            "31000\n",
            "32000\n",
            "33000\n",
            "34000\n",
            "35000\n",
            "36000\n",
            "37000\n",
            "38000\n",
            "39000\n",
            "40000\n",
            "41000\n"
          ],
          "name": "stdout"
        }
      ]
    },
    {
      "cell_type": "code",
      "metadata": {
        "scrolled": true,
        "id": "_4tGUjNV-IQD",
        "colab_type": "code",
        "colab": {}
      },
      "source": [
        "# plt.imshow(x[0])"
      ],
      "execution_count": 0,
      "outputs": []
    },
    {
      "cell_type": "code",
      "metadata": {
        "id": "Ez1B7e87-IQG",
        "colab_type": "code",
        "colab": {}
      },
      "source": [
        "# y"
      ],
      "execution_count": 0,
      "outputs": []
    },
    {
      "cell_type": "code",
      "metadata": {
        "id": "yKNWK1vt-IQJ",
        "colab_type": "code",
        "colab": {}
      },
      "source": [
        "X_train, X_test, y_train, y_test = train_test_split(x, y, test_size=0.33, random_state=37)"
      ],
      "execution_count": 0,
      "outputs": []
    },
    {
      "cell_type": "code",
      "metadata": {
        "id": "hLAzAtge-IQN",
        "colab_type": "code",
        "outputId": "a4b95a65-b253-47d9-aefb-079bc40692dc",
        "colab": {
          "base_uri": "https://localhost:8080/",
          "height": 34
        }
      },
      "source": [
        "len(X_train)"
      ],
      "execution_count": 55,
      "outputs": [
        {
          "output_type": "execute_result",
          "data": {
            "text/plain": [
              "28140"
            ]
          },
          "metadata": {
            "tags": []
          },
          "execution_count": 55
        }
      ]
    },
    {
      "cell_type": "code",
      "metadata": {
        "id": "4HV5BsUCGvpy",
        "colab_type": "code",
        "colab": {}
      },
      "source": [
        "def bin_arr(arr, limit): #to make each cell either 0 or 1\n",
        "  for i in range(len(arr)): \n",
        "    for r in range(len(arr[i])):\n",
        "      for c in range(len(arr[i][0])):\n",
        "        if arr[i][r][c] >= limit:\n",
        "          arr[i][r][c] =1\n",
        "        else:\n",
        "          arr[i][r][c] =0\n",
        "  return arr\n",
        "    "
      ],
      "execution_count": 0,
      "outputs": []
    },
    {
      "cell_type": "code",
      "metadata": {
        "id": "HG1yWsN6H22s",
        "colab_type": "code",
        "colab": {}
      },
      "source": [
        "limit = 0.4"
      ],
      "execution_count": 0,
      "outputs": []
    },
    {
      "cell_type": "code",
      "metadata": {
        "id": "_ZeL3SDZIRBa",
        "colab_type": "code",
        "colab": {}
      },
      "source": [
        "X_train = bin_arr(X_train, limit)\n",
        "X_test = bin_arr(X_test, limit)"
      ],
      "execution_count": 0,
      "outputs": []
    },
    {
      "cell_type": "code",
      "metadata": {
        "id": "X1Txeis4JG35",
        "colab_type": "code",
        "colab": {
          "base_uri": "https://localhost:8080/",
          "height": 34
        },
        "outputId": "ccf3a226-7957-45a6-9ec3-969646d4936b"
      },
      "source": [
        "len(X_test)"
      ],
      "execution_count": 62,
      "outputs": [
        {
          "output_type": "execute_result",
          "data": {
            "text/plain": [
              "13860"
            ]
          },
          "metadata": {
            "tags": []
          },
          "execution_count": 62
        }
      ]
    },
    {
      "cell_type": "code",
      "metadata": {
        "id": "NM4x89nG-IQR",
        "colab_type": "code",
        "colab": {}
      },
      "source": [
        "X_train = np.reshape(X_train, (28140,28,28,1) )"
      ],
      "execution_count": 0,
      "outputs": []
    },
    {
      "cell_type": "code",
      "metadata": {
        "id": "btTEHneN-IQU",
        "colab_type": "code",
        "outputId": "a19adf60-549f-4a2f-ed86-3d3c5ee5cdbe",
        "colab": {
          "base_uri": "https://localhost:8080/",
          "height": 34
        }
      },
      "source": [
        "len(X_test)"
      ],
      "execution_count": 64,
      "outputs": [
        {
          "output_type": "execute_result",
          "data": {
            "text/plain": [
              "13860"
            ]
          },
          "metadata": {
            "tags": []
          },
          "execution_count": 64
        }
      ]
    },
    {
      "cell_type": "code",
      "metadata": {
        "id": "VWny86S2-IQW",
        "colab_type": "code",
        "colab": {}
      },
      "source": [
        "X_test = np.reshape(X_test, (13860,28,28,1) )"
      ],
      "execution_count": 0,
      "outputs": []
    },
    {
      "cell_type": "code",
      "metadata": {
        "id": "kQN4E7y8-IQd",
        "colab_type": "code",
        "colab": {}
      },
      "source": [
        "y_train = np.reshape(y_train, (-1, 1))"
      ],
      "execution_count": 0,
      "outputs": []
    },
    {
      "cell_type": "code",
      "metadata": {
        "id": "d99vhKP3-IQg",
        "colab_type": "code",
        "outputId": "353934f1-9fe4-4844-c697-b643fea4f51d",
        "colab": {
          "base_uri": "https://localhost:8080/",
          "height": 34
        }
      },
      "source": [
        "y_train.shape"
      ],
      "execution_count": 67,
      "outputs": [
        {
          "output_type": "execute_result",
          "data": {
            "text/plain": [
              "(28140, 1)"
            ]
          },
          "metadata": {
            "tags": []
          },
          "execution_count": 67
        }
      ]
    },
    {
      "cell_type": "code",
      "metadata": {
        "id": "XYtVJMm2-IQi",
        "colab_type": "code",
        "colab": {}
      },
      "source": [
        "y_test = np.reshape(y_test, (-1,1))"
      ],
      "execution_count": 0,
      "outputs": []
    },
    {
      "cell_type": "code",
      "metadata": {
        "id": "mgyTDhlT-IQm",
        "colab_type": "code",
        "outputId": "6adb8499-85a0-4037-cdd3-d7a56ed088b3",
        "colab": {
          "base_uri": "https://localhost:8080/",
          "height": 34
        }
      },
      "source": [
        "y_train.min()"
      ],
      "execution_count": 69,
      "outputs": [
        {
          "output_type": "execute_result",
          "data": {
            "text/plain": [
              "0"
            ]
          },
          "metadata": {
            "tags": []
          },
          "execution_count": 69
        }
      ]
    },
    {
      "cell_type": "code",
      "metadata": {
        "id": "kIDXV6m4-IQp",
        "colab_type": "code",
        "outputId": "3a534603-fc90-4452-91a2-9831a46320d0",
        "colab": {
          "base_uri": "https://localhost:8080/",
          "height": 34
        }
      },
      "source": [
        "y_test.min()"
      ],
      "execution_count": 70,
      "outputs": [
        {
          "output_type": "execute_result",
          "data": {
            "text/plain": [
              "0"
            ]
          },
          "metadata": {
            "tags": []
          },
          "execution_count": 70
        }
      ]
    },
    {
      "cell_type": "code",
      "metadata": {
        "id": "ZdJNaAkG-IQs",
        "colab_type": "code",
        "colab": {}
      },
      "source": [
        "y_cat_train = to_categorical(y_train, 10)"
      ],
      "execution_count": 0,
      "outputs": []
    },
    {
      "cell_type": "code",
      "metadata": {
        "id": "SB6siSrF-IQv",
        "colab_type": "code",
        "colab": {}
      },
      "source": [
        "y_cat_test = to_categorical(y_test, 10)"
      ],
      "execution_count": 0,
      "outputs": []
    },
    {
      "cell_type": "code",
      "metadata": {
        "id": "4NDxepKB-IQx",
        "colab_type": "code",
        "colab": {}
      },
      "source": [
        "from tensorflow.keras.models import Sequential\n",
        "from tensorflow.keras.layers import Dense, Conv2D, MaxPooling2D, Flatten"
      ],
      "execution_count": 0,
      "outputs": []
    },
    {
      "cell_type": "code",
      "metadata": {
        "id": "oo-aqJIb-IQ1",
        "colab_type": "code",
        "colab": {}
      },
      "source": [
        "model = Sequential()\n",
        "model.add(Conv2D(filters = 256, kernel_size = (2,2),strides = 1, padding = 'valid', input_shape = (28,28,1), activation = 'relu'))\n",
        "model.add(MaxPooling2D(pool_size = (2,2)))\n",
        "\n",
        "model.add(Conv2D(filters = 128, kernel_size = (2,2),strides = 1, padding = 'valid', input_shape = (28,28,1), activation = 'relu'))\n",
        "model.add(MaxPooling2D(pool_size = (2,2)))\n",
        "\n",
        "model.add(Conv2D(filters = 32, kernel_size = (2,2),strides = 1, padding = 'valid', input_shape = (28,28,1), activation = 'relu'))\n",
        "model.add(MaxPooling2D(pool_size = (2,2)))\n",
        "\n",
        "# model.add(Conv2D(filters = 16, kernel_size = (3,3),strides = 1, padding = 'valid', input_shape = (28,28,1), activation = 'relu'))\n",
        "# model.add(MaxPooling2D(pool_size = (2,2)))\n",
        "\n",
        "# model.add(Conv2D(filters = 8, kernel_size = (3,3),strides = 1, padding = 'valid', input_shape = (28,28,1), activation = 'relu'))\n",
        "# model.add(MaxPooling2D(pool_size = (2,2)))\n",
        "\n",
        "model.add(Flatten())\n",
        "model.add(Dense(128, activation = 'relu'))\n",
        "\n",
        "model.add(Dense(10, activation = 'softmax'))\n",
        "\n",
        "model.compile(loss ='categorical_crossentropy', optimizer = 'adam', metrics = ['accuracy'] )\n",
        "\n"
      ],
      "execution_count": 0,
      "outputs": []
    },
    {
      "cell_type": "code",
      "metadata": {
        "id": "Gty449Fb-IQ3",
        "colab_type": "code",
        "outputId": "94ed1cb6-4e80-4cd4-94d8-d1d68d2c3f87",
        "colab": {
          "base_uri": "https://localhost:8080/",
          "height": 474
        }
      },
      "source": [
        "model.summary()"
      ],
      "execution_count": 127,
      "outputs": [
        {
          "output_type": "stream",
          "text": [
            "Model: \"sequential_5\"\n",
            "_________________________________________________________________\n",
            "Layer (type)                 Output Shape              Param #   \n",
            "=================================================================\n",
            "conv2d_18 (Conv2D)           (None, 27, 27, 256)       1280      \n",
            "_________________________________________________________________\n",
            "max_pooling2d_15 (MaxPooling (None, 13, 13, 256)       0         \n",
            "_________________________________________________________________\n",
            "conv2d_19 (Conv2D)           (None, 12, 12, 128)       131200    \n",
            "_________________________________________________________________\n",
            "max_pooling2d_16 (MaxPooling (None, 6, 6, 128)         0         \n",
            "_________________________________________________________________\n",
            "conv2d_20 (Conv2D)           (None, 5, 5, 32)          16416     \n",
            "_________________________________________________________________\n",
            "max_pooling2d_17 (MaxPooling (None, 2, 2, 32)          0         \n",
            "_________________________________________________________________\n",
            "flatten_2 (Flatten)          (None, 128)               0         \n",
            "_________________________________________________________________\n",
            "dense_4 (Dense)              (None, 128)               16512     \n",
            "_________________________________________________________________\n",
            "dense_5 (Dense)              (None, 10)                1290      \n",
            "=================================================================\n",
            "Total params: 166,698\n",
            "Trainable params: 166,698\n",
            "Non-trainable params: 0\n",
            "_________________________________________________________________\n"
          ],
          "name": "stdout"
        }
      ]
    },
    {
      "cell_type": "code",
      "metadata": {
        "id": "1T6Uzlrm-IQ6",
        "colab_type": "code",
        "colab": {}
      },
      "source": [
        "from tensorflow.keras.callbacks import EarlyStopping"
      ],
      "execution_count": 0,
      "outputs": []
    },
    {
      "cell_type": "code",
      "metadata": {
        "id": "ROcU5eJU-IQ9",
        "colab_type": "code",
        "colab": {}
      },
      "source": [
        "es = EarlyStopping(monitor = 'val_loss', patience = 2)"
      ],
      "execution_count": 0,
      "outputs": []
    },
    {
      "cell_type": "code",
      "metadata": {
        "id": "6pdNRWaW-IQ_",
        "colab_type": "code",
        "outputId": "4e5b469f-7e7b-499c-eb55-809ea75dcf5d",
        "colab": {
          "base_uri": "https://localhost:8080/",
          "height": 1000
        }
      },
      "source": [
        "with tf.device('/device:GPU:0'):\n",
        "  model.fit(x = X_train, y = y_cat_train, epochs = 200 , validation_data=(X_test, y_cat_test)) #, callbacks = [es])"
      ],
      "execution_count": 130,
      "outputs": [
        {
          "output_type": "stream",
          "text": [
            "Epoch 1/200\n",
            "880/880 [==============================] - 6s 7ms/step - loss: 0.3568 - accuracy: 0.8857 - val_loss: 0.1600 - val_accuracy: 0.9507\n",
            "Epoch 2/200\n",
            "880/880 [==============================] - 6s 7ms/step - loss: 0.1174 - accuracy: 0.9633 - val_loss: 0.1125 - val_accuracy: 0.9663\n",
            "Epoch 3/200\n",
            "880/880 [==============================] - 6s 7ms/step - loss: 0.0836 - accuracy: 0.9726 - val_loss: 0.1015 - val_accuracy: 0.9690\n",
            "Epoch 4/200\n",
            "880/880 [==============================] - 6s 7ms/step - loss: 0.0693 - accuracy: 0.9773 - val_loss: 0.0934 - val_accuracy: 0.9705\n",
            "Epoch 5/200\n",
            "880/880 [==============================] - 6s 7ms/step - loss: 0.0553 - accuracy: 0.9822 - val_loss: 0.0923 - val_accuracy: 0.9722\n",
            "Epoch 6/200\n",
            "880/880 [==============================] - 6s 7ms/step - loss: 0.0473 - accuracy: 0.9848 - val_loss: 0.0908 - val_accuracy: 0.9746\n",
            "Epoch 7/200\n",
            "880/880 [==============================] - 6s 7ms/step - loss: 0.0401 - accuracy: 0.9870 - val_loss: 0.0912 - val_accuracy: 0.9745\n",
            "Epoch 8/200\n",
            "880/880 [==============================] - 6s 7ms/step - loss: 0.0342 - accuracy: 0.9880 - val_loss: 0.0877 - val_accuracy: 0.9773\n",
            "Epoch 9/200\n",
            "880/880 [==============================] - 6s 7ms/step - loss: 0.0274 - accuracy: 0.9899 - val_loss: 0.0980 - val_accuracy: 0.9746\n",
            "Epoch 10/200\n",
            "880/880 [==============================] - 6s 7ms/step - loss: 0.0288 - accuracy: 0.9898 - val_loss: 0.0928 - val_accuracy: 0.9781\n",
            "Epoch 11/200\n",
            "880/880 [==============================] - 6s 7ms/step - loss: 0.0201 - accuracy: 0.9934 - val_loss: 0.0935 - val_accuracy: 0.9778\n",
            "Epoch 12/200\n",
            "880/880 [==============================] - 6s 7ms/step - loss: 0.0176 - accuracy: 0.9943 - val_loss: 0.1098 - val_accuracy: 0.9752\n",
            "Epoch 13/200\n",
            "880/880 [==============================] - 6s 7ms/step - loss: 0.0191 - accuracy: 0.9930 - val_loss: 0.1370 - val_accuracy: 0.9698\n",
            "Epoch 14/200\n",
            "880/880 [==============================] - 6s 7ms/step - loss: 0.0154 - accuracy: 0.9946 - val_loss: 0.1213 - val_accuracy: 0.9752\n",
            "Epoch 15/200\n",
            "880/880 [==============================] - 6s 7ms/step - loss: 0.0183 - accuracy: 0.9932 - val_loss: 0.1164 - val_accuracy: 0.9753\n",
            "Epoch 16/200\n",
            "880/880 [==============================] - 6s 7ms/step - loss: 0.0137 - accuracy: 0.9947 - val_loss: 0.1121 - val_accuracy: 0.9767\n",
            "Epoch 17/200\n",
            "880/880 [==============================] - 6s 7ms/step - loss: 0.0116 - accuracy: 0.9957 - val_loss: 0.1721 - val_accuracy: 0.9683\n",
            "Epoch 18/200\n",
            "880/880 [==============================] - 6s 7ms/step - loss: 0.0171 - accuracy: 0.9939 - val_loss: 0.1545 - val_accuracy: 0.9719\n",
            "Epoch 19/200\n",
            "880/880 [==============================] - 6s 7ms/step - loss: 0.0111 - accuracy: 0.9961 - val_loss: 0.1397 - val_accuracy: 0.9757\n",
            "Epoch 20/200\n",
            "880/880 [==============================] - 6s 7ms/step - loss: 0.0117 - accuracy: 0.9961 - val_loss: 0.1267 - val_accuracy: 0.9773\n",
            "Epoch 21/200\n",
            "880/880 [==============================] - 6s 7ms/step - loss: 0.0097 - accuracy: 0.9968 - val_loss: 0.1547 - val_accuracy: 0.9747\n",
            "Epoch 22/200\n",
            "880/880 [==============================] - 6s 7ms/step - loss: 0.0118 - accuracy: 0.9958 - val_loss: 0.1763 - val_accuracy: 0.9717\n",
            "Epoch 23/200\n",
            "880/880 [==============================] - 6s 7ms/step - loss: 0.0125 - accuracy: 0.9961 - val_loss: 0.1226 - val_accuracy: 0.9805\n",
            "Epoch 24/200\n",
            "880/880 [==============================] - 6s 7ms/step - loss: 0.0095 - accuracy: 0.9973 - val_loss: 0.1315 - val_accuracy: 0.9774\n",
            "Epoch 25/200\n",
            "880/880 [==============================] - 6s 7ms/step - loss: 0.0096 - accuracy: 0.9970 - val_loss: 0.1243 - val_accuracy: 0.9793\n",
            "Epoch 26/200\n",
            "880/880 [==============================] - 6s 7ms/step - loss: 0.0062 - accuracy: 0.9983 - val_loss: 0.1442 - val_accuracy: 0.9773\n",
            "Epoch 27/200\n",
            "880/880 [==============================] - 6s 7ms/step - loss: 0.0114 - accuracy: 0.9957 - val_loss: 0.1607 - val_accuracy: 0.9732\n",
            "Epoch 28/200\n",
            "880/880 [==============================] - 6s 7ms/step - loss: 0.0086 - accuracy: 0.9973 - val_loss: 0.1518 - val_accuracy: 0.9758\n",
            "Epoch 29/200\n",
            "880/880 [==============================] - 6s 7ms/step - loss: 0.0072 - accuracy: 0.9975 - val_loss: 0.1518 - val_accuracy: 0.9765\n",
            "Epoch 30/200\n",
            "880/880 [==============================] - 6s 7ms/step - loss: 0.0098 - accuracy: 0.9968 - val_loss: 0.1510 - val_accuracy: 0.9762\n",
            "Epoch 31/200\n",
            "880/880 [==============================] - 6s 7ms/step - loss: 0.0062 - accuracy: 0.9978 - val_loss: 0.1450 - val_accuracy: 0.9792\n",
            "Epoch 32/200\n",
            "880/880 [==============================] - 6s 7ms/step - loss: 0.0087 - accuracy: 0.9974 - val_loss: 0.1521 - val_accuracy: 0.9767\n",
            "Epoch 33/200\n",
            "880/880 [==============================] - 6s 7ms/step - loss: 0.0110 - accuracy: 0.9966 - val_loss: 0.1435 - val_accuracy: 0.9773\n",
            "Epoch 34/200\n",
            "880/880 [==============================] - 6s 7ms/step - loss: 0.0059 - accuracy: 0.9980 - val_loss: 0.1478 - val_accuracy: 0.9786\n",
            "Epoch 35/200\n",
            "880/880 [==============================] - 6s 7ms/step - loss: 0.0093 - accuracy: 0.9971 - val_loss: 0.1336 - val_accuracy: 0.9805\n",
            "Epoch 36/200\n",
            "880/880 [==============================] - 6s 7ms/step - loss: 0.0073 - accuracy: 0.9976 - val_loss: 0.1614 - val_accuracy: 0.9791\n",
            "Epoch 37/200\n",
            "880/880 [==============================] - 6s 7ms/step - loss: 0.0077 - accuracy: 0.9976 - val_loss: 0.1522 - val_accuracy: 0.9788\n",
            "Epoch 38/200\n",
            "880/880 [==============================] - 6s 7ms/step - loss: 0.0081 - accuracy: 0.9977 - val_loss: 0.1447 - val_accuracy: 0.9781\n",
            "Epoch 39/200\n",
            "880/880 [==============================] - 6s 7ms/step - loss: 0.0065 - accuracy: 0.9976 - val_loss: 0.1888 - val_accuracy: 0.9724\n",
            "Epoch 40/200\n",
            "880/880 [==============================] - 6s 7ms/step - loss: 0.0037 - accuracy: 0.9989 - val_loss: 0.1543 - val_accuracy: 0.9797\n",
            "Epoch 41/200\n",
            "880/880 [==============================] - 6s 7ms/step - loss: 0.0053 - accuracy: 0.9986 - val_loss: 0.2179 - val_accuracy: 0.9670\n",
            "Epoch 42/200\n",
            "880/880 [==============================] - 6s 7ms/step - loss: 0.0122 - accuracy: 0.9965 - val_loss: 0.1561 - val_accuracy: 0.9789\n",
            "Epoch 43/200\n",
            "880/880 [==============================] - 6s 7ms/step - loss: 0.0046 - accuracy: 0.9988 - val_loss: 0.1665 - val_accuracy: 0.9779\n",
            "Epoch 44/200\n",
            "880/880 [==============================] - 6s 7ms/step - loss: 0.0064 - accuracy: 0.9981 - val_loss: 0.1535 - val_accuracy: 0.9786\n",
            "Epoch 45/200\n",
            "880/880 [==============================] - 6s 7ms/step - loss: 0.0086 - accuracy: 0.9975 - val_loss: 0.1621 - val_accuracy: 0.9778\n",
            "Epoch 46/200\n",
            "880/880 [==============================] - 6s 7ms/step - loss: 0.0050 - accuracy: 0.9986 - val_loss: 0.1944 - val_accuracy: 0.9776\n",
            "Epoch 47/200\n",
            "880/880 [==============================] - 6s 7ms/step - loss: 0.0085 - accuracy: 0.9975 - val_loss: 0.1684 - val_accuracy: 0.9788\n",
            "Epoch 48/200\n",
            "880/880 [==============================] - 6s 7ms/step - loss: 0.0064 - accuracy: 0.9979 - val_loss: 0.1983 - val_accuracy: 0.9763\n",
            "Epoch 49/200\n",
            "880/880 [==============================] - 6s 7ms/step - loss: 0.0090 - accuracy: 0.9970 - val_loss: 0.2025 - val_accuracy: 0.9771\n",
            "Epoch 50/200\n",
            "880/880 [==============================] - 6s 7ms/step - loss: 0.0046 - accuracy: 0.9985 - val_loss: 0.1909 - val_accuracy: 0.9794\n",
            "Epoch 51/200\n",
            "880/880 [==============================] - 6s 7ms/step - loss: 0.0069 - accuracy: 0.9980 - val_loss: 0.2145 - val_accuracy: 0.9742\n",
            "Epoch 52/200\n",
            "880/880 [==============================] - 6s 7ms/step - loss: 0.0091 - accuracy: 0.9969 - val_loss: 0.1862 - val_accuracy: 0.9766\n",
            "Epoch 53/200\n",
            "880/880 [==============================] - 6s 7ms/step - loss: 0.0041 - accuracy: 0.9987 - val_loss: 0.1635 - val_accuracy: 0.9794\n",
            "Epoch 54/200\n",
            "880/880 [==============================] - 6s 7ms/step - loss: 0.0022 - accuracy: 0.9993 - val_loss: 0.1881 - val_accuracy: 0.9781\n",
            "Epoch 55/200\n",
            "880/880 [==============================] - 6s 7ms/step - loss: 0.0108 - accuracy: 0.9965 - val_loss: 0.1733 - val_accuracy: 0.9773\n",
            "Epoch 56/200\n",
            "880/880 [==============================] - 6s 7ms/step - loss: 0.0062 - accuracy: 0.9978 - val_loss: 0.1834 - val_accuracy: 0.9767\n",
            "Epoch 57/200\n",
            "880/880 [==============================] - 6s 7ms/step - loss: 0.0052 - accuracy: 0.9986 - val_loss: 0.2641 - val_accuracy: 0.9725\n",
            "Epoch 58/200\n",
            "880/880 [==============================] - 6s 7ms/step - loss: 0.0080 - accuracy: 0.9979 - val_loss: 0.1978 - val_accuracy: 0.9776\n",
            "Epoch 59/200\n",
            "880/880 [==============================] - 6s 7ms/step - loss: 0.0031 - accuracy: 0.9990 - val_loss: 0.2371 - val_accuracy: 0.9755\n",
            "Epoch 60/200\n",
            "880/880 [==============================] - 6s 7ms/step - loss: 0.0094 - accuracy: 0.9976 - val_loss: 0.1969 - val_accuracy: 0.9752\n",
            "Epoch 61/200\n",
            "880/880 [==============================] - 6s 7ms/step - loss: 0.0075 - accuracy: 0.9978 - val_loss: 0.1770 - val_accuracy: 0.9782\n",
            "Epoch 62/200\n",
            "880/880 [==============================] - 6s 7ms/step - loss: 8.2111e-04 - accuracy: 0.9996 - val_loss: 0.1713 - val_accuracy: 0.9804\n",
            "Epoch 63/200\n",
            "880/880 [==============================] - 6s 7ms/step - loss: 1.2837e-04 - accuracy: 1.0000 - val_loss: 0.1826 - val_accuracy: 0.9800\n",
            "Epoch 64/200\n",
            "880/880 [==============================] - 6s 7ms/step - loss: 0.0136 - accuracy: 0.9967 - val_loss: 0.1973 - val_accuracy: 0.9773\n",
            "Epoch 65/200\n",
            "880/880 [==============================] - 6s 7ms/step - loss: 0.0046 - accuracy: 0.9981 - val_loss: 0.2193 - val_accuracy: 0.9773\n",
            "Epoch 66/200\n",
            "880/880 [==============================] - 6s 7ms/step - loss: 0.0040 - accuracy: 0.9990 - val_loss: 0.2504 - val_accuracy: 0.9777\n",
            "Epoch 67/200\n",
            "880/880 [==============================] - 6s 7ms/step - loss: 0.0043 - accuracy: 0.9986 - val_loss: 0.2243 - val_accuracy: 0.9796\n",
            "Epoch 68/200\n",
            "880/880 [==============================] - 6s 7ms/step - loss: 0.0073 - accuracy: 0.9978 - val_loss: 0.2140 - val_accuracy: 0.9762\n",
            "Epoch 69/200\n",
            "880/880 [==============================] - 6s 7ms/step - loss: 0.0054 - accuracy: 0.9985 - val_loss: 0.2145 - val_accuracy: 0.9789\n",
            "Epoch 70/200\n",
            "880/880 [==============================] - 6s 7ms/step - loss: 0.0019 - accuracy: 0.9994 - val_loss: 0.2074 - val_accuracy: 0.9782\n",
            "Epoch 71/200\n",
            "880/880 [==============================] - 6s 7ms/step - loss: 0.0078 - accuracy: 0.9978 - val_loss: 0.2185 - val_accuracy: 0.9768\n",
            "Epoch 72/200\n",
            "880/880 [==============================] - 6s 7ms/step - loss: 0.0078 - accuracy: 0.9979 - val_loss: 0.2062 - val_accuracy: 0.9777\n",
            "Epoch 73/200\n",
            "880/880 [==============================] - 6s 7ms/step - loss: 0.0033 - accuracy: 0.9990 - val_loss: 0.1934 - val_accuracy: 0.9786\n",
            "Epoch 74/200\n",
            "880/880 [==============================] - 6s 7ms/step - loss: 0.0052 - accuracy: 0.9985 - val_loss: 0.2617 - val_accuracy: 0.9743\n",
            "Epoch 75/200\n",
            "880/880 [==============================] - 6s 7ms/step - loss: 0.0077 - accuracy: 0.9979 - val_loss: 0.2136 - val_accuracy: 0.9781\n",
            "Epoch 76/200\n",
            "880/880 [==============================] - 6s 7ms/step - loss: 0.0048 - accuracy: 0.9989 - val_loss: 0.2074 - val_accuracy: 0.9777\n",
            "Epoch 77/200\n",
            "880/880 [==============================] - 6s 7ms/step - loss: 0.0030 - accuracy: 0.9990 - val_loss: 0.2270 - val_accuracy: 0.9762\n",
            "Epoch 78/200\n",
            "880/880 [==============================] - 6s 7ms/step - loss: 0.0043 - accuracy: 0.9986 - val_loss: 0.2169 - val_accuracy: 0.9791\n",
            "Epoch 79/200\n",
            "880/880 [==============================] - 6s 7ms/step - loss: 0.0042 - accuracy: 0.9989 - val_loss: 0.2225 - val_accuracy: 0.9770\n",
            "Epoch 80/200\n",
            "880/880 [==============================] - 6s 7ms/step - loss: 0.0060 - accuracy: 0.9984 - val_loss: 0.2521 - val_accuracy: 0.9765\n",
            "Epoch 81/200\n",
            "880/880 [==============================] - 6s 7ms/step - loss: 0.0074 - accuracy: 0.9978 - val_loss: 0.2357 - val_accuracy: 0.9784\n",
            "Epoch 82/200\n",
            "880/880 [==============================] - 6s 7ms/step - loss: 0.0046 - accuracy: 0.9985 - val_loss: 0.2381 - val_accuracy: 0.9768\n",
            "Epoch 83/200\n",
            "880/880 [==============================] - 6s 7ms/step - loss: 0.0049 - accuracy: 0.9986 - val_loss: 0.2228 - val_accuracy: 0.9772\n",
            "Epoch 84/200\n",
            "880/880 [==============================] - 6s 7ms/step - loss: 0.0032 - accuracy: 0.9993 - val_loss: 0.2260 - val_accuracy: 0.9755\n",
            "Epoch 85/200\n",
            "880/880 [==============================] - 6s 7ms/step - loss: 0.0050 - accuracy: 0.9985 - val_loss: 0.2104 - val_accuracy: 0.9781\n",
            "Epoch 86/200\n",
            "880/880 [==============================] - 6s 7ms/step - loss: 0.0034 - accuracy: 0.9991 - val_loss: 0.2624 - val_accuracy: 0.9768\n",
            "Epoch 87/200\n",
            "880/880 [==============================] - 6s 7ms/step - loss: 0.0079 - accuracy: 0.9978 - val_loss: 0.2577 - val_accuracy: 0.9773\n",
            "Epoch 88/200\n",
            "880/880 [==============================] - 6s 7ms/step - loss: 0.0049 - accuracy: 0.9985 - val_loss: 0.2453 - val_accuracy: 0.9771\n",
            "Epoch 89/200\n",
            "880/880 [==============================] - 6s 7ms/step - loss: 0.0037 - accuracy: 0.9991 - val_loss: 0.2255 - val_accuracy: 0.9798\n",
            "Epoch 90/200\n",
            "880/880 [==============================] - 6s 7ms/step - loss: 0.0037 - accuracy: 0.9991 - val_loss: 0.2934 - val_accuracy: 0.9727\n",
            "Epoch 91/200\n",
            "880/880 [==============================] - 6s 7ms/step - loss: 0.0056 - accuracy: 0.9986 - val_loss: 0.2487 - val_accuracy: 0.9768\n",
            "Epoch 92/200\n",
            "880/880 [==============================] - 6s 7ms/step - loss: 0.0074 - accuracy: 0.9984 - val_loss: 0.2423 - val_accuracy: 0.9794\n",
            "Epoch 93/200\n",
            "880/880 [==============================] - 6s 7ms/step - loss: 0.0031 - accuracy: 0.9990 - val_loss: 0.2477 - val_accuracy: 0.9799\n",
            "Epoch 94/200\n",
            "880/880 [==============================] - 6s 7ms/step - loss: 0.0056 - accuracy: 0.9988 - val_loss: 0.2519 - val_accuracy: 0.9781\n",
            "Epoch 95/200\n",
            "880/880 [==============================] - 6s 7ms/step - loss: 0.0033 - accuracy: 0.9992 - val_loss: 0.3039 - val_accuracy: 0.9753\n",
            "Epoch 96/200\n",
            "880/880 [==============================] - 6s 7ms/step - loss: 0.0053 - accuracy: 0.9988 - val_loss: 0.2845 - val_accuracy: 0.9786\n",
            "Epoch 97/200\n",
            "880/880 [==============================] - 6s 7ms/step - loss: 9.9818e-04 - accuracy: 0.9997 - val_loss: 0.2759 - val_accuracy: 0.9804\n",
            "Epoch 98/200\n",
            "880/880 [==============================] - 6s 7ms/step - loss: 0.0079 - accuracy: 0.9985 - val_loss: 0.2636 - val_accuracy: 0.9763\n",
            "Epoch 99/200\n",
            "880/880 [==============================] - 6s 7ms/step - loss: 0.0074 - accuracy: 0.9982 - val_loss: 0.2384 - val_accuracy: 0.9792\n",
            "Epoch 100/200\n",
            "880/880 [==============================] - 6s 7ms/step - loss: 0.0041 - accuracy: 0.9989 - val_loss: 0.2320 - val_accuracy: 0.9796\n",
            "Epoch 101/200\n",
            "880/880 [==============================] - 6s 7ms/step - loss: 0.0049 - accuracy: 0.9989 - val_loss: 0.2541 - val_accuracy: 0.9768\n",
            "Epoch 102/200\n",
            "880/880 [==============================] - 6s 7ms/step - loss: 0.0053 - accuracy: 0.9985 - val_loss: 0.2404 - val_accuracy: 0.9796\n",
            "Epoch 103/200\n",
            "880/880 [==============================] - 6s 7ms/step - loss: 0.0035 - accuracy: 0.9989 - val_loss: 0.2514 - val_accuracy: 0.9812\n",
            "Epoch 104/200\n",
            "880/880 [==============================] - 6s 7ms/step - loss: 0.0051 - accuracy: 0.9987 - val_loss: 0.2439 - val_accuracy: 0.9810\n",
            "Epoch 105/200\n",
            "880/880 [==============================] - 6s 7ms/step - loss: 0.0029 - accuracy: 0.9990 - val_loss: 0.2714 - val_accuracy: 0.9780\n",
            "Epoch 106/200\n",
            "880/880 [==============================] - 6s 7ms/step - loss: 0.0045 - accuracy: 0.9989 - val_loss: 0.2937 - val_accuracy: 0.9790\n",
            "Epoch 107/200\n",
            "880/880 [==============================] - 6s 7ms/step - loss: 0.0030 - accuracy: 0.9991 - val_loss: 0.3313 - val_accuracy: 0.9768\n",
            "Epoch 108/200\n",
            "880/880 [==============================] - 6s 7ms/step - loss: 0.0063 - accuracy: 0.9988 - val_loss: 0.3020 - val_accuracy: 0.9771\n",
            "Epoch 109/200\n",
            "880/880 [==============================] - 6s 7ms/step - loss: 0.0057 - accuracy: 0.9985 - val_loss: 0.2852 - val_accuracy: 0.9792\n",
            "Epoch 110/200\n",
            "880/880 [==============================] - 6s 7ms/step - loss: 0.0037 - accuracy: 0.9990 - val_loss: 0.2686 - val_accuracy: 0.9789\n",
            "Epoch 111/200\n",
            "880/880 [==============================] - 6s 7ms/step - loss: 4.4937e-04 - accuracy: 0.9999 - val_loss: 0.2361 - val_accuracy: 0.9812\n",
            "Epoch 112/200\n",
            "880/880 [==============================] - 6s 7ms/step - loss: 4.1801e-05 - accuracy: 1.0000 - val_loss: 0.2372 - val_accuracy: 0.9809\n",
            "Epoch 113/200\n",
            "880/880 [==============================] - 6s 7ms/step - loss: 0.0071 - accuracy: 0.9985 - val_loss: 0.3033 - val_accuracy: 0.9749\n",
            "Epoch 114/200\n",
            "880/880 [==============================] - 6s 7ms/step - loss: 0.0077 - accuracy: 0.9979 - val_loss: 0.2305 - val_accuracy: 0.9805\n",
            "Epoch 115/200\n",
            "880/880 [==============================] - 6s 7ms/step - loss: 5.0241e-04 - accuracy: 0.9999 - val_loss: 0.2352 - val_accuracy: 0.9803\n",
            "Epoch 116/200\n",
            "880/880 [==============================] - 6s 7ms/step - loss: 7.6654e-06 - accuracy: 1.0000 - val_loss: 0.2362 - val_accuracy: 0.9807\n",
            "Epoch 117/200\n",
            "880/880 [==============================] - 6s 7ms/step - loss: 2.4847e-06 - accuracy: 1.0000 - val_loss: 0.2364 - val_accuracy: 0.9809\n",
            "Epoch 118/200\n",
            "880/880 [==============================] - 6s 7ms/step - loss: 1.7677e-06 - accuracy: 1.0000 - val_loss: 0.2367 - val_accuracy: 0.9809\n",
            "Epoch 119/200\n",
            "880/880 [==============================] - 6s 7ms/step - loss: 1.2914e-06 - accuracy: 1.0000 - val_loss: 0.2371 - val_accuracy: 0.9810\n",
            "Epoch 120/200\n",
            "880/880 [==============================] - 6s 7ms/step - loss: 9.0358e-07 - accuracy: 1.0000 - val_loss: 0.2377 - val_accuracy: 0.9810\n",
            "Epoch 121/200\n",
            "880/880 [==============================] - 6s 7ms/step - loss: 6.5124e-07 - accuracy: 1.0000 - val_loss: 0.2383 - val_accuracy: 0.9808\n",
            "Epoch 122/200\n",
            "880/880 [==============================] - 6s 7ms/step - loss: 4.6974e-07 - accuracy: 1.0000 - val_loss: 0.2392 - val_accuracy: 0.9809\n",
            "Epoch 123/200\n",
            "880/880 [==============================] - 6s 7ms/step - loss: 3.3720e-07 - accuracy: 1.0000 - val_loss: 0.2403 - val_accuracy: 0.9809\n",
            "Epoch 124/200\n",
            "880/880 [==============================] - 6s 7ms/step - loss: 2.3618e-07 - accuracy: 1.0000 - val_loss: 0.2415 - val_accuracy: 0.9811\n",
            "Epoch 125/200\n",
            "880/880 [==============================] - 6s 7ms/step - loss: 1.6608e-07 - accuracy: 1.0000 - val_loss: 0.2430 - val_accuracy: 0.9810\n",
            "Epoch 126/200\n",
            "880/880 [==============================] - 6s 7ms/step - loss: 1.1500e-07 - accuracy: 1.0000 - val_loss: 0.2448 - val_accuracy: 0.9810\n",
            "Epoch 127/200\n",
            "880/880 [==============================] - 6s 7ms/step - loss: 7.9239e-08 - accuracy: 1.0000 - val_loss: 0.2468 - val_accuracy: 0.9810\n",
            "Epoch 128/200\n",
            "880/880 [==============================] - 6s 7ms/step - loss: 5.3953e-08 - accuracy: 1.0000 - val_loss: 0.2488 - val_accuracy: 0.9811\n",
            "Epoch 129/200\n",
            "880/880 [==============================] - 6s 7ms/step - loss: 3.6398e-08 - accuracy: 1.0000 - val_loss: 0.2513 - val_accuracy: 0.9811\n",
            "Epoch 130/200\n",
            "880/880 [==============================] - 6s 7ms/step - loss: 2.4655e-08 - accuracy: 1.0000 - val_loss: 0.2538 - val_accuracy: 0.9813\n",
            "Epoch 131/200\n",
            "880/880 [==============================] - 6s 7ms/step - loss: 1.6208e-08 - accuracy: 1.0000 - val_loss: 0.2567 - val_accuracy: 0.9812\n",
            "Epoch 132/200\n",
            "880/880 [==============================] - 6s 7ms/step - loss: 1.1044e-08 - accuracy: 1.0000 - val_loss: 0.2595 - val_accuracy: 0.9811\n",
            "Epoch 133/200\n",
            "880/880 [==============================] - 6s 7ms/step - loss: 7.0704e-09 - accuracy: 1.0000 - val_loss: 0.2625 - val_accuracy: 0.9811\n",
            "Epoch 134/200\n",
            "880/880 [==============================] - 6s 7ms/step - loss: 4.8633e-09 - accuracy: 1.0000 - val_loss: 0.2653 - val_accuracy: 0.9812\n",
            "Epoch 135/200\n",
            "880/880 [==============================] - 6s 7ms/step - loss: 3.1730e-09 - accuracy: 1.0000 - val_loss: 0.2684 - val_accuracy: 0.9812\n",
            "Epoch 136/200\n",
            "880/880 [==============================] - 6s 7ms/step - loss: 2.1266e-09 - accuracy: 1.0000 - val_loss: 0.2713 - val_accuracy: 0.9812\n",
            "Epoch 137/200\n",
            "880/880 [==============================] - 6s 7ms/step - loss: 1.4022e-09 - accuracy: 1.0000 - val_loss: 0.2742 - val_accuracy: 0.9813\n",
            "Epoch 138/200\n",
            "880/880 [==============================] - 6s 7ms/step - loss: 9.5317e-10 - accuracy: 1.0000 - val_loss: 0.2772 - val_accuracy: 0.9813\n",
            "Epoch 139/200\n",
            "880/880 [==============================] - 6s 7ms/step - loss: 5.8884e-10 - accuracy: 1.0000 - val_loss: 0.2793 - val_accuracy: 0.9815\n",
            "Epoch 140/200\n",
            "880/880 [==============================] - 6s 7ms/step - loss: 4.3210e-10 - accuracy: 1.0000 - val_loss: 0.2816 - val_accuracy: 0.9816\n",
            "Epoch 141/200\n",
            "880/880 [==============================] - 6s 7ms/step - loss: 2.9230e-10 - accuracy: 1.0000 - val_loss: 0.2837 - val_accuracy: 0.9815\n",
            "Epoch 142/200\n",
            "880/880 [==============================] - 6s 7ms/step - loss: 1.8640e-10 - accuracy: 1.0000 - val_loss: 0.2855 - val_accuracy: 0.9815\n",
            "Epoch 143/200\n",
            "880/880 [==============================] - 6s 7ms/step - loss: 1.2709e-10 - accuracy: 1.0000 - val_loss: 0.2862 - val_accuracy: 0.9815\n",
            "Epoch 144/200\n",
            "880/880 [==============================] - 6s 7ms/step - loss: 7.2017e-11 - accuracy: 1.0000 - val_loss: 0.2861 - val_accuracy: 0.9814\n",
            "Epoch 145/200\n",
            "880/880 [==============================] - 6s 7ms/step - loss: 5.5072e-11 - accuracy: 1.0000 - val_loss: 0.2854 - val_accuracy: 0.9815\n",
            "Epoch 146/200\n",
            "880/880 [==============================] - 6s 7ms/step - loss: 5.5072e-11 - accuracy: 1.0000 - val_loss: 0.2853 - val_accuracy: 0.9814\n",
            "Epoch 147/200\n",
            "880/880 [==============================] - 6s 7ms/step - loss: 5.5072e-11 - accuracy: 1.0000 - val_loss: 0.2849 - val_accuracy: 0.9815\n",
            "Epoch 148/200\n",
            "880/880 [==============================] - 6s 7ms/step - loss: 3.8127e-11 - accuracy: 1.0000 - val_loss: 0.2850 - val_accuracy: 0.9814\n",
            "Epoch 149/200\n",
            "880/880 [==============================] - 6s 7ms/step - loss: 3.3890e-11 - accuracy: 1.0000 - val_loss: 0.2842 - val_accuracy: 0.9814\n",
            "Epoch 150/200\n",
            "880/880 [==============================] - 6s 7ms/step - loss: 2.5418e-11 - accuracy: 1.0000 - val_loss: 0.2836 - val_accuracy: 0.9813\n",
            "Epoch 151/200\n",
            "880/880 [==============================] - 6s 7ms/step - loss: 4.2363e-11 - accuracy: 1.0000 - val_loss: 0.2839 - val_accuracy: 0.9813\n",
            "Epoch 152/200\n",
            "880/880 [==============================] - 6s 7ms/step - loss: 1.6945e-11 - accuracy: 1.0000 - val_loss: 0.2830 - val_accuracy: 0.9812\n",
            "Epoch 153/200\n",
            "880/880 [==============================] - 6s 7ms/step - loss: 2.9654e-11 - accuracy: 1.0000 - val_loss: 0.2831 - val_accuracy: 0.9813\n",
            "Epoch 154/200\n",
            "880/880 [==============================] - 6s 7ms/step - loss: 2.5418e-11 - accuracy: 1.0000 - val_loss: 0.2827 - val_accuracy: 0.9812\n",
            "Epoch 155/200\n",
            "880/880 [==============================] - 6s 7ms/step - loss: 8.4726e-12 - accuracy: 1.0000 - val_loss: 0.2821 - val_accuracy: 0.9812\n",
            "Epoch 156/200\n",
            "880/880 [==============================] - 6s 7ms/step - loss: 1.2709e-11 - accuracy: 1.0000 - val_loss: 0.2820 - val_accuracy: 0.9812\n",
            "Epoch 157/200\n",
            "880/880 [==============================] - 6s 7ms/step - loss: 1.2709e-11 - accuracy: 1.0000 - val_loss: 0.2817 - val_accuracy: 0.9812\n",
            "Epoch 158/200\n",
            "880/880 [==============================] - 6s 7ms/step - loss: 8.4726e-12 - accuracy: 1.0000 - val_loss: 0.2818 - val_accuracy: 0.9812\n",
            "Epoch 159/200\n",
            "880/880 [==============================] - 6s 7ms/step - loss: 2.1181e-11 - accuracy: 1.0000 - val_loss: 0.2818 - val_accuracy: 0.9813\n",
            "Epoch 160/200\n",
            "880/880 [==============================] - 6s 7ms/step - loss: 4.2363e-12 - accuracy: 1.0000 - val_loss: 0.2821 - val_accuracy: 0.9812\n",
            "Epoch 161/200\n",
            "880/880 [==============================] - 6s 7ms/step - loss: 8.4726e-12 - accuracy: 1.0000 - val_loss: 0.2824 - val_accuracy: 0.9814\n",
            "Epoch 162/200\n",
            "880/880 [==============================] - 6s 7ms/step - loss: 4.2363e-12 - accuracy: 1.0000 - val_loss: 0.2826 - val_accuracy: 0.9815\n",
            "Epoch 163/200\n",
            "880/880 [==============================] - 6s 7ms/step - loss: 4.2363e-12 - accuracy: 1.0000 - val_loss: 0.2829 - val_accuracy: 0.9814\n",
            "Epoch 164/200\n",
            "880/880 [==============================] - 6s 7ms/step - loss: 4.2363e-12 - accuracy: 1.0000 - val_loss: 0.2836 - val_accuracy: 0.9814\n",
            "Epoch 165/200\n",
            "880/880 [==============================] - 6s 7ms/step - loss: 0.0000e+00 - accuracy: 1.0000 - val_loss: 0.2838 - val_accuracy: 0.9815\n",
            "Epoch 166/200\n",
            "880/880 [==============================] - 6s 7ms/step - loss: 0.0000e+00 - accuracy: 1.0000 - val_loss: 0.2843 - val_accuracy: 0.9815\n",
            "Epoch 167/200\n",
            "880/880 [==============================] - 6s 7ms/step - loss: 0.0000e+00 - accuracy: 1.0000 - val_loss: 0.2848 - val_accuracy: 0.9815\n",
            "Epoch 168/200\n",
            "880/880 [==============================] - 6s 7ms/step - loss: 0.0000e+00 - accuracy: 1.0000 - val_loss: 0.2853 - val_accuracy: 0.9817\n",
            "Epoch 169/200\n",
            "880/880 [==============================] - 6s 7ms/step - loss: 0.0000e+00 - accuracy: 1.0000 - val_loss: 0.2858 - val_accuracy: 0.9816\n",
            "Epoch 170/200\n",
            "880/880 [==============================] - 6s 7ms/step - loss: 0.0000e+00 - accuracy: 1.0000 - val_loss: 0.2864 - val_accuracy: 0.9817\n",
            "Epoch 171/200\n",
            "880/880 [==============================] - 6s 7ms/step - loss: 0.0000e+00 - accuracy: 1.0000 - val_loss: 0.2871 - val_accuracy: 0.9817\n",
            "Epoch 172/200\n",
            "880/880 [==============================] - 6s 7ms/step - loss: 0.0000e+00 - accuracy: 1.0000 - val_loss: 0.2878 - val_accuracy: 0.9818\n",
            "Epoch 173/200\n",
            "880/880 [==============================] - 6s 7ms/step - loss: 0.0000e+00 - accuracy: 1.0000 - val_loss: 0.2884 - val_accuracy: 0.9817\n",
            "Epoch 174/200\n",
            "880/880 [==============================] - 6s 7ms/step - loss: 0.0000e+00 - accuracy: 1.0000 - val_loss: 0.2891 - val_accuracy: 0.9817\n",
            "Epoch 175/200\n",
            "880/880 [==============================] - 6s 7ms/step - loss: 0.0000e+00 - accuracy: 1.0000 - val_loss: 0.2897 - val_accuracy: 0.9817\n",
            "Epoch 176/200\n",
            "880/880 [==============================] - 6s 7ms/step - loss: 0.0000e+00 - accuracy: 1.0000 - val_loss: 0.2905 - val_accuracy: 0.9818\n",
            "Epoch 177/200\n",
            "880/880 [==============================] - 6s 7ms/step - loss: 0.0000e+00 - accuracy: 1.0000 - val_loss: 0.2911 - val_accuracy: 0.9818\n",
            "Epoch 178/200\n",
            "880/880 [==============================] - 6s 7ms/step - loss: 0.0000e+00 - accuracy: 1.0000 - val_loss: 0.2918 - val_accuracy: 0.9817\n",
            "Epoch 179/200\n",
            "880/880 [==============================] - 6s 7ms/step - loss: 0.0000e+00 - accuracy: 1.0000 - val_loss: 0.2925 - val_accuracy: 0.9817\n",
            "Epoch 180/200\n",
            "880/880 [==============================] - 6s 7ms/step - loss: 0.0000e+00 - accuracy: 1.0000 - val_loss: 0.2931 - val_accuracy: 0.9817\n",
            "Epoch 181/200\n",
            "880/880 [==============================] - 6s 7ms/step - loss: 0.0000e+00 - accuracy: 1.0000 - val_loss: 0.2938 - val_accuracy: 0.9817\n",
            "Epoch 182/200\n",
            "880/880 [==============================] - 6s 7ms/step - loss: 0.0000e+00 - accuracy: 1.0000 - val_loss: 0.2944 - val_accuracy: 0.9817\n",
            "Epoch 183/200\n",
            "880/880 [==============================] - 6s 7ms/step - loss: 0.0000e+00 - accuracy: 1.0000 - val_loss: 0.2950 - val_accuracy: 0.9817\n",
            "Epoch 184/200\n",
            "880/880 [==============================] - 6s 7ms/step - loss: 0.0000e+00 - accuracy: 1.0000 - val_loss: 0.2956 - val_accuracy: 0.9817\n",
            "Epoch 185/200\n",
            "880/880 [==============================] - 6s 7ms/step - loss: 0.0000e+00 - accuracy: 1.0000 - val_loss: 0.2962 - val_accuracy: 0.9817\n",
            "Epoch 186/200\n",
            "880/880 [==============================] - 6s 7ms/step - loss: 0.0000e+00 - accuracy: 1.0000 - val_loss: 0.2968 - val_accuracy: 0.9817\n",
            "Epoch 187/200\n",
            "880/880 [==============================] - 6s 7ms/step - loss: 0.0000e+00 - accuracy: 1.0000 - val_loss: 0.2973 - val_accuracy: 0.9817\n",
            "Epoch 188/200\n",
            "880/880 [==============================] - 6s 7ms/step - loss: 0.0000e+00 - accuracy: 1.0000 - val_loss: 0.2979 - val_accuracy: 0.9817\n",
            "Epoch 189/200\n",
            "880/880 [==============================] - 6s 7ms/step - loss: 0.0000e+00 - accuracy: 1.0000 - val_loss: 0.2984 - val_accuracy: 0.9817\n",
            "Epoch 190/200\n",
            "880/880 [==============================] - 6s 7ms/step - loss: 0.0000e+00 - accuracy: 1.0000 - val_loss: 0.2989 - val_accuracy: 0.9817\n",
            "Epoch 191/200\n",
            "880/880 [==============================] - 6s 7ms/step - loss: 0.0000e+00 - accuracy: 1.0000 - val_loss: 0.2994 - val_accuracy: 0.9817\n",
            "Epoch 192/200\n",
            "880/880 [==============================] - 6s 7ms/step - loss: 0.0000e+00 - accuracy: 1.0000 - val_loss: 0.3000 - val_accuracy: 0.9817\n",
            "Epoch 193/200\n",
            "880/880 [==============================] - 6s 7ms/step - loss: 0.0000e+00 - accuracy: 1.0000 - val_loss: 0.3005 - val_accuracy: 0.9817\n",
            "Epoch 194/200\n",
            "880/880 [==============================] - 6s 7ms/step - loss: 0.0000e+00 - accuracy: 1.0000 - val_loss: 0.3010 - val_accuracy: 0.9817\n",
            "Epoch 195/200\n",
            "880/880 [==============================] - 6s 7ms/step - loss: 0.0000e+00 - accuracy: 1.0000 - val_loss: 0.3015 - val_accuracy: 0.9817\n",
            "Epoch 196/200\n",
            "880/880 [==============================] - 6s 7ms/step - loss: 0.0000e+00 - accuracy: 1.0000 - val_loss: 0.3019 - val_accuracy: 0.9817\n",
            "Epoch 197/200\n",
            "880/880 [==============================] - 6s 7ms/step - loss: 0.0000e+00 - accuracy: 1.0000 - val_loss: 0.3024 - val_accuracy: 0.9817\n",
            "Epoch 198/200\n",
            "880/880 [==============================] - 6s 7ms/step - loss: 0.0000e+00 - accuracy: 1.0000 - val_loss: 0.3028 - val_accuracy: 0.9817\n",
            "Epoch 199/200\n",
            "880/880 [==============================] - 6s 7ms/step - loss: 0.0000e+00 - accuracy: 1.0000 - val_loss: 0.3032 - val_accuracy: 0.9817\n",
            "Epoch 200/200\n",
            "880/880 [==============================] - 6s 7ms/step - loss: 0.0000e+00 - accuracy: 1.0000 - val_loss: 0.3037 - val_accuracy: 0.9817\n"
          ],
          "name": "stdout"
        }
      ]
    },
    {
      "cell_type": "code",
      "metadata": {
        "id": "AJE_s7Ht-IRC",
        "colab_type": "code",
        "colab": {}
      },
      "source": [
        "from tensorflow.keras.models import load_model"
      ],
      "execution_count": 0,
      "outputs": []
    },
    {
      "cell_type": "code",
      "metadata": {
        "id": "qOcWRRFt-IRF",
        "colab_type": "code",
        "colab": {}
      },
      "source": [
        "model.save('digit_recognizer.h5')"
      ],
      "execution_count": 0,
      "outputs": []
    },
    {
      "cell_type": "code",
      "metadata": {
        "id": "jqOHT9iG-IRI",
        "colab_type": "code",
        "colab": {}
      },
      "source": [
        "metrics = pd.DataFrame(model.history.history)"
      ],
      "execution_count": 0,
      "outputs": []
    },
    {
      "cell_type": "code",
      "metadata": {
        "id": "xcKCF6Bf-IRK",
        "colab_type": "code",
        "outputId": "fd4e7f66-87ad-44b2-8fd8-dedf4adf6008",
        "colab": {
          "base_uri": "https://localhost:8080/",
          "height": 34
        }
      },
      "source": [
        "metrics.columns"
      ],
      "execution_count": 134,
      "outputs": [
        {
          "output_type": "execute_result",
          "data": {
            "text/plain": [
              "Index(['loss', 'accuracy', 'val_loss', 'val_accuracy'], dtype='object')"
            ]
          },
          "metadata": {
            "tags": []
          },
          "execution_count": 134
        }
      ]
    },
    {
      "cell_type": "code",
      "metadata": {
        "id": "eHCHl0dP-IRO",
        "colab_type": "code",
        "outputId": "8b1c8bbe-88fb-45c7-ea34-fb8b19ffa18f",
        "colab": {
          "base_uri": "https://localhost:8080/",
          "height": 402
        }
      },
      "source": [
        "metrics"
      ],
      "execution_count": 135,
      "outputs": [
        {
          "output_type": "execute_result",
          "data": {
            "text/html": [
              "<div>\n",
              "<style scoped>\n",
              "    .dataframe tbody tr th:only-of-type {\n",
              "        vertical-align: middle;\n",
              "    }\n",
              "\n",
              "    .dataframe tbody tr th {\n",
              "        vertical-align: top;\n",
              "    }\n",
              "\n",
              "    .dataframe thead th {\n",
              "        text-align: right;\n",
              "    }\n",
              "</style>\n",
              "<table border=\"1\" class=\"dataframe\">\n",
              "  <thead>\n",
              "    <tr style=\"text-align: right;\">\n",
              "      <th></th>\n",
              "      <th>loss</th>\n",
              "      <th>accuracy</th>\n",
              "      <th>val_loss</th>\n",
              "      <th>val_accuracy</th>\n",
              "    </tr>\n",
              "  </thead>\n",
              "  <tbody>\n",
              "    <tr>\n",
              "      <th>0</th>\n",
              "      <td>0.356761</td>\n",
              "      <td>0.885679</td>\n",
              "      <td>0.160018</td>\n",
              "      <td>0.950722</td>\n",
              "    </tr>\n",
              "    <tr>\n",
              "      <th>1</th>\n",
              "      <td>0.117412</td>\n",
              "      <td>0.963255</td>\n",
              "      <td>0.112452</td>\n",
              "      <td>0.966306</td>\n",
              "    </tr>\n",
              "    <tr>\n",
              "      <th>2</th>\n",
              "      <td>0.083633</td>\n",
              "      <td>0.972566</td>\n",
              "      <td>0.101505</td>\n",
              "      <td>0.969048</td>\n",
              "    </tr>\n",
              "    <tr>\n",
              "      <th>3</th>\n",
              "      <td>0.069345</td>\n",
              "      <td>0.977328</td>\n",
              "      <td>0.093379</td>\n",
              "      <td>0.970491</td>\n",
              "    </tr>\n",
              "    <tr>\n",
              "      <th>4</th>\n",
              "      <td>0.055255</td>\n",
              "      <td>0.982161</td>\n",
              "      <td>0.092274</td>\n",
              "      <td>0.972150</td>\n",
              "    </tr>\n",
              "    <tr>\n",
              "      <th>...</th>\n",
              "      <td>...</td>\n",
              "      <td>...</td>\n",
              "      <td>...</td>\n",
              "      <td>...</td>\n",
              "    </tr>\n",
              "    <tr>\n",
              "      <th>195</th>\n",
              "      <td>0.000000</td>\n",
              "      <td>1.000000</td>\n",
              "      <td>0.301904</td>\n",
              "      <td>0.981746</td>\n",
              "    </tr>\n",
              "    <tr>\n",
              "      <th>196</th>\n",
              "      <td>0.000000</td>\n",
              "      <td>1.000000</td>\n",
              "      <td>0.302360</td>\n",
              "      <td>0.981746</td>\n",
              "    </tr>\n",
              "    <tr>\n",
              "      <th>197</th>\n",
              "      <td>0.000000</td>\n",
              "      <td>1.000000</td>\n",
              "      <td>0.302810</td>\n",
              "      <td>0.981746</td>\n",
              "    </tr>\n",
              "    <tr>\n",
              "      <th>198</th>\n",
              "      <td>0.000000</td>\n",
              "      <td>1.000000</td>\n",
              "      <td>0.303240</td>\n",
              "      <td>0.981746</td>\n",
              "    </tr>\n",
              "    <tr>\n",
              "      <th>199</th>\n",
              "      <td>0.000000</td>\n",
              "      <td>1.000000</td>\n",
              "      <td>0.303652</td>\n",
              "      <td>0.981746</td>\n",
              "    </tr>\n",
              "  </tbody>\n",
              "</table>\n",
              "<p>200 rows × 4 columns</p>\n",
              "</div>"
            ],
            "text/plain": [
              "         loss  accuracy  val_loss  val_accuracy\n",
              "0    0.356761  0.885679  0.160018      0.950722\n",
              "1    0.117412  0.963255  0.112452      0.966306\n",
              "2    0.083633  0.972566  0.101505      0.969048\n",
              "3    0.069345  0.977328  0.093379      0.970491\n",
              "4    0.055255  0.982161  0.092274      0.972150\n",
              "..        ...       ...       ...           ...\n",
              "195  0.000000  1.000000  0.301904      0.981746\n",
              "196  0.000000  1.000000  0.302360      0.981746\n",
              "197  0.000000  1.000000  0.302810      0.981746\n",
              "198  0.000000  1.000000  0.303240      0.981746\n",
              "199  0.000000  1.000000  0.303652      0.981746\n",
              "\n",
              "[200 rows x 4 columns]"
            ]
          },
          "metadata": {
            "tags": []
          },
          "execution_count": 135
        }
      ]
    },
    {
      "cell_type": "code",
      "metadata": {
        "id": "yLV84JhO-IRU",
        "colab_type": "code",
        "outputId": "e03fc7a6-be31-43ef-811d-45ff432a3d7b",
        "colab": {
          "base_uri": "https://localhost:8080/",
          "height": 282
        }
      },
      "source": [
        "metrics[['loss', 'val_loss']].plot()"
      ],
      "execution_count": 136,
      "outputs": [
        {
          "output_type": "execute_result",
          "data": {
            "text/plain": [
              "<matplotlib.axes._subplots.AxesSubplot at 0x7faf8263fbe0>"
            ]
          },
          "metadata": {
            "tags": []
          },
          "execution_count": 136
        },
        {
          "output_type": "display_data",
          "data": {
            "image/png": "[encoded data removed]",
            "text/plain": [
              "<Figure size 432x288 with 1 Axes>"
            ]
          },
          "metadata": {
            "tags": [],
            "needs_background": "light"
          }
        }
      ]
    },
    {
      "cell_type": "code",
      "metadata": {
        "id": "aDEYh9Ua-IRX",
        "colab_type": "code",
        "outputId": "09ff5502-36b1-4be0-e854-348008c5994e",
        "colab": {
          "base_uri": "https://localhost:8080/",
          "height": 282
        }
      },
      "source": [
        "metrics[['accuracy', 'val_accuracy']].plot()"
      ],
      "execution_count": 137,
      "outputs": [
        {
          "output_type": "execute_result",
          "data": {
            "text/plain": [
              "<matplotlib.axes._subplots.AxesSubplot at 0x7faf62e3cfd0>"
            ]
          },
          "metadata": {
            "tags": []
          },
          "execution_count": 137
        },
        {
          "output_type": "display_data",
          "data": {
            "image/png": "[encoded data removed]",
            "text/plain": [
              "<Figure size 432x288 with 1 Axes>"
            ]
          },
          "metadata": {
            "tags": [],
            "needs_background": "light"
          }
        }
      ]
    },
    {
      "cell_type": "code",
      "metadata": {
        "id": "GDHdNBkC-IRa",
        "colab_type": "code",
        "colab": {}
      },
      "source": [
        "from sklearn.metrics import classification_report, confusion_matrix"
      ],
      "execution_count": 0,
      "outputs": []
    },
    {
      "cell_type": "code",
      "metadata": {
        "id": "4H3M1dEK-IRc",
        "colab_type": "code",
        "colab": {}
      },
      "source": [
        "predicts = model.predict_classes(X_test)"
      ],
      "execution_count": 0,
      "outputs": []
    },
    {
      "cell_type": "code",
      "metadata": {
        "id": "85gZAKyC-IRh",
        "colab_type": "code",
        "outputId": "dc2bf4ab-7294-4e51-a304-0c689ba0d8ec",
        "colab": {
          "base_uri": "https://localhost:8080/",
          "height": 316
        }
      },
      "source": [
        "print(classification_report(predicts, y_test))"
      ],
      "execution_count": 140,
      "outputs": [
        {
          "output_type": "stream",
          "text": [
            "              precision    recall  f1-score   support\n",
            "\n",
            "           0       0.99      0.99      0.99      1383\n",
            "           1       1.00      0.99      0.99      1570\n",
            "           2       0.98      0.98      0.98      1412\n",
            "           3       0.98      0.99      0.98      1390\n",
            "           4       0.98      0.99      0.98      1352\n",
            "           5       0.98      0.98      0.98      1250\n",
            "           6       0.99      0.98      0.99      1356\n",
            "           7       0.98      0.98      0.98      1428\n",
            "           8       0.97      0.98      0.97      1341\n",
            "           9       0.97      0.97      0.97      1378\n",
            "\n",
            "    accuracy                           0.98     13860\n",
            "   macro avg       0.98      0.98      0.98     13860\n",
            "weighted avg       0.98      0.98      0.98     13860\n",
            "\n"
          ],
          "name": "stdout"
        }
      ]
    },
    {
      "cell_type": "code",
      "metadata": {
        "id": "0c7z8WnS-IRm",
        "colab_type": "code",
        "outputId": "d53e9bda-c484-42b9-83f1-05137af7057d",
        "colab": {
          "base_uri": "https://localhost:8080/",
          "height": 193
        }
      },
      "source": [
        "confusion_matrix(predicts, y_test)"
      ],
      "execution_count": 141,
      "outputs": [
        {
          "output_type": "execute_result",
          "data": {
            "text/plain": [
              "array([[1363,    0,    1,    1,    0,    4,    4,    1,    1,    8],\n",
              "       [   0, 1554,    1,    0,    1,    2,    1,    2,    7,    2],\n",
              "       [   2,    1, 1383,    9,    3,    2,    0,   10,    2,    0],\n",
              "       [   1,    0,    1, 1370,    0,    8,    0,    2,    3,    5],\n",
              "       [   1,    4,    1,    0, 1332,    0,    0,    5,    3,    6],\n",
              "       [   0,    0,    0,    8,    0, 1228,    3,    0,    5,    6],\n",
              "       [   2,    0,    1,    0,    2,   10, 1332,    0,    8,    1],\n",
              "       [   1,    2,   10,    6,    4,    1,    0, 1396,    0,    8],\n",
              "       [   5,    0,    6,    2,    2,    3,    4,    0, 1310,    9],\n",
              "       [   1,    0,    1,    9,   11,    1,    0,    5,   11, 1339]])"
            ]
          },
          "metadata": {
            "tags": []
          },
          "execution_count": 141
        }
      ]
    },
    {
      "cell_type": "code",
      "metadata": {
        "id": "5PCBZo9R-IRp",
        "colab_type": "code",
        "colab": {}
      },
      "source": [
        "df = pd.read_csv('test.csv')"
      ],
      "execution_count": 0,
      "outputs": []
    },
    {
      "cell_type": "code",
      "metadata": {
        "id": "DpUu5QRZRPel",
        "colab_type": "code",
        "colab": {}
      },
      "source": [
        "def bin_arr_line(arr, limit): #to make each cell either 0 or 1\n",
        "  for i in range(len(arr)):\n",
        "    if arr[i] >= limit:\n",
        "      arr[i] =1\n",
        "    else:\n",
        "      arr[i] =0\n",
        "  return arr\n",
        "    "
      ],
      "execution_count": 0,
      "outputs": []
    },
    {
      "cell_type": "code",
      "metadata": {
        "id": "14CqAKrA-IRs",
        "colab_type": "code",
        "outputId": "3234d60e-4cc3-450b-c47d-fec65e26c413",
        "colab": {
          "base_uri": "https://localhost:8080/",
          "height": 282
        }
      },
      "source": [
        "curr = df.iloc[5]\n",
        "x = bin_arr_line(list(curr[feature]), 0.4)\n",
        "plt.imshow(np.reshape(x, (28,28)))\n",
        "x = np.reshape(x, shape)\n",
        "model.predict_classes(x)[0]\n"
      ],
      "execution_count": 159,
      "outputs": [
        {
          "output_type": "execute_result",
          "data": {
            "text/plain": [
              "7"
            ]
          },
          "metadata": {
            "tags": []
          },
          "execution_count": 159
        },
        {
          "output_type": "display_data",
          "data": {
            "image/png": "[encoded data removed]",
            "text/plain": [
              "<Figure size 432x288 with 1 Axes>"
            ]
          },
          "metadata": {
            "tags": [],
            "needs_background": "light"
          }
        }
      ]
    },
    {
      "cell_type": "code",
      "metadata": {
        "id": "exMabjBP-IRu",
        "colab_type": "code",
        "colab": {}
      },
      "source": [
        "# f = open ('result.csv','w+')\n",
        "# f.write('hello')\n",
        "# f.close()"
      ],
      "execution_count": 0,
      "outputs": []
    },
    {
      "cell_type": "code",
      "metadata": {
        "id": "9Z_-NQPx-IRx",
        "colab_type": "code",
        "colab": {
          "base_uri": "https://localhost:8080/",
          "height": 34
        },
        "outputId": "6de469d8-b0d7-45fb-9eee-a4a895f404f1"
      },
      "source": [
        "!pwd\n",
        "# gpu_info = !nvidia-smi\n",
        "# gpu_info = '\\n'.join(gpu_info)\n",
        "# if gpu_info.find('failed') >= 0:\n",
        "#   print('Select the Runtime > \"Change runtime type\" menu to enable a GPU accelerator, ')\n",
        "#   print('and then re-execute this cell.')\n",
        "# else:\n",
        "#   print(gpu_info)"
      ],
      "execution_count": 146,
      "outputs": [
        {
          "output_type": "stream",
          "text": [
            "/content/drive/My Drive/Colab Notebooks/kaggle/kaggle_digit_recognizer\n"
          ],
          "name": "stdout"
        }
      ]
    },
    {
      "cell_type": "code",
      "metadata": {
        "id": "UKiiiop1Gxh4",
        "colab_type": "code",
        "outputId": "e590b4c1-a1ce-4034-cf96-654ebc748750",
        "colab": {
          "base_uri": "https://localhost:8080/",
          "height": 510
        }
      },
      "source": [
        "f = open ('result.csv','w+')\n",
        "with tf.device('/device:GPU:0'):\n",
        "  feature = list(df.columns) \n",
        "  shape = (1,28,28,1)\n",
        "  for i in range(len(df)):\n",
        "      curr = df.iloc[i]\n",
        "      if i % 1000 ==0: print(i)\n",
        "      x = bin_arr_line(list(curr[feature]), limit)\n",
        "      x = np.reshape(x, shape)\n",
        "      f.write(str(i+1)+','+str(model.predict_classes(x)[0]))\n",
        "      f.write('\\n')\n",
        "f.close()\n"
      ],
      "execution_count": 158,
      "outputs": [
        {
          "output_type": "stream",
          "text": [
            "0\n",
            "1000\n",
            "2000\n",
            "3000\n",
            "4000\n",
            "5000\n",
            "6000\n",
            "7000\n",
            "8000\n",
            "9000\n",
            "10000\n",
            "11000\n",
            "12000\n",
            "13000\n",
            "14000\n",
            "15000\n",
            "16000\n",
            "17000\n",
            "18000\n",
            "19000\n",
            "20000\n",
            "21000\n",
            "22000\n",
            "23000\n",
            "24000\n",
            "25000\n",
            "26000\n",
            "27000\n"
          ],
          "name": "stdout"
        }
      ]
    },
    {
      "cell_type": "code",
      "metadata": {
        "id": "yCmsm7HXHF-9",
        "colab_type": "code",
        "colab": {}
      },
      "source": [
        ""
      ],
      "execution_count": 0,
      "outputs": []
    },
    {
      "cell_type": "code",
      "metadata": {
        "id": "HAT2e4vbMsEb",
        "colab_type": "code",
        "outputId": "a7027a1d-9321-4ffb-931c-45a03f660978",
        "colab": {
          "base_uri": "https://localhost:8080/",
          "height": 34
        }
      },
      "source": [
        "pwd"
      ],
      "execution_count": 0,
      "outputs": [
        {
          "output_type": "execute_result",
          "data": {
            "text/plain": [
              "'/content/drive/My Drive/Colab Notebooks/kaggle/kaggle_digit_recognizer'"
            ]
          },
          "metadata": {
            "tags": []
          },
          "execution_count": 64
        }
      ]
    },
    {
      "cell_type": "code",
      "metadata": {
        "id": "7msqgvRfMssR",
        "colab_type": "code",
        "outputId": "4ba677a6-f931-4189-bee4-6fe534fdff1f",
        "colab": {
          "base_uri": "https://localhost:8080/",
          "height": 102
        }
      },
      "source": [
        "ls -al"
      ],
      "execution_count": 0,
      "outputs": [
        {
          "output_type": "stream",
          "text": [
            "total 126217\n",
            "-rw------- 1 root root   113466 May 13 04:02 digit_recognizer_20200512_2258.ipynb\n",
            "-rw------- 1 root root  1237760 May 13 03:18 digit_recognizer.h5\n",
            "-rw------- 1 root root 51118296 May 13 00:29 test.csv\n",
            "-rw------- 1 root root 76775041 May 13 00:29 train.csv\n"
          ],
          "name": "stdout"
        }
      ]
    },
    {
      "cell_type": "code",
      "metadata": {
        "id": "lY6VRyCHMtoX",
        "colab_type": "code",
        "colab": {}
      },
      "source": [
        ""
      ],
      "execution_count": 0,
      "outputs": []
    }
  ]
}