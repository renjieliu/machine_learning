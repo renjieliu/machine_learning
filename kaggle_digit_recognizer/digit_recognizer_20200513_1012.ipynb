{
  "nbformat": 4,
  "nbformat_minor": 0,
  "metadata": {
    "kernelspec": {
      "display_name": "Python 3",
      "language": "python",
      "name": "python3"
    },
    "language_info": {
      "codemirror_mode": {
        "name": "ipython",
        "version": 3
      },
      "file_extension": ".py",
      "mimetype": "text/x-python",
      "name": "python",
      "nbconvert_exporter": "python",
      "pygments_lexer": "ipython3",
      "version": "3.7.3"
    },
    "colab": {
      "name": "digit_recognizer_20200513_1012.ipynb",
      "provenance": [],
      "machine_shape": "hm"
    },
    "accelerator": "GPU"
  },
  "cells": [
    {
      "cell_type": "code",
      "metadata": {
        "id": "GuaSyzcF-NP6",
        "colab_type": "code",
        "outputId": "67e15f4a-0e41-4624-de2c-9dc0f5ad3b1c",
        "colab": {
          "base_uri": "https://localhost:8080/",
          "height": 125
        }
      },
      "source": [
        "from google.colab import drive\n",
        "drive.mount('/content/drive')"
      ],
      "execution_count": 4,
      "outputs": [
        {
          "output_type": "stream",
          "text": [
            "Go to this URL in a browser: https://accounts.google.com/o/oauth2/auth?client_id=947318989803-6bn6qk8qdgf4n4g3pfee6491hc0brc4i.apps.googleusercontent.com&redirect_uri=urn%3aietf%3awg%3aoauth%3a2.0%3aoob&response_type=code&scope=email%20https%3a%2f%2fwww.googleapis.com%2fauth%2fdocs.test%20https%3a%2f%2fwww.googleapis.com%2fauth%2fdrive%20https%3a%2f%2fwww.googleapis.com%2fauth%2fdrive.photos.readonly%20https%3a%2f%2fwww.googleapis.com%2fauth%2fpeopleapi.readonly\n",
            "\n",
            "Enter your authorization code:\n",
            "··········\n",
            "Mounted at /content/drive\n"
          ],
          "name": "stdout"
        }
      ]
    },
    {
      "cell_type": "code",
      "metadata": {
        "id": "MeePzhzR-IPR",
        "colab_type": "code",
        "colab": {}
      },
      "source": [
        "from sklearn.model_selection import train_test_split"
      ],
      "execution_count": 0,
      "outputs": []
    },
    {
      "cell_type": "code",
      "metadata": {
        "id": "WteOLmJV-IPM",
        "colab_type": "code",
        "colab": {}
      },
      "source": [
        "import pandas as pd\n",
        "import matplotlib.pyplot as plt\n",
        "import seaborn as sns\n",
        "import numpy as np\n",
        "import tensorflow as tf\n",
        "from tensorflow.keras.utils import to_categorical"
      ],
      "execution_count": 0,
      "outputs": []
    },
    {
      "cell_type": "code",
      "metadata": {
        "id": "SHnqOMoq-Kbk",
        "colab_type": "code",
        "outputId": "912e55fd-1c7d-4653-a477-fa43eab05904",
        "colab": {
          "base_uri": "https://localhost:8080/",
          "height": 34
        }
      },
      "source": [
        "cd '/content/drive/My Drive/Colab Notebooks/kaggle/kaggle_digit_recognizer'"
      ],
      "execution_count": 7,
      "outputs": [
        {
          "output_type": "stream",
          "text": [
            "/content/drive/My Drive/Colab Notebooks/kaggle/kaggle_digit_recognizer\n"
          ],
          "name": "stdout"
        }
      ]
    },
    {
      "cell_type": "code",
      "metadata": {
        "id": "4Ldjtz3J-IPW",
        "colab_type": "code",
        "colab": {}
      },
      "source": [
        "df = pd.read_csv('train.csv')"
      ],
      "execution_count": 0,
      "outputs": []
    },
    {
      "cell_type": "code",
      "metadata": {
        "id": "kKeKBK1j-IPa",
        "colab_type": "code",
        "outputId": "b7cc8770-5ea1-493e-ae27-37496728227e",
        "colab": {
          "base_uri": "https://localhost:8080/",
          "height": 244
        }
      },
      "source": [
        "df.head()"
      ],
      "execution_count": 9,
      "outputs": [
        {
          "output_type": "execute_result",
          "data": {
            "text/html": [
              "<div>\n",
              "<style scoped>\n",
              "    .dataframe tbody tr th:only-of-type {\n",
              "        vertical-align: middle;\n",
              "    }\n",
              "\n",
              "    .dataframe tbody tr th {\n",
              "        vertical-align: top;\n",
              "    }\n",
              "\n",
              "    .dataframe thead th {\n",
              "        text-align: right;\n",
              "    }\n",
              "</style>\n",
              "<table border=\"1\" class=\"dataframe\">\n",
              "  <thead>\n",
              "    <tr style=\"text-align: right;\">\n",
              "      <th></th>\n",
              "      <th>label</th>\n",
              "      <th>pixel0</th>\n",
              "      <th>pixel1</th>\n",
              "      <th>pixel2</th>\n",
              "      <th>pixel3</th>\n",
              "      <th>pixel4</th>\n",
              "      <th>pixel5</th>\n",
              "      <th>pixel6</th>\n",
              "      <th>pixel7</th>\n",
              "      <th>pixel8</th>\n",
              "      <th>pixel9</th>\n",
              "      <th>pixel10</th>\n",
              "      <th>pixel11</th>\n",
              "      <th>pixel12</th>\n",
              "      <th>pixel13</th>\n",
              "      <th>pixel14</th>\n",
              "      <th>pixel15</th>\n",
              "      <th>pixel16</th>\n",
              "      <th>pixel17</th>\n",
              "      <th>pixel18</th>\n",
              "      <th>pixel19</th>\n",
              "      <th>pixel20</th>\n",
              "      <th>pixel21</th>\n",
              "      <th>pixel22</th>\n",
              "      <th>pixel23</th>\n",
              "      <th>pixel24</th>\n",
              "      <th>pixel25</th>\n",
              "      <th>pixel26</th>\n",
              "      <th>pixel27</th>\n",
              "      <th>pixel28</th>\n",
              "      <th>pixel29</th>\n",
              "      <th>pixel30</th>\n",
              "      <th>pixel31</th>\n",
              "      <th>pixel32</th>\n",
              "      <th>pixel33</th>\n",
              "      <th>pixel34</th>\n",
              "      <th>pixel35</th>\n",
              "      <th>pixel36</th>\n",
              "      <th>pixel37</th>\n",
              "      <th>pixel38</th>\n",
              "      <th>...</th>\n",
              "      <th>pixel744</th>\n",
              "      <th>pixel745</th>\n",
              "      <th>pixel746</th>\n",
              "      <th>pixel747</th>\n",
              "      <th>pixel748</th>\n",
              "      <th>pixel749</th>\n",
              "      <th>pixel750</th>\n",
              "      <th>pixel751</th>\n",
              "      <th>pixel752</th>\n",
              "      <th>pixel753</th>\n",
              "      <th>pixel754</th>\n",
              "      <th>pixel755</th>\n",
              "      <th>pixel756</th>\n",
              "      <th>pixel757</th>\n",
              "      <th>pixel758</th>\n",
              "      <th>pixel759</th>\n",
              "      <th>pixel760</th>\n",
              "      <th>pixel761</th>\n",
              "      <th>pixel762</th>\n",
              "      <th>pixel763</th>\n",
              "      <th>pixel764</th>\n",
              "      <th>pixel765</th>\n",
              "      <th>pixel766</th>\n",
              "      <th>pixel767</th>\n",
              "      <th>pixel768</th>\n",
              "      <th>pixel769</th>\n",
              "      <th>pixel770</th>\n",
              "      <th>pixel771</th>\n",
              "      <th>pixel772</th>\n",
              "      <th>pixel773</th>\n",
              "      <th>pixel774</th>\n",
              "      <th>pixel775</th>\n",
              "      <th>pixel776</th>\n",
              "      <th>pixel777</th>\n",
              "      <th>pixel778</th>\n",
              "      <th>pixel779</th>\n",
              "      <th>pixel780</th>\n",
              "      <th>pixel781</th>\n",
              "      <th>pixel782</th>\n",
              "      <th>pixel783</th>\n",
              "    </tr>\n",
              "  </thead>\n",
              "  <tbody>\n",
              "    <tr>\n",
              "      <th>0</th>\n",
              "      <td>1</td>\n",
              "      <td>0</td>\n",
              "      <td>0</td>\n",
              "      <td>0</td>\n",
              "      <td>0</td>\n",
              "      <td>0</td>\n",
              "      <td>0</td>\n",
              "      <td>0</td>\n",
              "      <td>0</td>\n",
              "      <td>0</td>\n",
              "      <td>0</td>\n",
              "      <td>0</td>\n",
              "      <td>0</td>\n",
              "      <td>0</td>\n",
              "      <td>0</td>\n",
              "      <td>0</td>\n",
              "      <td>0</td>\n",
              "      <td>0</td>\n",
              "      <td>0</td>\n",
              "      <td>0</td>\n",
              "      <td>0</td>\n",
              "      <td>0</td>\n",
              "      <td>0</td>\n",
              "      <td>0</td>\n",
              "      <td>0</td>\n",
              "      <td>0</td>\n",
              "      <td>0</td>\n",
              "      <td>0</td>\n",
              "      <td>0</td>\n",
              "      <td>0</td>\n",
              "      <td>0</td>\n",
              "      <td>0</td>\n",
              "      <td>0</td>\n",
              "      <td>0</td>\n",
              "      <td>0</td>\n",
              "      <td>0</td>\n",
              "      <td>0</td>\n",
              "      <td>0</td>\n",
              "      <td>0</td>\n",
              "      <td>0</td>\n",
              "      <td>...</td>\n",
              "      <td>0</td>\n",
              "      <td>0</td>\n",
              "      <td>0</td>\n",
              "      <td>0</td>\n",
              "      <td>0</td>\n",
              "      <td>0</td>\n",
              "      <td>0</td>\n",
              "      <td>0</td>\n",
              "      <td>0</td>\n",
              "      <td>0</td>\n",
              "      <td>0</td>\n",
              "      <td>0</td>\n",
              "      <td>0</td>\n",
              "      <td>0</td>\n",
              "      <td>0</td>\n",
              "      <td>0</td>\n",
              "      <td>0</td>\n",
              "      <td>0</td>\n",
              "      <td>0</td>\n",
              "      <td>0</td>\n",
              "      <td>0</td>\n",
              "      <td>0</td>\n",
              "      <td>0</td>\n",
              "      <td>0</td>\n",
              "      <td>0</td>\n",
              "      <td>0</td>\n",
              "      <td>0</td>\n",
              "      <td>0</td>\n",
              "      <td>0</td>\n",
              "      <td>0</td>\n",
              "      <td>0</td>\n",
              "      <td>0</td>\n",
              "      <td>0</td>\n",
              "      <td>0</td>\n",
              "      <td>0</td>\n",
              "      <td>0</td>\n",
              "      <td>0</td>\n",
              "      <td>0</td>\n",
              "      <td>0</td>\n",
              "      <td>0</td>\n",
              "    </tr>\n",
              "    <tr>\n",
              "      <th>1</th>\n",
              "      <td>0</td>\n",
              "      <td>0</td>\n",
              "      <td>0</td>\n",
              "      <td>0</td>\n",
              "      <td>0</td>\n",
              "      <td>0</td>\n",
              "      <td>0</td>\n",
              "      <td>0</td>\n",
              "      <td>0</td>\n",
              "      <td>0</td>\n",
              "      <td>0</td>\n",
              "      <td>0</td>\n",
              "      <td>0</td>\n",
              "      <td>0</td>\n",
              "      <td>0</td>\n",
              "      <td>0</td>\n",
              "      <td>0</td>\n",
              "      <td>0</td>\n",
              "      <td>0</td>\n",
              "      <td>0</td>\n",
              "      <td>0</td>\n",
              "      <td>0</td>\n",
              "      <td>0</td>\n",
              "      <td>0</td>\n",
              "      <td>0</td>\n",
              "      <td>0</td>\n",
              "      <td>0</td>\n",
              "      <td>0</td>\n",
              "      <td>0</td>\n",
              "      <td>0</td>\n",
              "      <td>0</td>\n",
              "      <td>0</td>\n",
              "      <td>0</td>\n",
              "      <td>0</td>\n",
              "      <td>0</td>\n",
              "      <td>0</td>\n",
              "      <td>0</td>\n",
              "      <td>0</td>\n",
              "      <td>0</td>\n",
              "      <td>0</td>\n",
              "      <td>...</td>\n",
              "      <td>0</td>\n",
              "      <td>0</td>\n",
              "      <td>0</td>\n",
              "      <td>0</td>\n",
              "      <td>0</td>\n",
              "      <td>0</td>\n",
              "      <td>0</td>\n",
              "      <td>0</td>\n",
              "      <td>0</td>\n",
              "      <td>0</td>\n",
              "      <td>0</td>\n",
              "      <td>0</td>\n",
              "      <td>0</td>\n",
              "      <td>0</td>\n",
              "      <td>0</td>\n",
              "      <td>0</td>\n",
              "      <td>0</td>\n",
              "      <td>0</td>\n",
              "      <td>0</td>\n",
              "      <td>0</td>\n",
              "      <td>0</td>\n",
              "      <td>0</td>\n",
              "      <td>0</td>\n",
              "      <td>0</td>\n",
              "      <td>0</td>\n",
              "      <td>0</td>\n",
              "      <td>0</td>\n",
              "      <td>0</td>\n",
              "      <td>0</td>\n",
              "      <td>0</td>\n",
              "      <td>0</td>\n",
              "      <td>0</td>\n",
              "      <td>0</td>\n",
              "      <td>0</td>\n",
              "      <td>0</td>\n",
              "      <td>0</td>\n",
              "      <td>0</td>\n",
              "      <td>0</td>\n",
              "      <td>0</td>\n",
              "      <td>0</td>\n",
              "    </tr>\n",
              "    <tr>\n",
              "      <th>2</th>\n",
              "      <td>1</td>\n",
              "      <td>0</td>\n",
              "      <td>0</td>\n",
              "      <td>0</td>\n",
              "      <td>0</td>\n",
              "      <td>0</td>\n",
              "      <td>0</td>\n",
              "      <td>0</td>\n",
              "      <td>0</td>\n",
              "      <td>0</td>\n",
              "      <td>0</td>\n",
              "      <td>0</td>\n",
              "      <td>0</td>\n",
              "      <td>0</td>\n",
              "      <td>0</td>\n",
              "      <td>0</td>\n",
              "      <td>0</td>\n",
              "      <td>0</td>\n",
              "      <td>0</td>\n",
              "      <td>0</td>\n",
              "      <td>0</td>\n",
              "      <td>0</td>\n",
              "      <td>0</td>\n",
              "      <td>0</td>\n",
              "      <td>0</td>\n",
              "      <td>0</td>\n",
              "      <td>0</td>\n",
              "      <td>0</td>\n",
              "      <td>0</td>\n",
              "      <td>0</td>\n",
              "      <td>0</td>\n",
              "      <td>0</td>\n",
              "      <td>0</td>\n",
              "      <td>0</td>\n",
              "      <td>0</td>\n",
              "      <td>0</td>\n",
              "      <td>0</td>\n",
              "      <td>0</td>\n",
              "      <td>0</td>\n",
              "      <td>0</td>\n",
              "      <td>...</td>\n",
              "      <td>0</td>\n",
              "      <td>0</td>\n",
              "      <td>0</td>\n",
              "      <td>0</td>\n",
              "      <td>0</td>\n",
              "      <td>0</td>\n",
              "      <td>0</td>\n",
              "      <td>0</td>\n",
              "      <td>0</td>\n",
              "      <td>0</td>\n",
              "      <td>0</td>\n",
              "      <td>0</td>\n",
              "      <td>0</td>\n",
              "      <td>0</td>\n",
              "      <td>0</td>\n",
              "      <td>0</td>\n",
              "      <td>0</td>\n",
              "      <td>0</td>\n",
              "      <td>0</td>\n",
              "      <td>0</td>\n",
              "      <td>0</td>\n",
              "      <td>0</td>\n",
              "      <td>0</td>\n",
              "      <td>0</td>\n",
              "      <td>0</td>\n",
              "      <td>0</td>\n",
              "      <td>0</td>\n",
              "      <td>0</td>\n",
              "      <td>0</td>\n",
              "      <td>0</td>\n",
              "      <td>0</td>\n",
              "      <td>0</td>\n",
              "      <td>0</td>\n",
              "      <td>0</td>\n",
              "      <td>0</td>\n",
              "      <td>0</td>\n",
              "      <td>0</td>\n",
              "      <td>0</td>\n",
              "      <td>0</td>\n",
              "      <td>0</td>\n",
              "    </tr>\n",
              "    <tr>\n",
              "      <th>3</th>\n",
              "      <td>4</td>\n",
              "      <td>0</td>\n",
              "      <td>0</td>\n",
              "      <td>0</td>\n",
              "      <td>0</td>\n",
              "      <td>0</td>\n",
              "      <td>0</td>\n",
              "      <td>0</td>\n",
              "      <td>0</td>\n",
              "      <td>0</td>\n",
              "      <td>0</td>\n",
              "      <td>0</td>\n",
              "      <td>0</td>\n",
              "      <td>0</td>\n",
              "      <td>0</td>\n",
              "      <td>0</td>\n",
              "      <td>0</td>\n",
              "      <td>0</td>\n",
              "      <td>0</td>\n",
              "      <td>0</td>\n",
              "      <td>0</td>\n",
              "      <td>0</td>\n",
              "      <td>0</td>\n",
              "      <td>0</td>\n",
              "      <td>0</td>\n",
              "      <td>0</td>\n",
              "      <td>0</td>\n",
              "      <td>0</td>\n",
              "      <td>0</td>\n",
              "      <td>0</td>\n",
              "      <td>0</td>\n",
              "      <td>0</td>\n",
              "      <td>0</td>\n",
              "      <td>0</td>\n",
              "      <td>0</td>\n",
              "      <td>0</td>\n",
              "      <td>0</td>\n",
              "      <td>0</td>\n",
              "      <td>0</td>\n",
              "      <td>0</td>\n",
              "      <td>...</td>\n",
              "      <td>0</td>\n",
              "      <td>0</td>\n",
              "      <td>0</td>\n",
              "      <td>0</td>\n",
              "      <td>0</td>\n",
              "      <td>0</td>\n",
              "      <td>0</td>\n",
              "      <td>0</td>\n",
              "      <td>0</td>\n",
              "      <td>0</td>\n",
              "      <td>0</td>\n",
              "      <td>0</td>\n",
              "      <td>0</td>\n",
              "      <td>0</td>\n",
              "      <td>0</td>\n",
              "      <td>0</td>\n",
              "      <td>0</td>\n",
              "      <td>0</td>\n",
              "      <td>0</td>\n",
              "      <td>0</td>\n",
              "      <td>0</td>\n",
              "      <td>0</td>\n",
              "      <td>0</td>\n",
              "      <td>0</td>\n",
              "      <td>0</td>\n",
              "      <td>0</td>\n",
              "      <td>0</td>\n",
              "      <td>0</td>\n",
              "      <td>0</td>\n",
              "      <td>0</td>\n",
              "      <td>0</td>\n",
              "      <td>0</td>\n",
              "      <td>0</td>\n",
              "      <td>0</td>\n",
              "      <td>0</td>\n",
              "      <td>0</td>\n",
              "      <td>0</td>\n",
              "      <td>0</td>\n",
              "      <td>0</td>\n",
              "      <td>0</td>\n",
              "    </tr>\n",
              "    <tr>\n",
              "      <th>4</th>\n",
              "      <td>0</td>\n",
              "      <td>0</td>\n",
              "      <td>0</td>\n",
              "      <td>0</td>\n",
              "      <td>0</td>\n",
              "      <td>0</td>\n",
              "      <td>0</td>\n",
              "      <td>0</td>\n",
              "      <td>0</td>\n",
              "      <td>0</td>\n",
              "      <td>0</td>\n",
              "      <td>0</td>\n",
              "      <td>0</td>\n",
              "      <td>0</td>\n",
              "      <td>0</td>\n",
              "      <td>0</td>\n",
              "      <td>0</td>\n",
              "      <td>0</td>\n",
              "      <td>0</td>\n",
              "      <td>0</td>\n",
              "      <td>0</td>\n",
              "      <td>0</td>\n",
              "      <td>0</td>\n",
              "      <td>0</td>\n",
              "      <td>0</td>\n",
              "      <td>0</td>\n",
              "      <td>0</td>\n",
              "      <td>0</td>\n",
              "      <td>0</td>\n",
              "      <td>0</td>\n",
              "      <td>0</td>\n",
              "      <td>0</td>\n",
              "      <td>0</td>\n",
              "      <td>0</td>\n",
              "      <td>0</td>\n",
              "      <td>0</td>\n",
              "      <td>0</td>\n",
              "      <td>0</td>\n",
              "      <td>0</td>\n",
              "      <td>0</td>\n",
              "      <td>...</td>\n",
              "      <td>0</td>\n",
              "      <td>0</td>\n",
              "      <td>0</td>\n",
              "      <td>0</td>\n",
              "      <td>0</td>\n",
              "      <td>0</td>\n",
              "      <td>0</td>\n",
              "      <td>0</td>\n",
              "      <td>0</td>\n",
              "      <td>0</td>\n",
              "      <td>0</td>\n",
              "      <td>0</td>\n",
              "      <td>0</td>\n",
              "      <td>0</td>\n",
              "      <td>0</td>\n",
              "      <td>0</td>\n",
              "      <td>0</td>\n",
              "      <td>0</td>\n",
              "      <td>0</td>\n",
              "      <td>0</td>\n",
              "      <td>0</td>\n",
              "      <td>0</td>\n",
              "      <td>0</td>\n",
              "      <td>0</td>\n",
              "      <td>0</td>\n",
              "      <td>0</td>\n",
              "      <td>0</td>\n",
              "      <td>0</td>\n",
              "      <td>0</td>\n",
              "      <td>0</td>\n",
              "      <td>0</td>\n",
              "      <td>0</td>\n",
              "      <td>0</td>\n",
              "      <td>0</td>\n",
              "      <td>0</td>\n",
              "      <td>0</td>\n",
              "      <td>0</td>\n",
              "      <td>0</td>\n",
              "      <td>0</td>\n",
              "      <td>0</td>\n",
              "    </tr>\n",
              "  </tbody>\n",
              "</table>\n",
              "<p>5 rows × 785 columns</p>\n",
              "</div>"
            ],
            "text/plain": [
              "   label  pixel0  pixel1  pixel2  ...  pixel780  pixel781  pixel782  pixel783\n",
              "0      1       0       0       0  ...         0         0         0         0\n",
              "1      0       0       0       0  ...         0         0         0         0\n",
              "2      1       0       0       0  ...         0         0         0         0\n",
              "3      4       0       0       0  ...         0         0         0         0\n",
              "4      0       0       0       0  ...         0         0         0         0\n",
              "\n",
              "[5 rows x 785 columns]"
            ]
          },
          "metadata": {
            "tags": []
          },
          "execution_count": 9
        }
      ]
    },
    {
      "cell_type": "code",
      "metadata": {
        "scrolled": true,
        "id": "ysJigk07-IPe",
        "colab_type": "code",
        "colab": {}
      },
      "source": [
        "pic = list(df.iloc[3][df.columns[1:]])"
      ],
      "execution_count": 0,
      "outputs": []
    },
    {
      "cell_type": "code",
      "metadata": {
        "id": "x3XL3Bfr-IPi",
        "colab_type": "code",
        "colab": {}
      },
      "source": [
        "pic = np.reshape(pic, (28,28))"
      ],
      "execution_count": 0,
      "outputs": []
    },
    {
      "cell_type": "code",
      "metadata": {
        "id": "Hph1C6Gx-IPl",
        "colab_type": "code",
        "outputId": "dfba6057-e0f0-41b5-bae1-2266aba5710e",
        "colab": {
          "base_uri": "https://localhost:8080/",
          "height": 34
        }
      },
      "source": [
        "pic.max()"
      ],
      "execution_count": 12,
      "outputs": [
        {
          "output_type": "execute_result",
          "data": {
            "text/plain": [
              "255"
            ]
          },
          "metadata": {
            "tags": []
          },
          "execution_count": 12
        }
      ]
    },
    {
      "cell_type": "code",
      "metadata": {
        "id": "voRyG1we-IPp",
        "colab_type": "code",
        "outputId": "6e1f43bd-7f5d-486e-c913-4511d6336faf",
        "colab": {
          "base_uri": "https://localhost:8080/",
          "height": 34
        }
      },
      "source": [
        "pic.min()"
      ],
      "execution_count": 13,
      "outputs": [
        {
          "output_type": "execute_result",
          "data": {
            "text/plain": [
              "0"
            ]
          },
          "metadata": {
            "tags": []
          },
          "execution_count": 13
        }
      ]
    },
    {
      "cell_type": "code",
      "metadata": {
        "id": "wb9lN3ii-IPs",
        "colab_type": "code",
        "colab": {}
      },
      "source": [
        "pic = pic/255"
      ],
      "execution_count": 0,
      "outputs": []
    },
    {
      "cell_type": "code",
      "metadata": {
        "id": "TR4LnVpV-IPv",
        "colab_type": "code",
        "outputId": "dafd268d-33a8-4ae2-cc68-6b1df4f5bab5",
        "colab": {
          "base_uri": "https://localhost:8080/",
          "height": 282
        }
      },
      "source": [
        "plt.imshow(pic)"
      ],
      "execution_count": 15,
      "outputs": [
        {
          "output_type": "execute_result",
          "data": {
            "text/plain": [
              "<matplotlib.image.AxesImage at 0x7faffcd40240>"
            ]
          },
          "metadata": {
            "tags": []
          },
          "execution_count": 15
        },
        {
          "output_type": "display_data",
          "data": {
            "image/png": "[encoded data removed]",
            "text/plain": [
              "<Figure size 432x288 with 1 Axes>"
            ]
          },
          "metadata": {
            "tags": [],
            "needs_background": "light"
          }
        }
      ]
    },
    {
      "cell_type": "code",
      "metadata": {
        "id": "stlwWxlM-IPz",
        "colab_type": "code",
        "colab": {}
      },
      "source": [
        "x  = []\n",
        "y  = []"
      ],
      "execution_count": 0,
      "outputs": []
    },
    {
      "cell_type": "code",
      "metadata": {
        "scrolled": true,
        "id": "RYNPc5Qu-IP1",
        "colab_type": "code",
        "outputId": "433cd2d8-030d-497e-9e02-14907aba9f32",
        "colab": {
          "base_uri": "https://localhost:8080/",
          "height": 34
        }
      },
      "source": [
        "len(df)"
      ],
      "execution_count": 17,
      "outputs": [
        {
          "output_type": "execute_result",
          "data": {
            "text/plain": [
              "42000"
            ]
          },
          "metadata": {
            "tags": []
          },
          "execution_count": 17
        }
      ]
    },
    {
      "cell_type": "code",
      "metadata": {
        "id": "udkYeF_L-IP6",
        "colab_type": "code",
        "colab": {}
      },
      "source": [
        "feature = list(df.columns[1:])\n",
        "label = df.columns[0]"
      ],
      "execution_count": 0,
      "outputs": []
    },
    {
      "cell_type": "code",
      "metadata": {
        "id": "DcwTtLew-IP9",
        "colab_type": "code",
        "colab": {}
      },
      "source": [
        "#plt.imshow(np.reshape(list(df.iloc[10][feature]), (28,28))) "
      ],
      "execution_count": 0,
      "outputs": []
    },
    {
      "cell_type": "code",
      "metadata": {
        "id": "QDuKlBS--IQA",
        "colab_type": "code",
        "outputId": "a3f1777e-89c5-4a4f-ba46-0a6b0028ba1d",
        "colab": {
          "base_uri": "https://localhost:8080/",
          "height": 756
        }
      },
      "source": [
        "with tf.device('/device:GPU:0'):\n",
        "  for i in range(len(df)):\n",
        "      if i %1000 ==0: \n",
        "          print(i)\n",
        "      curr = df.iloc[i]\n",
        "      dp = list(curr[feature])\n",
        "      shape = (28,28,1)\n",
        "      x.append(np.reshape(dp,shape))\n",
        "      y.append(curr[label])   \n",
        "      "
      ],
      "execution_count": 20,
      "outputs": [
        {
          "output_type": "stream",
          "text": [
            "0\n",
            "1000\n",
            "2000\n",
            "3000\n",
            "4000\n",
            "5000\n",
            "6000\n",
            "7000\n",
            "8000\n",
            "9000\n",
            "10000\n",
            "11000\n",
            "12000\n",
            "13000\n",
            "14000\n",
            "15000\n",
            "16000\n",
            "17000\n",
            "18000\n",
            "19000\n",
            "20000\n",
            "21000\n",
            "22000\n",
            "23000\n",
            "24000\n",
            "25000\n",
            "26000\n",
            "27000\n",
            "28000\n",
            "29000\n",
            "30000\n",
            "31000\n",
            "32000\n",
            "33000\n",
            "34000\n",
            "35000\n",
            "36000\n",
            "37000\n",
            "38000\n",
            "39000\n",
            "40000\n",
            "41000\n"
          ],
          "name": "stdout"
        }
      ]
    },
    {
      "cell_type": "code",
      "metadata": {
        "scrolled": true,
        "id": "_4tGUjNV-IQD",
        "colab_type": "code",
        "colab": {}
      },
      "source": [
        "# plt.imshow(x[0])"
      ],
      "execution_count": 0,
      "outputs": []
    },
    {
      "cell_type": "code",
      "metadata": {
        "id": "Ez1B7e87-IQG",
        "colab_type": "code",
        "colab": {}
      },
      "source": [
        "# y"
      ],
      "execution_count": 0,
      "outputs": []
    },
    {
      "cell_type": "code",
      "metadata": {
        "id": "yKNWK1vt-IQJ",
        "colab_type": "code",
        "colab": {}
      },
      "source": [
        "X_train, X_test, y_train, y_test = train_test_split(x, y, test_size=0.33, random_state=37)"
      ],
      "execution_count": 0,
      "outputs": []
    },
    {
      "cell_type": "code",
      "metadata": {
        "id": "hLAzAtge-IQN",
        "colab_type": "code",
        "outputId": "a4b95a65-b253-47d9-aefb-079bc40692dc",
        "colab": {
          "base_uri": "https://localhost:8080/",
          "height": 34
        }
      },
      "source": [
        "len(X_train)"
      ],
      "execution_count": 55,
      "outputs": [
        {
          "output_type": "execute_result",
          "data": {
            "text/plain": [
              "28140"
            ]
          },
          "metadata": {
            "tags": []
          },
          "execution_count": 55
        }
      ]
    },
    {
      "cell_type": "code",
      "metadata": {
        "id": "4HV5BsUCGvpy",
        "colab_type": "code",
        "colab": {}
      },
      "source": [
        "def bin_arr(arr, limit): #to make each cell either 0 or 1\n",
        "  for i in range(len(arr)): \n",
        "    for r in range(len(arr[i])):\n",
        "      for c in range(len(arr[i][0])):\n",
        "        if arr[i][r][c] >= limit:\n",
        "          arr[i][r][c] =1\n",
        "        else:\n",
        "          arr[i][r][c] =0\n",
        "  return arr\n",
        "    "
      ],
      "execution_count": 0,
      "outputs": []
    },
    {
      "cell_type": "code",
      "metadata": {
        "id": "HG1yWsN6H22s",
        "colab_type": "code",
        "colab": {}
      },
      "source": [
        "limit = 0.4"
      ],
      "execution_count": 0,
      "outputs": []
    },
    {
      "cell_type": "code",
      "metadata": {
        "id": "_ZeL3SDZIRBa",
        "colab_type": "code",
        "colab": {}
      },
      "source": [
        "X_train = bin_arr(X_train, limit)\n",
        "X_test = bin_arr(X_test, limit)"
      ],
      "execution_count": 0,
      "outputs": []
    },
    {
      "cell_type": "code",
      "metadata": {
        "id": "X1Txeis4JG35",
        "colab_type": "code",
        "colab": {
          "base_uri": "https://localhost:8080/",
          "height": 34
        },
        "outputId": "ccf3a226-7957-45a6-9ec3-969646d4936b"
      },
      "source": [
        "len(X_test)"
      ],
      "execution_count": 62,
      "outputs": [
        {
          "output_type": "execute_result",
          "data": {
            "text/plain": [
              "13860"
            ]
          },
          "metadata": {
            "tags": []
          },
          "execution_count": 62
        }
      ]
    },
    {
      "cell_type": "code",
      "metadata": {
        "id": "NM4x89nG-IQR",
        "colab_type": "code",
        "colab": {}
      },
      "source": [
        "X_train = np.reshape(X_train, (28140,28,28,1) )"
      ],
      "execution_count": 0,
      "outputs": []
    },
    {
      "cell_type": "code",
      "metadata": {
        "id": "btTEHneN-IQU",
        "colab_type": "code",
        "outputId": "a19adf60-549f-4a2f-ed86-3d3c5ee5cdbe",
        "colab": {
          "base_uri": "https://localhost:8080/",
          "height": 34
        }
      },
      "source": [
        "len(X_test)"
      ],
      "execution_count": 64,
      "outputs": [
        {
          "output_type": "execute_result",
          "data": {
            "text/plain": [
              "13860"
            ]
          },
          "metadata": {
            "tags": []
          },
          "execution_count": 64
        }
      ]
    },
    {
      "cell_type": "code",
      "metadata": {
        "id": "VWny86S2-IQW",
        "colab_type": "code",
        "colab": {}
      },
      "source": [
        "X_test = np.reshape(X_test, (13860,28,28,1) )"
      ],
      "execution_count": 0,
      "outputs": []
    },
    {
      "cell_type": "code",
      "metadata": {
        "id": "kQN4E7y8-IQd",
        "colab_type": "code",
        "colab": {}
      },
      "source": [
        "y_train = np.reshape(y_train, (-1, 1))"
      ],
      "execution_count": 0,
      "outputs": []
    },
    {
      "cell_type": "code",
      "metadata": {
        "id": "d99vhKP3-IQg",
        "colab_type": "code",
        "outputId": "353934f1-9fe4-4844-c697-b643fea4f51d",
        "colab": {
          "base_uri": "https://localhost:8080/",
          "height": 34
        }
      },
      "source": [
        "y_train.shape"
      ],
      "execution_count": 67,
      "outputs": [
        {
          "output_type": "execute_result",
          "data": {
            "text/plain": [
              "(28140, 1)"
            ]
          },
          "metadata": {
            "tags": []
          },
          "execution_count": 67
        }
      ]
    },
    {
      "cell_type": "code",
      "metadata": {
        "id": "XYtVJMm2-IQi",
        "colab_type": "code",
        "colab": {}
      },
      "source": [
        "y_test = np.reshape(y_test, (-1,1))"
      ],
      "execution_count": 0,
      "outputs": []
    },
    {
      "cell_type": "code",
      "metadata": {
        "id": "mgyTDhlT-IQm",
        "colab_type": "code",
        "outputId": "6adb8499-85a0-4037-cdd3-d7a56ed088b3",
        "colab": {
          "base_uri": "https://localhost:8080/",
          "height": 34
        }
      },
      "source": [
        "y_train.min()"
      ],
      "execution_count": 69,
      "outputs": [
        {
          "output_type": "execute_result",
          "data": {
            "text/plain": [
              "0"
            ]
          },
          "metadata": {
            "tags": []
          },
          "execution_count": 69
        }
      ]
    },
    {
      "cell_type": "code",
      "metadata": {
        "id": "kIDXV6m4-IQp",
        "colab_type": "code",
        "outputId": "3a534603-fc90-4452-91a2-9831a46320d0",
        "colab": {
          "base_uri": "https://localhost:8080/",
          "height": 34
        }
      },
      "source": [
        "y_test.min()"
      ],
      "execution_count": 70,
      "outputs": [
        {
          "output_type": "execute_result",
          "data": {
            "text/plain": [
              "0"
            ]
          },
          "metadata": {
            "tags": []
          },
          "execution_count": 70
        }
      ]
    },
    {
      "cell_type": "code",
      "metadata": {
        "id": "ZdJNaAkG-IQs",
        "colab_type": "code",
        "colab": {}
      },
      "source": [
        "y_cat_train = to_categorical(y_train, 10)"
      ],
      "execution_count": 0,
      "outputs": []
    },
    {
      "cell_type": "code",
      "metadata": {
        "id": "SB6siSrF-IQv",
        "colab_type": "code",
        "colab": {}
      },
      "source": [
        "y_cat_test = to_categorical(y_test, 10)"
      ],
      "execution_count": 0,
      "outputs": []
    },
    {
      "cell_type": "code",
      "metadata": {
        "id": "4NDxepKB-IQx",
        "colab_type": "code",
        "colab": {}
      },
      "source": [
        "from tensorflow.keras.models import Sequential\n",
        "from tensorflow.keras.layers import Dense, Conv2D, MaxPooling2D, Flatten"
      ],
      "execution_count": 0,
      "outputs": []
    },
    {
      "cell_type": "code",
      "metadata": {
        "id": "oo-aqJIb-IQ1",
        "colab_type": "code",
        "colab": {}
      },
      "source": [
        "model = Sequential()\n",
        "model.add(Conv2D(filters = 128, kernel_size = (3,3),strides = 1, padding = 'valid', input_shape = (28,28,1), activation = 'relu'))\n",
        "model.add(MaxPooling2D(pool_size = (2,2)))\n",
        "\n",
        "model.add(Conv2D(filters = 64, kernel_size = (3,3),strides = 1, padding = 'valid', input_shape = (28,28,1), activation = 'relu'))\n",
        "model.add(MaxPooling2D(pool_size = (2,2)))\n",
        "\n",
        "model.add(Conv2D(filters = 32, kernel_size = (3,3),strides = 1, padding = 'valid', input_shape = (28,28,1), activation = 'relu'))\n",
        "model.add(MaxPooling2D(pool_size = (2,2)))\n",
        "\n",
        "# model.add(Conv2D(filters = 16, kernel_size = (3,3),strides = 1, padding = 'valid', input_shape = (28,28,1), activation = 'relu'))\n",
        "# model.add(MaxPooling2D(pool_size = (2,2)))\n",
        "\n",
        "# model.add(Conv2D(filters = 8, kernel_size = (3,3),strides = 1, padding = 'valid', input_shape = (28,28,1), activation = 'relu'))\n",
        "# model.add(MaxPooling2D(pool_size = (2,2)))\n",
        "\n",
        "model.add(Flatten())\n",
        "model.add(Dense(128, activation = 'relu'))\n",
        "\n",
        "model.add(Dense(10, activation = 'softmax'))\n",
        "\n",
        "model.compile(loss ='categorical_crossentropy', optimizer = 'adam', metrics = ['accuracy'] )\n",
        "\n"
      ],
      "execution_count": 0,
      "outputs": []
    },
    {
      "cell_type": "code",
      "metadata": {
        "id": "Gty449Fb-IQ3",
        "colab_type": "code",
        "outputId": "208d03fb-889e-4d91-ef5e-ad7f6dab6dad",
        "colab": {
          "base_uri": "https://localhost:8080/",
          "height": 474
        }
      },
      "source": [
        "model.summary()"
      ],
      "execution_count": 79,
      "outputs": [
        {
          "output_type": "stream",
          "text": [
            "Model: \"sequential_4\"\n",
            "_________________________________________________________________\n",
            "Layer (type)                 Output Shape              Param #   \n",
            "=================================================================\n",
            "conv2d_15 (Conv2D)           (None, 26, 26, 128)       1280      \n",
            "_________________________________________________________________\n",
            "max_pooling2d_12 (MaxPooling (None, 13, 13, 128)       0         \n",
            "_________________________________________________________________\n",
            "conv2d_16 (Conv2D)           (None, 11, 11, 64)        73792     \n",
            "_________________________________________________________________\n",
            "max_pooling2d_13 (MaxPooling (None, 5, 5, 64)          0         \n",
            "_________________________________________________________________\n",
            "conv2d_17 (Conv2D)           (None, 3, 3, 32)          18464     \n",
            "_________________________________________________________________\n",
            "max_pooling2d_14 (MaxPooling (None, 1, 1, 32)          0         \n",
            "_________________________________________________________________\n",
            "flatten_1 (Flatten)          (None, 32)                0         \n",
            "_________________________________________________________________\n",
            "dense_2 (Dense)              (None, 128)               4224      \n",
            "_________________________________________________________________\n",
            "dense_3 (Dense)              (None, 10)                1290      \n",
            "=================================================================\n",
            "Total params: 99,050\n",
            "Trainable params: 99,050\n",
            "Non-trainable params: 0\n",
            "_________________________________________________________________\n"
          ],
          "name": "stdout"
        }
      ]
    },
    {
      "cell_type": "code",
      "metadata": {
        "id": "1T6Uzlrm-IQ6",
        "colab_type": "code",
        "colab": {}
      },
      "source": [
        "from tensorflow.keras.callbacks import EarlyStopping"
      ],
      "execution_count": 0,
      "outputs": []
    },
    {
      "cell_type": "code",
      "metadata": {
        "id": "ROcU5eJU-IQ9",
        "colab_type": "code",
        "colab": {}
      },
      "source": [
        "es = EarlyStopping(monitor = 'val_loss', patience = 2)"
      ],
      "execution_count": 0,
      "outputs": []
    },
    {
      "cell_type": "code",
      "metadata": {
        "id": "6pdNRWaW-IQ_",
        "colab_type": "code",
        "outputId": "93c139e4-54a4-4b7c-8631-f4b400e9c0f0",
        "colab": {
          "base_uri": "https://localhost:8080/",
          "height": 1000
        }
      },
      "source": [
        "with tf.device('/device:GPU:0'):\n",
        "  model.fit(x = X_train, y = y_cat_train, epochs = 100 , validation_data=(X_test, y_cat_test)) #, callbacks = [es])"
      ],
      "execution_count": 83,
      "outputs": [
        {
          "output_type": "stream",
          "text": [
            "Epoch 1/100\n",
            "880/880 [==============================] - 5s 5ms/step - loss: 0.0119 - accuracy: 0.9961 - val_loss: 0.1274 - val_accuracy: 0.9781\n",
            "Epoch 2/100\n",
            "880/880 [==============================] - 5s 5ms/step - loss: 0.0089 - accuracy: 0.9970 - val_loss: 0.1389 - val_accuracy: 0.9768\n",
            "Epoch 3/100\n",
            "880/880 [==============================] - 5s 5ms/step - loss: 0.0125 - accuracy: 0.9957 - val_loss: 0.1347 - val_accuracy: 0.9776\n",
            "Epoch 4/100\n",
            "880/880 [==============================] - 5s 5ms/step - loss: 0.0093 - accuracy: 0.9969 - val_loss: 0.1617 - val_accuracy: 0.9738\n",
            "Epoch 5/100\n",
            "880/880 [==============================] - 5s 5ms/step - loss: 0.0103 - accuracy: 0.9967 - val_loss: 0.1321 - val_accuracy: 0.9755\n",
            "Epoch 6/100\n",
            "880/880 [==============================] - 5s 5ms/step - loss: 0.0119 - accuracy: 0.9964 - val_loss: 0.1346 - val_accuracy: 0.9773\n",
            "Epoch 7/100\n",
            "880/880 [==============================] - 5s 5ms/step - loss: 0.0073 - accuracy: 0.9977 - val_loss: 0.1236 - val_accuracy: 0.9790\n",
            "Epoch 8/100\n",
            "880/880 [==============================] - 5s 5ms/step - loss: 0.0086 - accuracy: 0.9975 - val_loss: 0.1566 - val_accuracy: 0.9770\n",
            "Epoch 9/100\n",
            "880/880 [==============================] - 5s 5ms/step - loss: 0.0104 - accuracy: 0.9968 - val_loss: 0.1491 - val_accuracy: 0.9745\n",
            "Epoch 10/100\n",
            "880/880 [==============================] - 5s 6ms/step - loss: 0.0090 - accuracy: 0.9968 - val_loss: 0.1453 - val_accuracy: 0.9791\n",
            "Epoch 11/100\n",
            "880/880 [==============================] - 5s 6ms/step - loss: 0.0055 - accuracy: 0.9983 - val_loss: 0.1430 - val_accuracy: 0.9778\n",
            "Epoch 12/100\n",
            "880/880 [==============================] - 5s 6ms/step - loss: 0.0114 - accuracy: 0.9968 - val_loss: 0.1405 - val_accuracy: 0.9791\n",
            "Epoch 13/100\n",
            "880/880 [==============================] - 5s 5ms/step - loss: 0.0037 - accuracy: 0.9990 - val_loss: 0.1505 - val_accuracy: 0.9783\n",
            "Epoch 14/100\n",
            "880/880 [==============================] - 5s 5ms/step - loss: 0.0124 - accuracy: 0.9961 - val_loss: 0.1499 - val_accuracy: 0.9767\n",
            "Epoch 15/100\n",
            "880/880 [==============================] - 5s 5ms/step - loss: 0.0048 - accuracy: 0.9984 - val_loss: 0.1536 - val_accuracy: 0.9762\n",
            "Epoch 16/100\n",
            "880/880 [==============================] - 5s 5ms/step - loss: 0.0049 - accuracy: 0.9986 - val_loss: 0.1630 - val_accuracy: 0.9768\n",
            "Epoch 17/100\n",
            "880/880 [==============================] - 5s 5ms/step - loss: 0.0107 - accuracy: 0.9963 - val_loss: 0.2023 - val_accuracy: 0.9728\n",
            "Epoch 18/100\n",
            "880/880 [==============================] - 5s 5ms/step - loss: 0.0084 - accuracy: 0.9973 - val_loss: 0.1399 - val_accuracy: 0.9799\n",
            "Epoch 19/100\n",
            "880/880 [==============================] - 5s 5ms/step - loss: 0.0051 - accuracy: 0.9984 - val_loss: 0.1648 - val_accuracy: 0.9768\n",
            "Epoch 20/100\n",
            "880/880 [==============================] - 5s 5ms/step - loss: 0.0086 - accuracy: 0.9977 - val_loss: 0.1504 - val_accuracy: 0.9760\n",
            "Epoch 21/100\n",
            "880/880 [==============================] - 5s 5ms/step - loss: 0.0059 - accuracy: 0.9979 - val_loss: 0.1860 - val_accuracy: 0.9742\n",
            "Epoch 22/100\n",
            "880/880 [==============================] - 5s 5ms/step - loss: 0.0033 - accuracy: 0.9990 - val_loss: 0.1757 - val_accuracy: 0.9766\n",
            "Epoch 23/100\n",
            "880/880 [==============================] - 5s 5ms/step - loss: 0.0074 - accuracy: 0.9978 - val_loss: 0.1721 - val_accuracy: 0.9759\n",
            "Epoch 24/100\n",
            "880/880 [==============================] - 5s 5ms/step - loss: 0.0080 - accuracy: 0.9977 - val_loss: 0.1710 - val_accuracy: 0.9771\n",
            "Epoch 25/100\n",
            "880/880 [==============================] - 5s 5ms/step - loss: 0.0060 - accuracy: 0.9982 - val_loss: 0.1727 - val_accuracy: 0.9778\n",
            "Epoch 26/100\n",
            "880/880 [==============================] - 5s 5ms/step - loss: 0.0077 - accuracy: 0.9978 - val_loss: 0.1830 - val_accuracy: 0.9768\n",
            "Epoch 27/100\n",
            "880/880 [==============================] - 5s 5ms/step - loss: 0.0039 - accuracy: 0.9990 - val_loss: 0.1719 - val_accuracy: 0.9791\n",
            "Epoch 28/100\n",
            "880/880 [==============================] - 5s 5ms/step - loss: 0.0074 - accuracy: 0.9979 - val_loss: 0.1856 - val_accuracy: 0.9766\n",
            "Epoch 29/100\n",
            "880/880 [==============================] - 5s 5ms/step - loss: 0.0078 - accuracy: 0.9979 - val_loss: 0.1769 - val_accuracy: 0.9753\n",
            "Epoch 30/100\n",
            "880/880 [==============================] - 5s 5ms/step - loss: 0.0046 - accuracy: 0.9986 - val_loss: 0.1800 - val_accuracy: 0.9778\n",
            "Epoch 31/100\n",
            "880/880 [==============================] - 5s 5ms/step - loss: 0.0073 - accuracy: 0.9977 - val_loss: 0.1846 - val_accuracy: 0.9773\n",
            "Epoch 32/100\n",
            "880/880 [==============================] - 5s 5ms/step - loss: 0.0057 - accuracy: 0.9983 - val_loss: 0.1633 - val_accuracy: 0.9772\n",
            "Epoch 33/100\n",
            "880/880 [==============================] - 5s 5ms/step - loss: 0.0014 - accuracy: 0.9995 - val_loss: 0.1560 - val_accuracy: 0.9794\n",
            "Epoch 34/100\n",
            "880/880 [==============================] - 5s 5ms/step - loss: 0.0050 - accuracy: 0.9986 - val_loss: 0.2178 - val_accuracy: 0.9763\n",
            "Epoch 35/100\n",
            "880/880 [==============================] - 5s 5ms/step - loss: 0.0079 - accuracy: 0.9977 - val_loss: 0.1741 - val_accuracy: 0.9783\n",
            "Epoch 36/100\n",
            "880/880 [==============================] - 5s 5ms/step - loss: 0.0050 - accuracy: 0.9986 - val_loss: 0.1856 - val_accuracy: 0.9776\n",
            "Epoch 37/100\n",
            "880/880 [==============================] - 5s 5ms/step - loss: 0.0073 - accuracy: 0.9977 - val_loss: 0.1967 - val_accuracy: 0.9763\n",
            "Epoch 38/100\n",
            "880/880 [==============================] - 5s 5ms/step - loss: 0.0028 - accuracy: 0.9991 - val_loss: 0.1787 - val_accuracy: 0.9789\n",
            "Epoch 39/100\n",
            "880/880 [==============================] - 5s 5ms/step - loss: 0.0030 - accuracy: 0.9991 - val_loss: 0.3046 - val_accuracy: 0.9672\n",
            "Epoch 40/100\n",
            "880/880 [==============================] - 5s 5ms/step - loss: 0.0112 - accuracy: 0.9971 - val_loss: 0.1785 - val_accuracy: 0.9756\n",
            "Epoch 41/100\n",
            "880/880 [==============================] - 5s 5ms/step - loss: 0.0017 - accuracy: 0.9994 - val_loss: 0.1957 - val_accuracy: 0.9780\n",
            "Epoch 42/100\n",
            "880/880 [==============================] - 5s 5ms/step - loss: 2.8485e-04 - accuracy: 0.9999 - val_loss: 0.1884 - val_accuracy: 0.9799\n",
            "Epoch 43/100\n",
            "880/880 [==============================] - 5s 5ms/step - loss: 2.4948e-05 - accuracy: 1.0000 - val_loss: 0.1842 - val_accuracy: 0.9803\n",
            "Epoch 44/100\n",
            "880/880 [==============================] - 5s 5ms/step - loss: 6.9838e-06 - accuracy: 1.0000 - val_loss: 0.1859 - val_accuracy: 0.9806\n",
            "Epoch 45/100\n",
            "880/880 [==============================] - 5s 5ms/step - loss: 4.6651e-06 - accuracy: 1.0000 - val_loss: 0.1880 - val_accuracy: 0.9807\n",
            "Epoch 46/100\n",
            "880/880 [==============================] - 5s 5ms/step - loss: 3.2679e-06 - accuracy: 1.0000 - val_loss: 0.1898 - val_accuracy: 0.9807\n",
            "Epoch 47/100\n",
            "880/880 [==============================] - 5s 5ms/step - loss: 2.2636e-06 - accuracy: 1.0000 - val_loss: 0.1920 - val_accuracy: 0.9808\n",
            "Epoch 48/100\n",
            "880/880 [==============================] - 5s 5ms/step - loss: 1.5488e-06 - accuracy: 1.0000 - val_loss: 0.1945 - val_accuracy: 0.9806\n",
            "Epoch 49/100\n",
            "880/880 [==============================] - 5s 5ms/step - loss: 1.0461e-06 - accuracy: 1.0000 - val_loss: 0.1979 - val_accuracy: 0.9808\n",
            "Epoch 50/100\n",
            "880/880 [==============================] - 5s 5ms/step - loss: 6.9410e-07 - accuracy: 1.0000 - val_loss: 0.2012 - val_accuracy: 0.9809\n",
            "Epoch 51/100\n",
            "880/880 [==============================] - 5s 5ms/step - loss: 4.5408e-07 - accuracy: 1.0000 - val_loss: 0.2044 - val_accuracy: 0.9809\n",
            "Epoch 52/100\n",
            "880/880 [==============================] - 5s 5ms/step - loss: 2.9368e-07 - accuracy: 1.0000 - val_loss: 0.2082 - val_accuracy: 0.9808\n",
            "Epoch 53/100\n",
            "880/880 [==============================] - 5s 6ms/step - loss: 1.9080e-07 - accuracy: 1.0000 - val_loss: 0.2122 - val_accuracy: 0.9810\n",
            "Epoch 54/100\n",
            "880/880 [==============================] - 5s 5ms/step - loss: 1.2160e-07 - accuracy: 1.0000 - val_loss: 0.2167 - val_accuracy: 0.9811\n",
            "Epoch 55/100\n",
            "880/880 [==============================] - 5s 5ms/step - loss: 7.8282e-08 - accuracy: 1.0000 - val_loss: 0.2198 - val_accuracy: 0.9812\n",
            "Epoch 56/100\n",
            "880/880 [==============================] - 5s 5ms/step - loss: 4.9980e-08 - accuracy: 1.0000 - val_loss: 0.2240 - val_accuracy: 0.9816\n",
            "Epoch 57/100\n",
            "880/880 [==============================] - 5s 5ms/step - loss: 3.1391e-08 - accuracy: 1.0000 - val_loss: 0.2284 - val_accuracy: 0.9816\n",
            "Epoch 58/100\n",
            "880/880 [==============================] - 5s 5ms/step - loss: 1.9978e-08 - accuracy: 1.0000 - val_loss: 0.2332 - val_accuracy: 0.9817\n",
            "Epoch 59/100\n",
            "880/880 [==============================] - 5s 5ms/step - loss: 1.2751e-08 - accuracy: 1.0000 - val_loss: 0.2377 - val_accuracy: 0.9820\n",
            "Epoch 60/100\n",
            "880/880 [==============================] - 5s 5ms/step - loss: 8.2057e-09 - accuracy: 1.0000 - val_loss: 0.2416 - val_accuracy: 0.9817\n",
            "Epoch 61/100\n",
            "880/880 [==============================] - 5s 5ms/step - loss: 5.2699e-09 - accuracy: 1.0000 - val_loss: 0.2460 - val_accuracy: 0.9817\n",
            "Epoch 62/100\n",
            "880/880 [==============================] - 5s 5ms/step - loss: 3.4060e-09 - accuracy: 1.0000 - val_loss: 0.2500 - val_accuracy: 0.9818\n",
            "Epoch 63/100\n",
            "880/880 [==============================] - 5s 5ms/step - loss: 2.1775e-09 - accuracy: 1.0000 - val_loss: 0.2540 - val_accuracy: 0.9820\n",
            "Epoch 64/100\n",
            "880/880 [==============================] - 5s 5ms/step - loss: 1.4530e-09 - accuracy: 1.0000 - val_loss: 0.2578 - val_accuracy: 0.9820\n",
            "Epoch 65/100\n",
            "880/880 [==============================] - 5s 5ms/step - loss: 9.4469e-10 - accuracy: 1.0000 - val_loss: 0.2610 - val_accuracy: 0.9819\n",
            "Epoch 66/100\n",
            "880/880 [==============================] - 5s 5ms/step - loss: 6.5663e-10 - accuracy: 1.0000 - val_loss: 0.2644 - val_accuracy: 0.9822\n",
            "Epoch 67/100\n",
            "880/880 [==============================] - 5s 5ms/step - loss: 3.8550e-10 - accuracy: 1.0000 - val_loss: 0.2661 - val_accuracy: 0.9822\n",
            "Epoch 68/100\n",
            "880/880 [==============================] - 5s 5ms/step - loss: 2.2029e-10 - accuracy: 1.0000 - val_loss: 0.2675 - val_accuracy: 0.9820\n",
            "Epoch 69/100\n",
            "880/880 [==============================] - 5s 5ms/step - loss: 1.6098e-10 - accuracy: 1.0000 - val_loss: 0.2689 - val_accuracy: 0.9823\n",
            "Epoch 70/100\n",
            "880/880 [==============================] - 5s 5ms/step - loss: 9.3198e-11 - accuracy: 1.0000 - val_loss: 0.2699 - val_accuracy: 0.9821\n",
            "Epoch 71/100\n",
            "880/880 [==============================] - 5s 5ms/step - loss: 8.4726e-11 - accuracy: 1.0000 - val_loss: 0.2704 - val_accuracy: 0.9820\n",
            "Epoch 72/100\n",
            "880/880 [==============================] - 5s 5ms/step - loss: 5.5072e-11 - accuracy: 1.0000 - val_loss: 0.2714 - val_accuracy: 0.9817\n",
            "Epoch 73/100\n",
            "880/880 [==============================] - 5s 5ms/step - loss: 5.0836e-11 - accuracy: 1.0000 - val_loss: 0.2719 - val_accuracy: 0.9819\n",
            "Epoch 74/100\n",
            "880/880 [==============================] - 5s 5ms/step - loss: 2.9654e-11 - accuracy: 1.0000 - val_loss: 0.2726 - val_accuracy: 0.9820\n",
            "Epoch 75/100\n",
            "880/880 [==============================] - 5s 5ms/step - loss: 1.6945e-11 - accuracy: 1.0000 - val_loss: 0.2729 - val_accuracy: 0.9820\n",
            "Epoch 76/100\n",
            "880/880 [==============================] - 5s 6ms/step - loss: 1.6945e-11 - accuracy: 1.0000 - val_loss: 0.2736 - val_accuracy: 0.9820\n",
            "Epoch 77/100\n",
            "880/880 [==============================] - 5s 6ms/step - loss: 2.5418e-11 - accuracy: 1.0000 - val_loss: 0.2746 - val_accuracy: 0.9819\n",
            "Epoch 78/100\n",
            "880/880 [==============================] - 5s 5ms/step - loss: 1.2709e-11 - accuracy: 1.0000 - val_loss: 0.2751 - val_accuracy: 0.9819\n",
            "Epoch 79/100\n",
            "880/880 [==============================] - 5s 5ms/step - loss: 1.2709e-11 - accuracy: 1.0000 - val_loss: 0.2758 - val_accuracy: 0.9820\n",
            "Epoch 80/100\n",
            "880/880 [==============================] - 5s 5ms/step - loss: 1.2709e-11 - accuracy: 1.0000 - val_loss: 0.2765 - val_accuracy: 0.9819\n",
            "Epoch 81/100\n",
            "880/880 [==============================] - 5s 5ms/step - loss: 2.1181e-11 - accuracy: 1.0000 - val_loss: 0.2779 - val_accuracy: 0.9820\n",
            "Epoch 82/100\n",
            "880/880 [==============================] - 5s 5ms/step - loss: 4.2363e-12 - accuracy: 1.0000 - val_loss: 0.2782 - val_accuracy: 0.9820\n",
            "Epoch 83/100\n",
            "880/880 [==============================] - 5s 5ms/step - loss: 4.2363e-12 - accuracy: 1.0000 - val_loss: 0.2789 - val_accuracy: 0.9820\n",
            "Epoch 84/100\n",
            "880/880 [==============================] - 5s 5ms/step - loss: 8.4726e-12 - accuracy: 1.0000 - val_loss: 0.2796 - val_accuracy: 0.9820\n",
            "Epoch 85/100\n",
            "880/880 [==============================] - 5s 5ms/step - loss: 4.2363e-12 - accuracy: 1.0000 - val_loss: 0.2804 - val_accuracy: 0.9821\n",
            "Epoch 86/100\n",
            "880/880 [==============================] - 5s 5ms/step - loss: 0.0000e+00 - accuracy: 1.0000 - val_loss: 0.2811 - val_accuracy: 0.9821\n",
            "Epoch 87/100\n",
            "880/880 [==============================] - 5s 5ms/step - loss: 0.0000e+00 - accuracy: 1.0000 - val_loss: 0.2819 - val_accuracy: 0.9820\n",
            "Epoch 88/100\n",
            "880/880 [==============================] - 5s 5ms/step - loss: 0.0000e+00 - accuracy: 1.0000 - val_loss: 0.2827 - val_accuracy: 0.9820\n",
            "Epoch 89/100\n",
            "880/880 [==============================] - 5s 5ms/step - loss: 0.0000e+00 - accuracy: 1.0000 - val_loss: 0.2834 - val_accuracy: 0.9821\n",
            "Epoch 90/100\n",
            "880/880 [==============================] - 5s 5ms/step - loss: 0.0000e+00 - accuracy: 1.0000 - val_loss: 0.2842 - val_accuracy: 0.9822\n",
            "Epoch 91/100\n",
            "880/880 [==============================] - 5s 5ms/step - loss: 0.0000e+00 - accuracy: 1.0000 - val_loss: 0.2849 - val_accuracy: 0.9821\n",
            "Epoch 92/100\n",
            "880/880 [==============================] - 5s 5ms/step - loss: 0.0000e+00 - accuracy: 1.0000 - val_loss: 0.2856 - val_accuracy: 0.9823\n",
            "Epoch 93/100\n",
            "880/880 [==============================] - 5s 5ms/step - loss: 0.0000e+00 - accuracy: 1.0000 - val_loss: 0.2865 - val_accuracy: 0.9823\n",
            "Epoch 94/100\n",
            "880/880 [==============================] - 5s 5ms/step - loss: 0.0000e+00 - accuracy: 1.0000 - val_loss: 0.2871 - val_accuracy: 0.9823\n",
            "Epoch 95/100\n",
            "880/880 [==============================] - 5s 5ms/step - loss: 0.0000e+00 - accuracy: 1.0000 - val_loss: 0.2879 - val_accuracy: 0.9823\n",
            "Epoch 96/100\n",
            "880/880 [==============================] - 5s 5ms/step - loss: 0.0000e+00 - accuracy: 1.0000 - val_loss: 0.2886 - val_accuracy: 0.9823\n",
            "Epoch 97/100\n",
            "880/880 [==============================] - 5s 5ms/step - loss: 0.0000e+00 - accuracy: 1.0000 - val_loss: 0.2894 - val_accuracy: 0.9823\n",
            "Epoch 98/100\n",
            "880/880 [==============================] - 5s 5ms/step - loss: 0.0000e+00 - accuracy: 1.0000 - val_loss: 0.2900 - val_accuracy: 0.9823\n",
            "Epoch 99/100\n",
            "880/880 [==============================] - 5s 5ms/step - loss: 0.0000e+00 - accuracy: 1.0000 - val_loss: 0.2907 - val_accuracy: 0.9823\n",
            "Epoch 100/100\n",
            "880/880 [==============================] - 5s 5ms/step - loss: 0.0000e+00 - accuracy: 1.0000 - val_loss: 0.2915 - val_accuracy: 0.9822\n"
          ],
          "name": "stdout"
        }
      ]
    },
    {
      "cell_type": "code",
      "metadata": {
        "id": "AJE_s7Ht-IRC",
        "colab_type": "code",
        "colab": {}
      },
      "source": [
        "from tensorflow.keras.models import load_model"
      ],
      "execution_count": 0,
      "outputs": []
    },
    {
      "cell_type": "code",
      "metadata": {
        "id": "qOcWRRFt-IRF",
        "colab_type": "code",
        "colab": {}
      },
      "source": [
        "model.save('digit_recognizer.h5')"
      ],
      "execution_count": 0,
      "outputs": []
    },
    {
      "cell_type": "code",
      "metadata": {
        "id": "jqOHT9iG-IRI",
        "colab_type": "code",
        "colab": {}
      },
      "source": [
        "metrics = pd.DataFrame(model.history.history)"
      ],
      "execution_count": 0,
      "outputs": []
    },
    {
      "cell_type": "code",
      "metadata": {
        "id": "xcKCF6Bf-IRK",
        "colab_type": "code",
        "outputId": "aca915ba-72cf-4c45-d533-2ff3e07a88a3",
        "colab": {
          "base_uri": "https://localhost:8080/",
          "height": 34
        }
      },
      "source": [
        "metrics.columns"
      ],
      "execution_count": 87,
      "outputs": [
        {
          "output_type": "execute_result",
          "data": {
            "text/plain": [
              "Index(['loss', 'accuracy', 'val_loss', 'val_accuracy'], dtype='object')"
            ]
          },
          "metadata": {
            "tags": []
          },
          "execution_count": 87
        }
      ]
    },
    {
      "cell_type": "code",
      "metadata": {
        "id": "eHCHl0dP-IRO",
        "colab_type": "code",
        "outputId": "1ab731ef-1008-4c87-c9d6-0518fb245170",
        "colab": {
          "base_uri": "https://localhost:8080/",
          "height": 402
        }
      },
      "source": [
        "metrics"
      ],
      "execution_count": 88,
      "outputs": [
        {
          "output_type": "execute_result",
          "data": {
            "text/html": [
              "<div>\n",
              "<style scoped>\n",
              "    .dataframe tbody tr th:only-of-type {\n",
              "        vertical-align: middle;\n",
              "    }\n",
              "\n",
              "    .dataframe tbody tr th {\n",
              "        vertical-align: top;\n",
              "    }\n",
              "\n",
              "    .dataframe thead th {\n",
              "        text-align: right;\n",
              "    }\n",
              "</style>\n",
              "<table border=\"1\" class=\"dataframe\">\n",
              "  <thead>\n",
              "    <tr style=\"text-align: right;\">\n",
              "      <th></th>\n",
              "      <th>loss</th>\n",
              "      <th>accuracy</th>\n",
              "      <th>val_loss</th>\n",
              "      <th>val_accuracy</th>\n",
              "    </tr>\n",
              "  </thead>\n",
              "  <tbody>\n",
              "    <tr>\n",
              "      <th>0</th>\n",
              "      <td>0.011932</td>\n",
              "      <td>0.996091</td>\n",
              "      <td>0.127358</td>\n",
              "      <td>0.978139</td>\n",
              "    </tr>\n",
              "    <tr>\n",
              "      <th>1</th>\n",
              "      <td>0.008874</td>\n",
              "      <td>0.996979</td>\n",
              "      <td>0.138921</td>\n",
              "      <td>0.976768</td>\n",
              "    </tr>\n",
              "    <tr>\n",
              "      <th>2</th>\n",
              "      <td>0.012509</td>\n",
              "      <td>0.995665</td>\n",
              "      <td>0.134684</td>\n",
              "      <td>0.977561</td>\n",
              "    </tr>\n",
              "    <tr>\n",
              "      <th>3</th>\n",
              "      <td>0.009334</td>\n",
              "      <td>0.996944</td>\n",
              "      <td>0.161660</td>\n",
              "      <td>0.973810</td>\n",
              "    </tr>\n",
              "    <tr>\n",
              "      <th>4</th>\n",
              "      <td>0.010329</td>\n",
              "      <td>0.996731</td>\n",
              "      <td>0.132079</td>\n",
              "      <td>0.975469</td>\n",
              "    </tr>\n",
              "    <tr>\n",
              "      <th>...</th>\n",
              "      <td>...</td>\n",
              "      <td>...</td>\n",
              "      <td>...</td>\n",
              "      <td>...</td>\n",
              "    </tr>\n",
              "    <tr>\n",
              "      <th>95</th>\n",
              "      <td>0.000000</td>\n",
              "      <td>1.000000</td>\n",
              "      <td>0.288590</td>\n",
              "      <td>0.982251</td>\n",
              "    </tr>\n",
              "    <tr>\n",
              "      <th>96</th>\n",
              "      <td>0.000000</td>\n",
              "      <td>1.000000</td>\n",
              "      <td>0.289373</td>\n",
              "      <td>0.982251</td>\n",
              "    </tr>\n",
              "    <tr>\n",
              "      <th>97</th>\n",
              "      <td>0.000000</td>\n",
              "      <td>1.000000</td>\n",
              "      <td>0.290033</td>\n",
              "      <td>0.982251</td>\n",
              "    </tr>\n",
              "    <tr>\n",
              "      <th>98</th>\n",
              "      <td>0.000000</td>\n",
              "      <td>1.000000</td>\n",
              "      <td>0.290718</td>\n",
              "      <td>0.982251</td>\n",
              "    </tr>\n",
              "    <tr>\n",
              "      <th>99</th>\n",
              "      <td>0.000000</td>\n",
              "      <td>1.000000</td>\n",
              "      <td>0.291476</td>\n",
              "      <td>0.982179</td>\n",
              "    </tr>\n",
              "  </tbody>\n",
              "</table>\n",
              "<p>100 rows × 4 columns</p>\n",
              "</div>"
            ],
            "text/plain": [
              "        loss  accuracy  val_loss  val_accuracy\n",
              "0   0.011932  0.996091  0.127358      0.978139\n",
              "1   0.008874  0.996979  0.138921      0.976768\n",
              "2   0.012509  0.995665  0.134684      0.977561\n",
              "3   0.009334  0.996944  0.161660      0.973810\n",
              "4   0.010329  0.996731  0.132079      0.975469\n",
              "..       ...       ...       ...           ...\n",
              "95  0.000000  1.000000  0.288590      0.982251\n",
              "96  0.000000  1.000000  0.289373      0.982251\n",
              "97  0.000000  1.000000  0.290033      0.982251\n",
              "98  0.000000  1.000000  0.290718      0.982251\n",
              "99  0.000000  1.000000  0.291476      0.982179\n",
              "\n",
              "[100 rows x 4 columns]"
            ]
          },
          "metadata": {
            "tags": []
          },
          "execution_count": 88
        }
      ]
    },
    {
      "cell_type": "code",
      "metadata": {
        "id": "yLV84JhO-IRU",
        "colab_type": "code",
        "outputId": "172b6df2-6bb4-4a97-f4af-ffea5edaa2d5",
        "colab": {
          "base_uri": "https://localhost:8080/",
          "height": 282
        }
      },
      "source": [
        "metrics[['loss', 'val_loss']].plot()"
      ],
      "execution_count": 89,
      "outputs": [
        {
          "output_type": "execute_result",
          "data": {
            "text/plain": [
              "<matplotlib.axes._subplots.AxesSubplot at 0x7faffe1e3208>"
            ]
          },
          "metadata": {
            "tags": []
          },
          "execution_count": 89
        },
        {
          "output_type": "display_data",
          "data": {
            "image/png": "[encoded data removed]",
            "text/plain": [
              "<Figure size 432x288 with 1 Axes>"
            ]
          },
          "metadata": {
            "tags": [],
            "needs_background": "light"
          }
        }
      ]
    },
    {
      "cell_type": "code",
      "metadata": {
        "id": "aDEYh9Ua-IRX",
        "colab_type": "code",
        "outputId": "364a5b9b-3f6d-4dc0-9c38-769525e1c382",
        "colab": {
          "base_uri": "https://localhost:8080/",
          "height": 282
        }
      },
      "source": [
        "metrics[['accuracy', 'val_accuracy']].plot()"
      ],
      "execution_count": 90,
      "outputs": [
        {
          "output_type": "execute_result",
          "data": {
            "text/plain": [
              "<matplotlib.axes._subplots.AxesSubplot at 0x7faf86d7f470>"
            ]
          },
          "metadata": {
            "tags": []
          },
          "execution_count": 90
        },
        {
          "output_type": "display_data",
          "data": {
            "image/png": "[encoded data removed]",
            "text/plain": [
              "<Figure size 432x288 with 1 Axes>"
            ]
          },
          "metadata": {
            "tags": [],
            "needs_background": "light"
          }
        }
      ]
    },
    {
      "cell_type": "code",
      "metadata": {
        "id": "GDHdNBkC-IRa",
        "colab_type": "code",
        "colab": {}
      },
      "source": [
        "from sklearn.metrics import classification_report, confusion_matrix"
      ],
      "execution_count": 0,
      "outputs": []
    },
    {
      "cell_type": "code",
      "metadata": {
        "id": "4H3M1dEK-IRc",
        "colab_type": "code",
        "outputId": "7f4c8906-f738-46fd-aad1-9d1629aafba4",
        "colab": {
          "base_uri": "https://localhost:8080/",
          "height": 90
        }
      },
      "source": [
        "predicts = model.predict_classes(X_test)"
      ],
      "execution_count": 92,
      "outputs": [
        {
          "output_type": "stream",
          "text": [
            "WARNING:tensorflow:From <ipython-input-92-cd9f81373c56>:1: Sequential.predict_classes (from tensorflow.python.keras.engine.sequential) is deprecated and will be removed after 2021-01-01.\n",
            "Instructions for updating:\n",
            "Please use instead:* `np.argmax(model.predict(x), axis=-1)`,   if your model does multi-class classification   (e.g. if it uses a `softmax` last-layer activation).* `(model.predict(x) > 0.5).astype(\"int32\")`,   if your model does binary classification   (e.g. if it uses a `sigmoid` last-layer activation).\n"
          ],
          "name": "stdout"
        }
      ]
    },
    {
      "cell_type": "code",
      "metadata": {
        "id": "85gZAKyC-IRh",
        "colab_type": "code",
        "outputId": "7e923ea8-4f1c-4949-b0c5-b283325e8384",
        "colab": {
          "base_uri": "https://localhost:8080/",
          "height": 316
        }
      },
      "source": [
        "print(classification_report(predicts, y_test))"
      ],
      "execution_count": 93,
      "outputs": [
        {
          "output_type": "stream",
          "text": [
            "              precision    recall  f1-score   support\n",
            "\n",
            "           0       0.99      0.99      0.99      1384\n",
            "           1       0.99      0.99      0.99      1559\n",
            "           2       0.98      0.97      0.98      1418\n",
            "           3       0.97      0.99      0.98      1382\n",
            "           4       0.98      0.99      0.98      1348\n",
            "           5       0.98      0.98      0.98      1256\n",
            "           6       0.99      0.99      0.99      1349\n",
            "           7       0.99      0.98      0.98      1435\n",
            "           8       0.97      0.98      0.98      1344\n",
            "           9       0.97      0.97      0.97      1385\n",
            "\n",
            "    accuracy                           0.98     13860\n",
            "   macro avg       0.98      0.98      0.98     13860\n",
            "weighted avg       0.98      0.98      0.98     13860\n",
            "\n"
          ],
          "name": "stdout"
        }
      ]
    },
    {
      "cell_type": "code",
      "metadata": {
        "id": "0c7z8WnS-IRm",
        "colab_type": "code",
        "outputId": "f4bc3e0e-8d20-4f20-b8b9-b808b62103d5",
        "colab": {
          "base_uri": "https://localhost:8080/",
          "height": 193
        }
      },
      "source": [
        "confusion_matrix(predicts, y_test)"
      ],
      "execution_count": 94,
      "outputs": [
        {
          "output_type": "execute_result",
          "data": {
            "text/plain": [
              "array([[1366,    0,    1,    0,    1,    1,    3,    1,    3,    8],\n",
              "       [   1, 1548,    0,    0,    2,    1,    2,    1,    2,    2],\n",
              "       [   3,    5, 1377,   12,    2,    2,    0,   13,    4,    0],\n",
              "       [   0,    1,    3, 1366,    0,    7,    0,    2,    1,    2],\n",
              "       [   1,    2,    1,    0, 1328,    0,    1,    2,    7,    6],\n",
              "       [   1,    0,    1,    8,    0, 1235,    3,    0,    4,    4],\n",
              "       [   1,    0,    0,    0,    4,    7, 1331,    0,    5,    1],\n",
              "       [   0,    4,   15,    6,    5,    0,    0, 1400,    1,    4],\n",
              "       [   1,    0,    4,    5,    2,    5,    4,    0, 1314,    9],\n",
              "       [   2,    1,    3,    8,   11,    1,    0,    2,    9, 1348]])"
            ]
          },
          "metadata": {
            "tags": []
          },
          "execution_count": 94
        }
      ]
    },
    {
      "cell_type": "code",
      "metadata": {
        "id": "5PCBZo9R-IRp",
        "colab_type": "code",
        "colab": {}
      },
      "source": [
        "df = pd.read_csv('test.csv')"
      ],
      "execution_count": 0,
      "outputs": []
    },
    {
      "cell_type": "code",
      "metadata": {
        "id": "DpUu5QRZRPel",
        "colab_type": "code",
        "colab": {}
      },
      "source": [
        "def bin_arr_line(arr, limit): #to make each cell either 0 or 1\n",
        "  for i in range(len(arr)):\n",
        "    if arr[i] >= limit:\n",
        "      arr[i] =1\n",
        "    else:\n",
        "      arr[i] =0\n",
        "  return arr\n",
        "    "
      ],
      "execution_count": 0,
      "outputs": []
    },
    {
      "cell_type": "code",
      "metadata": {
        "id": "14CqAKrA-IRs",
        "colab_type": "code",
        "outputId": "7eb615e7-8257-4b6b-ca3d-5d3294dfd3f6",
        "colab": {
          "base_uri": "https://localhost:8080/",
          "height": 282
        }
      },
      "source": [
        "curr = df.iloc[1228]\n",
        "x = bin_arr_line(list(curr[feature]), 0.4)\n",
        "plt.imshow(np.reshape(x, (28,28)))\n",
        "x = np.reshape(x, shape)\n",
        "model.predict_classes(x)[0]\n"
      ],
      "execution_count": 119,
      "outputs": [
        {
          "output_type": "execute_result",
          "data": {
            "text/plain": [
              "9"
            ]
          },
          "metadata": {
            "tags": []
          },
          "execution_count": 119
        },
        {
          "output_type": "display_data",
          "data": {
            "image/png": "[encoded data removed]",
            "text/plain": [
              "<Figure size 432x288 with 1 Axes>"
            ]
          },
          "metadata": {
            "tags": [],
            "needs_background": "light"
          }
        }
      ]
    },
    {
      "cell_type": "code",
      "metadata": {
        "id": "exMabjBP-IRu",
        "colab_type": "code",
        "colab": {}
      },
      "source": [
        "f = open ('result.csv','w')"
      ],
      "execution_count": 0,
      "outputs": []
    },
    {
      "cell_type": "code",
      "metadata": {
        "id": "9Z_-NQPx-IRx",
        "colab_type": "code",
        "colab": {
          "base_uri": "https://localhost:8080/",
          "height": 34
        },
        "outputId": "22b04fbd-164d-4e5a-a165-3ea3152d5b75"
      },
      "source": [
        "!pwd\n",
        "# gpu_info = !nvidia-smi\n",
        "# gpu_info = '\\n'.join(gpu_info)\n",
        "# if gpu_info.find('failed') >= 0:\n",
        "#   print('Select the Runtime > \"Change runtime type\" menu to enable a GPU accelerator, ')\n",
        "#   print('and then re-execute this cell.')\n",
        "# else:\n",
        "#   print(gpu_info)"
      ],
      "execution_count": 121,
      "outputs": [
        {
          "output_type": "stream",
          "text": [
            "/content/drive/My Drive/Colab Notebooks/kaggle/kaggle_digit_recognizer\n"
          ],
          "name": "stdout"
        }
      ]
    },
    {
      "cell_type": "code",
      "metadata": {
        "id": "UKiiiop1Gxh4",
        "colab_type": "code",
        "outputId": "584c649a-67fd-4840-916f-b4e59f284ca6",
        "colab": {
          "base_uri": "https://localhost:8080/",
          "height": 510
        }
      },
      "source": [
        "f = open ('result.csv','w')\n",
        "with tf.device('/device:GPU:0'):\n",
        "  feature = list(df.columns) \n",
        "  shape = (1,28,28,1)\n",
        "  for i in range(len(df)):\n",
        "      curr = df.iloc[i]\n",
        "      if i % 1000 ==0: print(i)\n",
        "      x = bin_arr_line(list(curr[feature]), limit)\n",
        "      x = np.reshape(x, shape)\n",
        "      f.write(str(i+1)+','+str(model.predict_classes(x)[0]))\n",
        "      f.write('\\n')\n"
      ],
      "execution_count": 123,
      "outputs": [
        {
          "output_type": "stream",
          "text": [
            "0\n",
            "1000\n",
            "2000\n",
            "3000\n",
            "4000\n",
            "5000\n",
            "6000\n",
            "7000\n",
            "8000\n",
            "9000\n",
            "10000\n",
            "11000\n",
            "12000\n",
            "13000\n",
            "14000\n",
            "15000\n",
            "16000\n",
            "17000\n",
            "18000\n",
            "19000\n",
            "20000\n",
            "21000\n",
            "22000\n",
            "23000\n",
            "24000\n",
            "25000\n",
            "26000\n",
            "27000\n"
          ],
          "name": "stdout"
        }
      ]
    },
    {
      "cell_type": "code",
      "metadata": {
        "id": "yCmsm7HXHF-9",
        "colab_type": "code",
        "colab": {}
      },
      "source": [
        "f.close()"
      ],
      "execution_count": 0,
      "outputs": []
    },
    {
      "cell_type": "code",
      "metadata": {
        "id": "HAT2e4vbMsEb",
        "colab_type": "code",
        "outputId": "a7027a1d-9321-4ffb-931c-45a03f660978",
        "colab": {
          "base_uri": "https://localhost:8080/",
          "height": 34
        }
      },
      "source": [
        "pwd"
      ],
      "execution_count": 0,
      "outputs": [
        {
          "output_type": "execute_result",
          "data": {
            "text/plain": [
              "'/content/drive/My Drive/Colab Notebooks/kaggle/kaggle_digit_recognizer'"
            ]
          },
          "metadata": {
            "tags": []
          },
          "execution_count": 64
        }
      ]
    },
    {
      "cell_type": "code",
      "metadata": {
        "id": "7msqgvRfMssR",
        "colab_type": "code",
        "outputId": "4ba677a6-f931-4189-bee4-6fe534fdff1f",
        "colab": {
          "base_uri": "https://localhost:8080/",
          "height": 102
        }
      },
      "source": [
        "ls -al"
      ],
      "execution_count": 0,
      "outputs": [
        {
          "output_type": "stream",
          "text": [
            "total 126217\n",
            "-rw------- 1 root root   113466 May 13 04:02 digit_recognizer_20200512_2258.ipynb\n",
            "-rw------- 1 root root  1237760 May 13 03:18 digit_recognizer.h5\n",
            "-rw------- 1 root root 51118296 May 13 00:29 test.csv\n",
            "-rw------- 1 root root 76775041 May 13 00:29 train.csv\n"
          ],
          "name": "stdout"
        }
      ]
    },
    {
      "cell_type": "code",
      "metadata": {
        "id": "lY6VRyCHMtoX",
        "colab_type": "code",
        "colab": {}
      },
      "source": [
        ""
      ],
      "execution_count": 0,
      "outputs": []
    }
  ]
}