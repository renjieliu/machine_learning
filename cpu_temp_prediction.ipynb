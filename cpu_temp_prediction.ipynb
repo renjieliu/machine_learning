{
 "cells": [
  {
   "cell_type": "code",
   "execution_count": 1,
   "metadata": {},
   "outputs": [],
   "source": [
    "import pandas as pd\n",
    "import seaborn as sns\n",
    "import numpy as np\n",
    "import matplotlib.pyplot as plt\n",
    "import random\n",
    "import tensorflow as tf\n",
    "from sklearn.model_selection import train_test_split\n",
    "from sklearn.preprocessing import MinMaxScaler\n",
    "from tensorflow.keras.models import Sequential\n",
    "from tensorflow.keras.layers import Dense,Dropout"
   ]
  },
  {
   "cell_type": "code",
   "execution_count": 2,
   "metadata": {},
   "outputs": [],
   "source": [
    "df = pd.read_csv('cpu_temp_2018.csv', sep = '\\t') #this file contains all the cpu_temp from 2018 onwards to May-3, 2020"
   ]
  },
  {
   "cell_type": "code",
   "execution_count": 3,
   "metadata": {},
   "outputs": [
    {
     "data": {
      "text/html": [
       "<div>\n",
       "<style scoped>\n",
       "    .dataframe tbody tr th:only-of-type {\n",
       "        vertical-align: middle;\n",
       "    }\n",
       "\n",
       "    .dataframe tbody tr th {\n",
       "        vertical-align: top;\n",
       "    }\n",
       "\n",
       "    .dataframe thead th {\n",
       "        text-align: right;\n",
       "    }\n",
       "</style>\n",
       "<table border=\"1\" class=\"dataframe\">\n",
       "  <thead>\n",
       "    <tr style=\"text-align: right;\">\n",
       "      <th></th>\n",
       "      <th>temp</th>\n",
       "      <th>year</th>\n",
       "      <th>month</th>\n",
       "      <th>day</th>\n",
       "      <th>hour</th>\n",
       "      <th>minute</th>\n",
       "      <th>second</th>\n",
       "    </tr>\n",
       "  </thead>\n",
       "  <tbody>\n",
       "    <tr>\n",
       "      <th>13255007</th>\n",
       "      <td>59.0</td>\n",
       "      <td>2020</td>\n",
       "      <td>4</td>\n",
       "      <td>21</td>\n",
       "      <td>22</td>\n",
       "      <td>53</td>\n",
       "      <td>20</td>\n",
       "    </tr>\n",
       "    <tr>\n",
       "      <th>7773148</th>\n",
       "      <td>44.4</td>\n",
       "      <td>2019</td>\n",
       "      <td>4</td>\n",
       "      <td>30</td>\n",
       "      <td>15</td>\n",
       "      <td>49</td>\n",
       "      <td>15</td>\n",
       "    </tr>\n",
       "    <tr>\n",
       "      <th>6675982</th>\n",
       "      <td>48.7</td>\n",
       "      <td>2019</td>\n",
       "      <td>2</td>\n",
       "      <td>19</td>\n",
       "      <td>4</td>\n",
       "      <td>54</td>\n",
       "      <td>48</td>\n",
       "    </tr>\n",
       "    <tr>\n",
       "      <th>11209375</th>\n",
       "      <td>48.7</td>\n",
       "      <td>2019</td>\n",
       "      <td>12</td>\n",
       "      <td>10</td>\n",
       "      <td>22</td>\n",
       "      <td>11</td>\n",
       "      <td>48</td>\n",
       "    </tr>\n",
       "    <tr>\n",
       "      <th>1665597</th>\n",
       "      <td>48.2</td>\n",
       "      <td>2018</td>\n",
       "      <td>4</td>\n",
       "      <td>10</td>\n",
       "      <td>7</td>\n",
       "      <td>22</td>\n",
       "      <td>28</td>\n",
       "    </tr>\n",
       "  </tbody>\n",
       "</table>\n",
       "</div>"
      ],
      "text/plain": [
       "          temp  year  month  day  hour  minute  second\n",
       "13255007  59.0  2020      4   21    22      53      20\n",
       "7773148   44.4  2019      4   30    15      49      15\n",
       "6675982   48.7  2019      2   19     4      54      48\n",
       "11209375  48.7  2019     12   10    22      11      48\n",
       "1665597   48.2  2018      4   10     7      22      28"
      ]
     },
     "execution_count": 3,
     "metadata": {},
     "output_type": "execute_result"
    }
   ],
   "source": [
    "df = df.sample(frac=0.1, random_state=101) #optional, per machine configuration\n",
    "df.head()"
   ]
  },
  {
   "cell_type": "code",
   "execution_count": 4,
   "metadata": {},
   "outputs": [],
   "source": [
    "dummies = pd.get_dummies(df, columns = ['year','month','day','hour','minute','second'], \n",
    "                         prefix = ['year','month','day','hour','minute','second'], drop_first=True)\n",
    "\n",
    "df = df.drop(['year', 'month','day','hour','minute','second', 'temp'],axis=1)\n",
    "df = pd.concat([df,dummies],axis=1)\n"
   ]
  },
  {
   "cell_type": "code",
   "execution_count": 5,
   "metadata": {},
   "outputs": [
    {
     "data": {
      "text/plain": [
       "1331006"
      ]
     },
     "execution_count": 5,
     "metadata": {},
     "output_type": "execute_result"
    }
   ],
   "source": [
    "len(df)"
   ]
  },
  {
   "cell_type": "code",
   "execution_count": 7,
   "metadata": {},
   "outputs": [],
   "source": [
    "X = df.drop('temp', axis=1).values\n",
    "y = df['temp'].values\n",
    "\n",
    "X_train, X_test, y_train, y_test = train_test_split(X, y, test_size=0.20, random_state=101)\n",
    "\n",
    "scaler = MinMaxScaler()\n",
    "X_train = scaler.fit_transform(X_train)\n",
    "X_test =scaler.transform(X_test)"
   ]
  },
  {
   "cell_type": "code",
   "execution_count": 11,
   "metadata": {},
   "outputs": [
    {
     "name": "stdout",
     "output_type": "stream",
     "text": [
      "Train on 403048 samples, validate on 100762 samples\n",
      "Epoch 1/100\n",
      "403048/403048 [==============================] - 13s 31us/sample - loss: 2322.8519 - val_loss: 2248.3778\n",
      "Epoch 2/100\n",
      "403048/403048 [==============================] - 11s 27us/sample - loss: 2175.2877 - val_loss: 2103.8116\n",
      "Epoch 3/100\n",
      "403048/403048 [==============================] - 11s 27us/sample - loss: 2033.4748 - val_loss: 1964.6393\n",
      "Epoch 4/100\n",
      "403048/403048 [==============================] - 11s 27us/sample - loss: 1896.8428 - val_loss: 1830.4899\n",
      "Epoch 5/100\n",
      "403048/403048 [==============================] - 11s 27us/sample - loss: 1765.1604 - val_loss: 1701.2426\n",
      "Epoch 6/100\n",
      "403048/403048 [==============================] - 11s 27us/sample - loss: 1638.3573 - val_loss: 1576.8544\n",
      "Epoch 7/100\n",
      "403048/403048 [==============================] - 11s 27us/sample - loss: 1516.4000 - val_loss: 1457.3075\n",
      "Epoch 8/100\n",
      "403048/403048 [==============================] - 11s 26us/sample - loss: 1399.2835 - val_loss: 1342.5947\n",
      "Epoch 9/100\n",
      "403048/403048 [==============================] - 11s 27us/sample - loss: 1286.9943 - val_loss: 1232.7082\n",
      "Epoch 10/100\n",
      "403048/403048 [==============================] - 11s 26us/sample - loss: 1179.5310 - val_loss: 1127.6454\n",
      "Epoch 11/100\n",
      "403048/403048 [==============================] - 11s 27us/sample - loss: 1076.8859 - val_loss: 1027.3932\n",
      "Epoch 12/100\n",
      "403048/403048 [==============================] - 11s 27us/sample - loss: 979.0531 - val_loss: 931.9566\n",
      "Epoch 13/100\n",
      "403048/403048 [==============================] - 11s 27us/sample - loss: 886.0189 - val_loss: 841.3069\n",
      "Epoch 14/100\n",
      "403048/403048 [==============================] - 11s 26us/sample - loss: 797.7829 - val_loss: 755.4590\n",
      "Epoch 15/100\n",
      "403048/403048 [==============================] - 11s 27us/sample - loss: 714.3408 - val_loss: 674.3969\n",
      "Epoch 16/100\n",
      "403048/403048 [==============================] - 11s 26us/sample - loss: 635.6767 - val_loss: 598.1065\n",
      "Epoch 17/100\n",
      "403048/403048 [==============================] - 11s 27us/sample - loss: 561.7726 - val_loss: 526.5680\n",
      "Epoch 18/100\n",
      "403048/403048 [==============================] - 11s 27us/sample - loss: 492.6277 - val_loss: 459.7888\n",
      "Epoch 19/100\n",
      "403048/403048 [==============================] - 11s 26us/sample - loss: 428.2211 - val_loss: 397.7337\n",
      "Epoch 20/100\n",
      "403048/403048 [==============================] - 11s 26us/sample - loss: 368.5398 - val_loss: 340.3998\n",
      "Epoch 21/100\n",
      "403048/403048 [==============================] - 11s 26us/sample - loss: 313.5679 - val_loss: 287.7638\n",
      "Epoch 22/100\n",
      "403048/403048 [==============================] - 11s 27us/sample - loss: 263.2839 - val_loss: 239.8049\n",
      "Epoch 23/100\n",
      "403048/403048 [==============================] - 11s 27us/sample - loss: 217.6575 - val_loss: 196.4859\n",
      "Epoch 24/100\n",
      "403048/403048 [==============================] - 11s 27us/sample - loss: 176.6589 - val_loss: 157.7820\n",
      "Epoch 25/100\n",
      "403048/403048 [==============================] - 11s 27us/sample - loss: 140.2530 - val_loss: 123.6474\n",
      "Epoch 26/100\n",
      "403048/403048 [==============================] - 11s 27us/sample - loss: 108.3983 - val_loss: 94.0398\n",
      "Epoch 27/100\n",
      "403048/403048 [==============================] - 11s 26us/sample - loss: 81.0376 - val_loss: 68.8927\n",
      "Epoch 28/100\n",
      "403048/403048 [==============================] - 11s 27us/sample - loss: 58.0968 - val_loss: 48.1221\n",
      "Epoch 29/100\n",
      "403048/403048 [==============================] - 11s 26us/sample - loss: 39.4811 - val_loss: 31.6190\n",
      "Epoch 30/100\n",
      "403048/403048 [==============================] - 11s 27us/sample - loss: 25.0552 - val_loss: 19.2201\n",
      "Epoch 31/100\n",
      "403048/403048 [==============================] - 11s 26us/sample - loss: 14.6242 - val_loss: 10.6870\n",
      "Epoch 32/100\n",
      "403048/403048 [==============================] - 11s 27us/sample - loss: 7.8804 - val_loss: 5.6337\n",
      "Epoch 33/100\n",
      "403048/403048 [==============================] - 11s 26us/sample - loss: 4.3125 - val_loss: 3.3936\n",
      "Epoch 34/100\n",
      "403048/403048 [==============================] - 11s 27us/sample - loss: 3.0472 - val_loss: 2.8704\n",
      "Epoch 35/100\n",
      "403048/403048 [==============================] - 11s 27us/sample - loss: 2.8512 - val_loss: 2.8409\n",
      "Epoch 36/100\n",
      "403048/403048 [==============================] - 11s 27us/sample - loss: 2.8455 - val_loss: 2.8408\n",
      "Epoch 37/100\n",
      "403048/403048 [==============================] - 11s 27us/sample - loss: 2.8455 - val_loss: 2.8408\n",
      "Epoch 38/100\n",
      "403048/403048 [==============================] - 11s 26us/sample - loss: 2.8455 - val_loss: 2.8409\n",
      "Epoch 39/100\n",
      "403048/403048 [==============================] - 11s 26us/sample - loss: 2.8456 - val_loss: 2.8408\n",
      "Epoch 40/100\n",
      "403048/403048 [==============================] - 11s 27us/sample - loss: 2.8455 - val_loss: 2.8408\n",
      "Epoch 41/100\n",
      "403048/403048 [==============================] - 11s 27us/sample - loss: 2.8455 - val_loss: 2.8410\n",
      "Epoch 42/100\n",
      "403048/403048 [==============================] - 11s 27us/sample - loss: 2.8456 - val_loss: 2.8408\n",
      "Epoch 43/100\n",
      "403048/403048 [==============================] - 11s 27us/sample - loss: 2.8456 - val_loss: 2.8408\n",
      "Epoch 44/100\n",
      "403048/403048 [==============================] - 11s 27us/sample - loss: 2.8456 - val_loss: 2.8408\n",
      "Epoch 45/100\n",
      "403048/403048 [==============================] - 11s 27us/sample - loss: 2.8456 - val_loss: 2.8408\n",
      "Epoch 46/100\n",
      "403048/403048 [==============================] - 11s 27us/sample - loss: 2.8455 - val_loss: 2.8409\n",
      "Epoch 47/100\n",
      "403048/403048 [==============================] - 11s 27us/sample - loss: 2.8456 - val_loss: 2.8408\n",
      "Epoch 48/100\n",
      "403048/403048 [==============================] - 11s 27us/sample - loss: 2.8456 - val_loss: 2.8408\n",
      "Epoch 49/100\n",
      "403048/403048 [==============================] - 11s 27us/sample - loss: 2.8456 - val_loss: 2.8408\n",
      "Epoch 50/100\n",
      "403048/403048 [==============================] - 11s 26us/sample - loss: 2.8455 - val_loss: 2.8409\n",
      "Epoch 51/100\n",
      "403048/403048 [==============================] - 11s 27us/sample - loss: 2.8456 - val_loss: 2.8409\n",
      "Epoch 52/100\n",
      "403048/403048 [==============================] - 11s 26us/sample - loss: 2.8455 - val_loss: 2.8408\n",
      "Epoch 53/100\n",
      "403048/403048 [==============================] - 11s 26us/sample - loss: 2.8456 - val_loss: 2.8409\n",
      "Epoch 54/100\n",
      "403048/403048 [==============================] - 11s 27us/sample - loss: 2.8455 - val_loss: 2.8409\n",
      "Epoch 55/100\n",
      "403048/403048 [==============================] - 11s 27us/sample - loss: 2.8456 - val_loss: 2.8411\n",
      "Epoch 56/100\n",
      "403048/403048 [==============================] - 11s 27us/sample - loss: 2.8455 - val_loss: 2.8408\n",
      "Epoch 57/100\n",
      "403048/403048 [==============================] - 11s 26us/sample - loss: 2.8456 - val_loss: 2.8409\n",
      "Epoch 58/100\n",
      "403048/403048 [==============================] - 11s 27us/sample - loss: 2.8455 - val_loss: 2.8411\n",
      "Epoch 59/100\n",
      "403048/403048 [==============================] - 11s 27us/sample - loss: 2.8456 - val_loss: 2.8409\n",
      "Epoch 60/100\n",
      "403048/403048 [==============================] - 11s 27us/sample - loss: 2.8456 - val_loss: 2.8409\n",
      "Epoch 61/100\n",
      "403048/403048 [==============================] - 11s 27us/sample - loss: 2.8456 - val_loss: 2.8409\n",
      "Epoch 62/100\n",
      "403048/403048 [==============================] - 11s 26us/sample - loss: 2.8455 - val_loss: 2.8409\n",
      "Epoch 63/100\n",
      "403048/403048 [==============================] - 11s 27us/sample - loss: 2.8455 - val_loss: 2.8409\n",
      "Epoch 64/100\n",
      "403048/403048 [==============================] - 11s 27us/sample - loss: 2.8456 - val_loss: 2.8410\n",
      "Epoch 65/100\n",
      "403048/403048 [==============================] - 11s 27us/sample - loss: 2.8455 - val_loss: 2.8410\n",
      "Epoch 66/100\n",
      "403048/403048 [==============================] - 11s 26us/sample - loss: 2.8455 - val_loss: 2.8408\n",
      "Epoch 67/100\n",
      "403048/403048 [==============================] - 11s 26us/sample - loss: 2.8455 - val_loss: 2.8408\n",
      "Epoch 68/100\n",
      "403048/403048 [==============================] - 11s 27us/sample - loss: 2.8455 - val_loss: 2.8408\n",
      "Epoch 69/100\n",
      "403048/403048 [==============================] - 11s 27us/sample - loss: 2.8455 - val_loss: 2.8409\n",
      "Epoch 70/100\n",
      "403048/403048 [==============================] - 11s 27us/sample - loss: 2.8455 - val_loss: 2.8408\n",
      "Epoch 71/100\n",
      "403048/403048 [==============================] - 11s 27us/sample - loss: 2.8455 - val_loss: 2.8408\n",
      "Epoch 72/100\n",
      "403048/403048 [==============================] - 11s 27us/sample - loss: 2.8456 - val_loss: 2.8410\n",
      "Epoch 73/100\n",
      "403048/403048 [==============================] - 11s 27us/sample - loss: 2.8455 - val_loss: 2.8409\n",
      "Epoch 74/100\n",
      "403048/403048 [==============================] - 11s 27us/sample - loss: 2.8455 - val_loss: 2.8408\n",
      "Epoch 75/100\n",
      "403048/403048 [==============================] - 11s 27us/sample - loss: 2.8456 - val_loss: 2.8409\n",
      "Epoch 76/100\n",
      "403048/403048 [==============================] - 11s 27us/sample - loss: 2.8455 - val_loss: 2.8410\n",
      "Epoch 77/100\n",
      "403048/403048 [==============================] - 11s 27us/sample - loss: 2.8456 - val_loss: 2.8408\n",
      "Epoch 78/100\n",
      "403048/403048 [==============================] - 11s 26us/sample - loss: 2.8455 - val_loss: 2.8409\n",
      "Epoch 79/100\n",
      "403048/403048 [==============================] - 11s 27us/sample - loss: 2.8455 - val_loss: 2.8408\n",
      "Epoch 80/100\n",
      "403048/403048 [==============================] - 11s 27us/sample - loss: 2.8456 - val_loss: 2.8409\n",
      "Epoch 81/100\n",
      "403048/403048 [==============================] - 11s 27us/sample - loss: 2.8455 - val_loss: 2.8408\n",
      "Epoch 82/100\n",
      "403048/403048 [==============================] - 11s 27us/sample - loss: 2.8455 - val_loss: 2.8409\n",
      "Epoch 83/100\n",
      "403048/403048 [==============================] - 11s 27us/sample - loss: 2.8456 - val_loss: 2.8409\n",
      "Epoch 84/100\n",
      "403048/403048 [==============================] - 11s 27us/sample - loss: 2.8456 - val_loss: 2.8408\n",
      "Epoch 85/100\n",
      "403048/403048 [==============================] - 11s 26us/sample - loss: 2.8456 - val_loss: 2.8408\n",
      "Epoch 86/100\n",
      "403048/403048 [==============================] - 11s 27us/sample - loss: 2.8455 - val_loss: 2.8408\n",
      "Epoch 87/100\n",
      "403048/403048 [==============================] - 11s 27us/sample - loss: 2.8456 - val_loss: 2.8409\n",
      "Epoch 88/100\n",
      "403048/403048 [==============================] - 11s 27us/sample - loss: 2.8455 - val_loss: 2.8409\n",
      "Epoch 89/100\n",
      "403048/403048 [==============================] - 11s 27us/sample - loss: 2.8456 - val_loss: 2.8408\n",
      "Epoch 90/100\n",
      "403048/403048 [==============================] - 11s 27us/sample - loss: 2.8455 - val_loss: 2.8412\n",
      "Epoch 91/100\n",
      "403048/403048 [==============================] - 11s 26us/sample - loss: 2.8455 - val_loss: 2.8410\n",
      "Epoch 92/100\n",
      "403048/403048 [==============================] - 11s 26us/sample - loss: 2.8456 - val_loss: 2.8409\n",
      "Epoch 93/100\n",
      "403048/403048 [==============================] - 11s 27us/sample - loss: 2.8455 - val_loss: 2.8411\n",
      "Epoch 94/100\n",
      "403048/403048 [==============================] - 11s 26us/sample - loss: 2.8456 - val_loss: 2.8410\n",
      "Epoch 95/100\n",
      "403048/403048 [==============================] - 11s 27us/sample - loss: 2.8455 - val_loss: 2.8409\n",
      "Epoch 96/100\n",
      "403048/403048 [==============================] - 11s 27us/sample - loss: 2.8455 - val_loss: 2.8408\n",
      "Epoch 97/100\n",
      "403048/403048 [==============================] - 11s 27us/sample - loss: 2.8455 - val_loss: 2.8409\n",
      "Epoch 98/100\n",
      "403048/403048 [==============================] - 11s 27us/sample - loss: 2.8455 - val_loss: 2.8408\n",
      "Epoch 99/100\n",
      "403048/403048 [==============================] - 11s 27us/sample - loss: 2.8455 - val_loss: 2.8408\n",
      "Epoch 100/100\n",
      "403048/403048 [==============================] - 11s 27us/sample - loss: 2.8456 - val_loss: 2.8408\n"
     ]
    },
    {
     "data": {
      "text/plain": [
       "<tensorflow.python.keras.callbacks.History at 0x9d9a97b0>"
      ]
     },
     "execution_count": 11,
     "metadata": {},
     "output_type": "execute_result"
    }
   ],
   "source": [
    "model = Sequential()\n",
    "\n",
    "model.add(Dense(6, activation = 'relu'))\n",
    "model.add(Dropout(0.2))\n",
    "\n",
    "model.add(Dense(3, activation = 'relu'))\n",
    "model.add(Dropout(0.2))\n",
    "\n",
    "model.add(Dense(2, activation = 'relu'))\n",
    "model.add(Dropout(0.2))\n",
    "\n",
    "model.add(Dense(1))\n",
    "\n",
    "model.compile(loss = 'mse', optimizer='adam')\n",
    "\n",
    "model.fit(x = X_train, y=y_train, batch_size=256, epochs=25, validation_data=(X_test, y_test))"
   ]
  },
  {
   "cell_type": "code",
   "execution_count": 12,
   "metadata": {},
   "outputs": [],
   "source": [
    "losses = pd.DataFrame(model.history.history)"
   ]
  },
  {
   "cell_type": "code",
   "execution_count": 13,
   "metadata": {},
   "outputs": [
    {
     "data": {
      "text/plain": [
       "<matplotlib.axes._subplots.AxesSubplot at 0x8b42c970>"
      ]
     },
     "execution_count": 13,
     "metadata": {},
     "output_type": "execute_result"
    },
    {
     "data": {
      "image/png": "[encoded data removed]",
      "text/plain": [
       "<Figure size 432x288 with 1 Axes>"
      ]
     },
     "metadata": {
      "needs_background": "light"
     },
     "output_type": "display_data"
    }
   ],
   "source": [
    "losses.plot()"
   ]
  },
  {
   "cell_type": "code",
   "execution_count": 18,
   "metadata": {},
   "outputs": [],
   "source": [
    "pd.set_option('display.max_columns', 500)"
   ]
  },
  {
   "cell_type": "code",
   "execution_count": 19,
   "metadata": {},
   "outputs": [
    {
     "data": {
      "text/plain": [
       "Index(['temp', 'day_2', 'day_3', 'day_4', 'day_5', 'day_6', 'day_7', 'day_8',\n",
       "       'day_9', 'day_10',\n",
       "       ...\n",
       "       'second_50', 'second_51', 'second_52', 'second_53', 'second_54',\n",
       "       'second_55', 'second_56', 'second_57', 'second_58', 'second_59'],\n",
       "      dtype='object', length=171)"
      ]
     },
     "execution_count": 19,
     "metadata": {},
     "output_type": "execute_result"
    }
   ],
   "source": [
    "df.columns"
   ]
  },
  {
   "cell_type": "code",
   "execution_count": 64,
   "metadata": {},
   "outputs": [],
   "source": [
    "X = df.drop('temp', axis=1).values"
   ]
  },
  {
   "cell_type": "code",
   "execution_count": 66,
   "metadata": {},
   "outputs": [
    {
     "data": {
      "text/plain": [
       "array([[48.946777]], dtype=float32)"
      ]
     },
     "execution_count": 66,
     "metadata": {},
     "output_type": "execute_result"
    }
   ],
   "source": [
    "newCase = \"2020-03-29 01:29:27\"\n",
    "year = \"year_\" + str(int(newCase.split(\" \")[0].split(\"-\")[0]))\n",
    "month =\"month_\" + str(int(newCase.split(\" \")[0].split(\"-\")[1]))\n",
    "day = \"day_\" + str(int(newCase.split(\" \")[0].split(\"-\")[2]))\n",
    "hour = \"hour_\" + str(int(newCase.split(\" \")[1].split(\":\")[0]))\n",
    "minute = \"minute_\" + str(int(newCase.split(\" \")[1].split(\":\")[1]))\n",
    "second = \"second_\" + str(int(newCase.split(\" \")[1].split(\":\")[2]))\n",
    "\n",
    "# print(year, month, day, hour, minute, second)\n",
    "\n",
    "testData = df.drop('temp', axis = 1).iloc[0]\n",
    "# print(testData)\n",
    "\n",
    "for i in range(len(testData)): # reset the current row s\n",
    "    testData[i]=0\n",
    "testData[year] = 1\n",
    "testData[month] = 1\n",
    "testData[day] = 1\n",
    "testData[hour] = 1\n",
    "testData[minute] = 1\n",
    "testData[second] = 1\n",
    "\n",
    "model.predict(testData.values.reshape(1,-1))\n",
    "\n",
    "\n",
    "\n",
    "\n",
    "\n"
   ]
  },
  {
   "cell_type": "code",
   "execution_count": 24,
   "metadata": {},
   "outputs": [
    {
     "name": "stdout",
     "output_type": "stream",
     "text": [
      "temp         50.8\n",
      "day_2         0.0\n",
      "day_3         0.0\n",
      "day_4         0.0\n",
      "day_5         0.0\n",
      "             ... \n",
      "second_55     0.0\n",
      "second_56     0.0\n",
      "second_57     0.0\n",
      "second_58     0.0\n",
      "second_59     0.0\n",
      "Name: 0, Length: 171, dtype: float64\n"
     ]
    }
   ],
   "source": [
    "print(testData)"
   ]
  },
  {
   "cell_type": "code",
   "execution_count": null,
   "metadata": {},
   "outputs": [],
   "source": []
  }
 ],
 "metadata": {
  "kernelspec": {
   "display_name": "Python 3",
   "language": "python",
   "name": "python3"
  },
  "language_info": {
   "codemirror_mode": {
    "name": "ipython",
    "version": 3
   },
   "file_extension": ".py",
   "mimetype": "text/x-python",
   "name": "python",
   "nbconvert_exporter": "python",
   "pygments_lexer": "ipython3",
   "version": "3.7.3"
  }
 },
 "nbformat": 4,
 "nbformat_minor": 4
}
